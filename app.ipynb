{
 "cells": [
  {
   "metadata": {},
   "cell_type": "markdown",
   "source": "# 🧪 Recolha e Exploração de Dados",
   "id": "a6cb72b9de0dc967"
  },
  {
   "metadata": {
    "ExecuteTime": {
     "end_time": "2025-04-02T11:19:43.341200Z",
     "start_time": "2025-04-02T11:19:43.337135Z"
    }
   },
   "cell_type": "code",
   "source": [
    "# Importar bibliotecas necessárias\n",
    "import pandas as pd"
   ],
   "id": "112dc7661363411e",
   "outputs": [],
   "execution_count": 323
  },
  {
   "metadata": {
    "ExecuteTime": {
     "end_time": "2025-04-02T11:19:46.389880Z",
     "start_time": "2025-04-02T11:19:43.345219Z"
    }
   },
   "cell_type": "code",
   "source": [
    "# Abrir o ficheiro com ; como separador\n",
    "df = pd.read_csv('datasets/consumos_horario_codigo_postal.csv', sep=';')"
   ],
   "id": "d018784a5888fdf",
   "outputs": [],
   "execution_count": 324
  },
  {
   "metadata": {
    "ExecuteTime": {
     "end_time": "2025-04-02T11:19:46.408988Z",
     "start_time": "2025-04-02T11:19:46.402969Z"
    }
   },
   "cell_type": "code",
   "source": [
    "# Confirmar a leitura correta das colunas\n",
    "df.columns"
   ],
   "id": "a3751aaa62b2ec31",
   "outputs": [
    {
     "data": {
      "text/plain": [
       "Index(['Date/Time', 'Date', 'Hour', 'Zip Code', 'Active Energy (kWh)',\n",
       "       'Day of the Week'],\n",
       "      dtype='object')"
      ]
     },
     "execution_count": 325,
     "metadata": {},
     "output_type": "execute_result"
    }
   ],
   "execution_count": 325
  },
  {
   "metadata": {
    "ExecuteTime": {
     "end_time": "2025-04-02T11:19:46.438168Z",
     "start_time": "2025-04-02T11:19:46.431052Z"
    }
   },
   "cell_type": "code",
   "source": [
    "# Verificar tipos de dados\n",
    "df.dtypes  # mostra o tipo de cada coluna"
   ],
   "id": "69e7179c111c6d4e",
   "outputs": [
    {
     "data": {
      "text/plain": [
       "Date/Time               object\n",
       "Date                    object\n",
       "Hour                    object\n",
       "Zip Code                object\n",
       "Active Energy (kWh)    float64\n",
       "Day of the Week         object\n",
       "dtype: object"
      ]
     },
     "execution_count": 326,
     "metadata": {},
     "output_type": "execute_result"
    }
   ],
   "execution_count": 326
  },
  {
   "metadata": {
    "ExecuteTime": {
     "end_time": "2025-04-02T11:19:46.491495Z",
     "start_time": "2025-04-02T11:19:46.485816Z"
    }
   },
   "cell_type": "code",
   "source": [
    "# Verificar n.º de registos\n",
    "df.shape  # mostra (número de linhas, número de colunas)"
   ],
   "id": "1bebd5407121ea88",
   "outputs": [
    {
     "data": {
      "text/plain": [
       "(3727439, 6)"
      ]
     },
     "execution_count": 327,
     "metadata": {},
     "output_type": "execute_result"
    }
   ],
   "execution_count": 327
  },
  {
   "metadata": {
    "ExecuteTime": {
     "end_time": "2025-04-02T11:19:46.579932Z",
     "start_time": "2025-04-02T11:19:46.571002Z"
    }
   },
   "cell_type": "code",
   "source": [
    "# Visualizar primeiras linhas\n",
    "df.head()  # primeiros 5 registos"
   ],
   "id": "821777039df0a0eb",
   "outputs": [
    {
     "data": {
      "text/plain": [
       "                   Date/Time        Date   Hour Zip Code  Active Energy (kWh)  \\\n",
       "0  2023-03-19T00:00:00+00:00  2023-03-19  00:00     2025          4596.739709   \n",
       "1  2023-09-23T12:00:00+01:00  2023-09-23  12:00     4405         14711.438243   \n",
       "2  2023-02-15T05:00:00+00:00  2023-02-15  05:00     1600         21440.512557   \n",
       "3  2023-02-05T11:00:00+00:00  2023-02-05  11:00     3030         16974.037997   \n",
       "4  2023-02-13T09:00:00+00:00  2023-02-13  09:00     4720          7247.291623   \n",
       "\n",
       "  Day of the Week  \n",
       "0         Domingo  \n",
       "1          Sábado  \n",
       "2          Quarta  \n",
       "3         Domingo  \n",
       "4         Segunda  "
      ],
      "text/html": [
       "<div>\n",
       "<style scoped>\n",
       "    .dataframe tbody tr th:only-of-type {\n",
       "        vertical-align: middle;\n",
       "    }\n",
       "\n",
       "    .dataframe tbody tr th {\n",
       "        vertical-align: top;\n",
       "    }\n",
       "\n",
       "    .dataframe thead th {\n",
       "        text-align: right;\n",
       "    }\n",
       "</style>\n",
       "<table border=\"1\" class=\"dataframe\">\n",
       "  <thead>\n",
       "    <tr style=\"text-align: right;\">\n",
       "      <th></th>\n",
       "      <th>Date/Time</th>\n",
       "      <th>Date</th>\n",
       "      <th>Hour</th>\n",
       "      <th>Zip Code</th>\n",
       "      <th>Active Energy (kWh)</th>\n",
       "      <th>Day of the Week</th>\n",
       "    </tr>\n",
       "  </thead>\n",
       "  <tbody>\n",
       "    <tr>\n",
       "      <th>0</th>\n",
       "      <td>2023-03-19T00:00:00+00:00</td>\n",
       "      <td>2023-03-19</td>\n",
       "      <td>00:00</td>\n",
       "      <td>2025</td>\n",
       "      <td>4596.739709</td>\n",
       "      <td>Domingo</td>\n",
       "    </tr>\n",
       "    <tr>\n",
       "      <th>1</th>\n",
       "      <td>2023-09-23T12:00:00+01:00</td>\n",
       "      <td>2023-09-23</td>\n",
       "      <td>12:00</td>\n",
       "      <td>4405</td>\n",
       "      <td>14711.438243</td>\n",
       "      <td>Sábado</td>\n",
       "    </tr>\n",
       "    <tr>\n",
       "      <th>2</th>\n",
       "      <td>2023-02-15T05:00:00+00:00</td>\n",
       "      <td>2023-02-15</td>\n",
       "      <td>05:00</td>\n",
       "      <td>1600</td>\n",
       "      <td>21440.512557</td>\n",
       "      <td>Quarta</td>\n",
       "    </tr>\n",
       "    <tr>\n",
       "      <th>3</th>\n",
       "      <td>2023-02-05T11:00:00+00:00</td>\n",
       "      <td>2023-02-05</td>\n",
       "      <td>11:00</td>\n",
       "      <td>3030</td>\n",
       "      <td>16974.037997</td>\n",
       "      <td>Domingo</td>\n",
       "    </tr>\n",
       "    <tr>\n",
       "      <th>4</th>\n",
       "      <td>2023-02-13T09:00:00+00:00</td>\n",
       "      <td>2023-02-13</td>\n",
       "      <td>09:00</td>\n",
       "      <td>4720</td>\n",
       "      <td>7247.291623</td>\n",
       "      <td>Segunda</td>\n",
       "    </tr>\n",
       "  </tbody>\n",
       "</table>\n",
       "</div>"
      ]
     },
     "execution_count": 328,
     "metadata": {},
     "output_type": "execute_result"
    }
   ],
   "execution_count": 328
  },
  {
   "metadata": {
    "ExecuteTime": {
     "end_time": "2025-04-02T11:19:46.684063Z",
     "start_time": "2025-04-02T11:19:46.675031Z"
    }
   },
   "cell_type": "code",
   "source": [
    "# Visualizar últimas linhas\n",
    "df.tail()  # últimos 5 registos"
   ],
   "id": "f6ffa242fdca7555",
   "outputs": [
    {
     "data": {
      "text/plain": [
       "                         Date/Time        Date   Hour Zip Code  \\\n",
       "3727434  2023-02-09T10:00:00+00:00  2023-02-09  10:00     4405   \n",
       "3727435  2023-02-14T10:00:00+00:00  2023-02-14  10:00     4870   \n",
       "3727436  2023-02-07T15:00:00+00:00  2023-02-07  15:00     4475   \n",
       "3727437  2023-02-23T21:00:00+00:00  2023-02-23  21:00     5350   \n",
       "3727438  2023-02-19T12:00:00+00:00  2023-02-19  12:00     3610   \n",
       "\n",
       "         Active Energy (kWh) Day of the Week  \n",
       "3727434         19433.670144          Quinta  \n",
       "3727435          2314.309648           Terça  \n",
       "3727436        113968.770238           Terça  \n",
       "3727437          1731.337009          Quinta  \n",
       "3727438          2519.575060         Domingo  "
      ],
      "text/html": [
       "<div>\n",
       "<style scoped>\n",
       "    .dataframe tbody tr th:only-of-type {\n",
       "        vertical-align: middle;\n",
       "    }\n",
       "\n",
       "    .dataframe tbody tr th {\n",
       "        vertical-align: top;\n",
       "    }\n",
       "\n",
       "    .dataframe thead th {\n",
       "        text-align: right;\n",
       "    }\n",
       "</style>\n",
       "<table border=\"1\" class=\"dataframe\">\n",
       "  <thead>\n",
       "    <tr style=\"text-align: right;\">\n",
       "      <th></th>\n",
       "      <th>Date/Time</th>\n",
       "      <th>Date</th>\n",
       "      <th>Hour</th>\n",
       "      <th>Zip Code</th>\n",
       "      <th>Active Energy (kWh)</th>\n",
       "      <th>Day of the Week</th>\n",
       "    </tr>\n",
       "  </thead>\n",
       "  <tbody>\n",
       "    <tr>\n",
       "      <th>3727434</th>\n",
       "      <td>2023-02-09T10:00:00+00:00</td>\n",
       "      <td>2023-02-09</td>\n",
       "      <td>10:00</td>\n",
       "      <td>4405</td>\n",
       "      <td>19433.670144</td>\n",
       "      <td>Quinta</td>\n",
       "    </tr>\n",
       "    <tr>\n",
       "      <th>3727435</th>\n",
       "      <td>2023-02-14T10:00:00+00:00</td>\n",
       "      <td>2023-02-14</td>\n",
       "      <td>10:00</td>\n",
       "      <td>4870</td>\n",
       "      <td>2314.309648</td>\n",
       "      <td>Terça</td>\n",
       "    </tr>\n",
       "    <tr>\n",
       "      <th>3727436</th>\n",
       "      <td>2023-02-07T15:00:00+00:00</td>\n",
       "      <td>2023-02-07</td>\n",
       "      <td>15:00</td>\n",
       "      <td>4475</td>\n",
       "      <td>113968.770238</td>\n",
       "      <td>Terça</td>\n",
       "    </tr>\n",
       "    <tr>\n",
       "      <th>3727437</th>\n",
       "      <td>2023-02-23T21:00:00+00:00</td>\n",
       "      <td>2023-02-23</td>\n",
       "      <td>21:00</td>\n",
       "      <td>5350</td>\n",
       "      <td>1731.337009</td>\n",
       "      <td>Quinta</td>\n",
       "    </tr>\n",
       "    <tr>\n",
       "      <th>3727438</th>\n",
       "      <td>2023-02-19T12:00:00+00:00</td>\n",
       "      <td>2023-02-19</td>\n",
       "      <td>12:00</td>\n",
       "      <td>3610</td>\n",
       "      <td>2519.575060</td>\n",
       "      <td>Domingo</td>\n",
       "    </tr>\n",
       "  </tbody>\n",
       "</table>\n",
       "</div>"
      ]
     },
     "execution_count": 329,
     "metadata": {},
     "output_type": "execute_result"
    }
   ],
   "execution_count": 329
  },
  {
   "metadata": {
    "ExecuteTime": {
     "end_time": "2025-04-02T11:19:48.505574Z",
     "start_time": "2025-04-02T11:19:46.761932Z"
    }
   },
   "cell_type": "code",
   "source": [
    "#  Criar a coluna Datetime\n",
    "df['Datetime'] = pd.to_datetime(df['Date'] + ' ' + df['Hour'], format='%Y-%m-%d %H:%M')\n",
    "\n",
    "# Eliminar a coluna Date/Time, Date, Hour\n",
    "df.drop(columns=['Date/Time', 'Date', 'Hour'], inplace=True)\n",
    "\n",
    "df.head()"
   ],
   "id": "50e9b357926b7a64",
   "outputs": [
    {
     "data": {
      "text/plain": [
       "  Zip Code  Active Energy (kWh) Day of the Week            Datetime\n",
       "0     2025          4596.739709         Domingo 2023-03-19 00:00:00\n",
       "1     4405         14711.438243          Sábado 2023-09-23 12:00:00\n",
       "2     1600         21440.512557          Quarta 2023-02-15 05:00:00\n",
       "3     3030         16974.037997         Domingo 2023-02-05 11:00:00\n",
       "4     4720          7247.291623         Segunda 2023-02-13 09:00:00"
      ],
      "text/html": [
       "<div>\n",
       "<style scoped>\n",
       "    .dataframe tbody tr th:only-of-type {\n",
       "        vertical-align: middle;\n",
       "    }\n",
       "\n",
       "    .dataframe tbody tr th {\n",
       "        vertical-align: top;\n",
       "    }\n",
       "\n",
       "    .dataframe thead th {\n",
       "        text-align: right;\n",
       "    }\n",
       "</style>\n",
       "<table border=\"1\" class=\"dataframe\">\n",
       "  <thead>\n",
       "    <tr style=\"text-align: right;\">\n",
       "      <th></th>\n",
       "      <th>Zip Code</th>\n",
       "      <th>Active Energy (kWh)</th>\n",
       "      <th>Day of the Week</th>\n",
       "      <th>Datetime</th>\n",
       "    </tr>\n",
       "  </thead>\n",
       "  <tbody>\n",
       "    <tr>\n",
       "      <th>0</th>\n",
       "      <td>2025</td>\n",
       "      <td>4596.739709</td>\n",
       "      <td>Domingo</td>\n",
       "      <td>2023-03-19 00:00:00</td>\n",
       "    </tr>\n",
       "    <tr>\n",
       "      <th>1</th>\n",
       "      <td>4405</td>\n",
       "      <td>14711.438243</td>\n",
       "      <td>Sábado</td>\n",
       "      <td>2023-09-23 12:00:00</td>\n",
       "    </tr>\n",
       "    <tr>\n",
       "      <th>2</th>\n",
       "      <td>1600</td>\n",
       "      <td>21440.512557</td>\n",
       "      <td>Quarta</td>\n",
       "      <td>2023-02-15 05:00:00</td>\n",
       "    </tr>\n",
       "    <tr>\n",
       "      <th>3</th>\n",
       "      <td>3030</td>\n",
       "      <td>16974.037997</td>\n",
       "      <td>Domingo</td>\n",
       "      <td>2023-02-05 11:00:00</td>\n",
       "    </tr>\n",
       "    <tr>\n",
       "      <th>4</th>\n",
       "      <td>4720</td>\n",
       "      <td>7247.291623</td>\n",
       "      <td>Segunda</td>\n",
       "      <td>2023-02-13 09:00:00</td>\n",
       "    </tr>\n",
       "  </tbody>\n",
       "</table>\n",
       "</div>"
      ]
     },
     "execution_count": 330,
     "metadata": {},
     "output_type": "execute_result"
    }
   ],
   "execution_count": 330
  },
  {
   "metadata": {
    "ExecuteTime": {
     "end_time": "2025-04-02T11:19:48.573139Z",
     "start_time": "2025-04-02T11:19:48.570255Z"
    }
   },
   "cell_type": "code",
   "source": [
    "# Extrair ano e mês\n",
    "#df['Year'] = df['Datetime'].dt.year\n",
    "#df['Month'] = df['Datetime'].dt.month"
   ],
   "id": "30705ac3a802f999",
   "outputs": [],
   "execution_count": 331
  },
  {
   "metadata": {
    "ExecuteTime": {
     "end_time": "2025-04-02T11:19:48.628177Z",
     "start_time": "2025-04-02T11:19:48.623660Z"
    }
   },
   "cell_type": "code",
   "source": [
    "# Ver os anos e meses únicos\n",
    "#df.groupby(['Year', 'Month']).size()"
   ],
   "id": "6435f7c9105f07ef",
   "outputs": [],
   "execution_count": 332
  },
  {
   "metadata": {
    "ExecuteTime": {
     "end_time": "2025-04-02T11:19:48.680276Z",
     "start_time": "2025-04-02T11:19:48.676271Z"
    }
   },
   "cell_type": "code",
   "source": [
    " # Tarefa: Anotar problemas visíveis\n",
    "#df.columns # Verifica se as colunas foram bem lidas"
   ],
   "id": "10ba424c6e21b960",
   "outputs": [],
   "execution_count": 333
  },
  {
   "metadata": {
    "ExecuteTime": {
     "end_time": "2025-04-02T11:19:48.696858Z",
     "start_time": "2025-04-02T11:19:48.690825Z"
    }
   },
   "cell_type": "code",
   "source": [
    " # Tarefa: Anotar problemas visíveis\n",
    "df.dtypes  #  Verifica se os tipos de dados fazem sentido"
   ],
   "id": "e8efd0c5a2fa47ac",
   "outputs": [
    {
     "data": {
      "text/plain": [
       "Zip Code                       object\n",
       "Active Energy (kWh)           float64\n",
       "Day of the Week                object\n",
       "Datetime               datetime64[ns]\n",
       "dtype: object"
      ]
     },
     "execution_count": 334,
     "metadata": {},
     "output_type": "execute_result"
    }
   ],
   "execution_count": 334
  },
  {
   "metadata": {
    "ExecuteTime": {
     "end_time": "2025-04-02T11:19:50.449212Z",
     "start_time": "2025-04-02T11:19:48.739879Z"
    }
   },
   "cell_type": "code",
   "source": [
    "# Verifica valores ausentes ou duplicados\n",
    "df.isnull().sum()\n",
    "df.duplicated().sum()"
   ],
   "id": "c748cdaf5ac7bf98",
   "outputs": [
    {
     "data": {
      "text/plain": [
       "np.int64(0)"
      ]
     },
     "execution_count": 335,
     "metadata": {},
     "output_type": "execute_result"
    }
   ],
   "execution_count": 335
  },
  {
   "metadata": {
    "ExecuteTime": {
     "end_time": "2025-04-02T11:19:51.280421Z",
     "start_time": "2025-04-02T11:19:50.479790Z"
    }
   },
   "cell_type": "code",
   "source": [
    "# ordenar os dados pela coluna Datetime\n",
    "df = df.sort_values(by='Datetime').reset_index(drop=True)"
   ],
   "id": "777beb8dd95664fb",
   "outputs": [],
   "execution_count": 336
  },
  {
   "metadata": {
    "ExecuteTime": {
     "end_time": "2025-04-02T11:19:51.293947Z",
     "start_time": "2025-04-02T11:19:51.286949Z"
    }
   },
   "cell_type": "code",
   "source": [
    "# Verifica se está ordenado corretamente\n",
    "df.head()  # Ver primeiros valores"
   ],
   "id": "e019061894c160dc",
   "outputs": [
    {
     "data": {
      "text/plain": [
       "  Zip Code  Active Energy (kWh) Day of the Week   Datetime\n",
       "0     5000         11175.021824           Terça 2022-11-01\n",
       "1     2450          7376.909868           Terça 2022-11-01\n",
       "2     5230           839.171319           Terça 2022-11-01\n",
       "3     3620          2849.440465           Terça 2022-11-01\n",
       "4     2800          5109.779921           Terça 2022-11-01"
      ],
      "text/html": [
       "<div>\n",
       "<style scoped>\n",
       "    .dataframe tbody tr th:only-of-type {\n",
       "        vertical-align: middle;\n",
       "    }\n",
       "\n",
       "    .dataframe tbody tr th {\n",
       "        vertical-align: top;\n",
       "    }\n",
       "\n",
       "    .dataframe thead th {\n",
       "        text-align: right;\n",
       "    }\n",
       "</style>\n",
       "<table border=\"1\" class=\"dataframe\">\n",
       "  <thead>\n",
       "    <tr style=\"text-align: right;\">\n",
       "      <th></th>\n",
       "      <th>Zip Code</th>\n",
       "      <th>Active Energy (kWh)</th>\n",
       "      <th>Day of the Week</th>\n",
       "      <th>Datetime</th>\n",
       "    </tr>\n",
       "  </thead>\n",
       "  <tbody>\n",
       "    <tr>\n",
       "      <th>0</th>\n",
       "      <td>5000</td>\n",
       "      <td>11175.021824</td>\n",
       "      <td>Terça</td>\n",
       "      <td>2022-11-01</td>\n",
       "    </tr>\n",
       "    <tr>\n",
       "      <th>1</th>\n",
       "      <td>2450</td>\n",
       "      <td>7376.909868</td>\n",
       "      <td>Terça</td>\n",
       "      <td>2022-11-01</td>\n",
       "    </tr>\n",
       "    <tr>\n",
       "      <th>2</th>\n",
       "      <td>5230</td>\n",
       "      <td>839.171319</td>\n",
       "      <td>Terça</td>\n",
       "      <td>2022-11-01</td>\n",
       "    </tr>\n",
       "    <tr>\n",
       "      <th>3</th>\n",
       "      <td>3620</td>\n",
       "      <td>2849.440465</td>\n",
       "      <td>Terça</td>\n",
       "      <td>2022-11-01</td>\n",
       "    </tr>\n",
       "    <tr>\n",
       "      <th>4</th>\n",
       "      <td>2800</td>\n",
       "      <td>5109.779921</td>\n",
       "      <td>Terça</td>\n",
       "      <td>2022-11-01</td>\n",
       "    </tr>\n",
       "  </tbody>\n",
       "</table>\n",
       "</div>"
      ]
     },
     "execution_count": 337,
     "metadata": {},
     "output_type": "execute_result"
    }
   ],
   "execution_count": 337
  },
  {
   "metadata": {
    "ExecuteTime": {
     "end_time": "2025-04-02T11:19:51.342399Z",
     "start_time": "2025-04-02T11:19:51.336029Z"
    }
   },
   "cell_type": "code",
   "source": "df.tail()  # Ver últimos valores",
   "id": "525d7519e048998f",
   "outputs": [
    {
     "data": {
      "text/plain": [
       "        Zip Code  Active Energy (kWh) Day of the Week            Datetime\n",
       "3727434     4900          8312.043233          Sábado 2023-09-30 23:00:00\n",
       "3727435     8300          3320.150528          Sábado 2023-09-30 23:00:00\n",
       "3727436     4410         10211.948003          Sábado 2023-09-30 23:00:00\n",
       "3727437     4800          5922.919257          Sábado 2023-09-30 23:00:00\n",
       "3727438     5160          1487.604437          Sábado 2023-09-30 23:00:00"
      ],
      "text/html": [
       "<div>\n",
       "<style scoped>\n",
       "    .dataframe tbody tr th:only-of-type {\n",
       "        vertical-align: middle;\n",
       "    }\n",
       "\n",
       "    .dataframe tbody tr th {\n",
       "        vertical-align: top;\n",
       "    }\n",
       "\n",
       "    .dataframe thead th {\n",
       "        text-align: right;\n",
       "    }\n",
       "</style>\n",
       "<table border=\"1\" class=\"dataframe\">\n",
       "  <thead>\n",
       "    <tr style=\"text-align: right;\">\n",
       "      <th></th>\n",
       "      <th>Zip Code</th>\n",
       "      <th>Active Energy (kWh)</th>\n",
       "      <th>Day of the Week</th>\n",
       "      <th>Datetime</th>\n",
       "    </tr>\n",
       "  </thead>\n",
       "  <tbody>\n",
       "    <tr>\n",
       "      <th>3727434</th>\n",
       "      <td>4900</td>\n",
       "      <td>8312.043233</td>\n",
       "      <td>Sábado</td>\n",
       "      <td>2023-09-30 23:00:00</td>\n",
       "    </tr>\n",
       "    <tr>\n",
       "      <th>3727435</th>\n",
       "      <td>8300</td>\n",
       "      <td>3320.150528</td>\n",
       "      <td>Sábado</td>\n",
       "      <td>2023-09-30 23:00:00</td>\n",
       "    </tr>\n",
       "    <tr>\n",
       "      <th>3727436</th>\n",
       "      <td>4410</td>\n",
       "      <td>10211.948003</td>\n",
       "      <td>Sábado</td>\n",
       "      <td>2023-09-30 23:00:00</td>\n",
       "    </tr>\n",
       "    <tr>\n",
       "      <th>3727437</th>\n",
       "      <td>4800</td>\n",
       "      <td>5922.919257</td>\n",
       "      <td>Sábado</td>\n",
       "      <td>2023-09-30 23:00:00</td>\n",
       "    </tr>\n",
       "    <tr>\n",
       "      <th>3727438</th>\n",
       "      <td>5160</td>\n",
       "      <td>1487.604437</td>\n",
       "      <td>Sábado</td>\n",
       "      <td>2023-09-30 23:00:00</td>\n",
       "    </tr>\n",
       "  </tbody>\n",
       "</table>\n",
       "</div>"
      ]
     },
     "execution_count": 338,
     "metadata": {},
     "output_type": "execute_result"
    }
   ],
   "execution_count": 338
  },
  {
   "metadata": {
    "ExecuteTime": {
     "end_time": "2025-04-02T11:20:04.247330Z",
     "start_time": "2025-04-02T11:19:51.410273Z"
    }
   },
   "cell_type": "code",
   "source": [
    "# Guardar versão limpa do dataset como .csv\n",
    "df.to_csv('datasets/consumo_eredes_limpo.csv', index=False)"
   ],
   "id": "3a36ae89cbb19555",
   "outputs": [],
   "execution_count": 339
  },
  {
   "metadata": {},
   "cell_type": "markdown",
   "source": [
    "### Dataset Limpo\n",
    "- Nome: `consumo_eredes_limpo.csv`\n",
    "- Colunas mantidas: `Zip Code`, `Active Energy (kWh)`, `Day of the Week`\n",
    "- Colunas criadas: `Datetime`\n",
    "- Index ordenado cronologicamente"
   ],
   "id": "6ed7c7e886d19ed5"
  },
  {
   "metadata": {},
   "cell_type": "code",
   "outputs": [],
   "execution_count": null,
   "source": "",
   "id": "cd1887bb1db3bce7"
  }
 ],
 "metadata": {
  "kernelspec": {
   "display_name": "Python 3",
   "language": "python",
   "name": "python3"
  },
  "language_info": {
   "codemirror_mode": {
    "name": "ipython",
    "version": 2
   },
   "file_extension": ".py",
   "mimetype": "text/x-python",
   "name": "python",
   "nbconvert_exporter": "python",
   "pygments_lexer": "ipython2",
   "version": "2.7.6"
  }
 },
 "nbformat": 4,
 "nbformat_minor": 5
}

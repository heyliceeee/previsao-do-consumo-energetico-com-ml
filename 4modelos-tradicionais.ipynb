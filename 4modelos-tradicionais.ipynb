{
 "cells": [
  {
   "metadata": {},
   "cell_type": "markdown",
   "source": "# Modelos Tradicionais (Baseline)",
   "id": "d896ee4086458df3"
  },
  {
   "cell_type": "code",
   "id": "initial_id",
   "metadata": {
    "collapsed": true,
    "ExecuteTime": {
     "end_time": "2025-04-17T14:25:14.250823Z",
     "start_time": "2025-04-17T14:25:14.246565Z"
    }
   },
   "source": [
    "# Importar bibliotecas necessárias\n",
    "# pip install pmdarima scikit-learn matplotlib pandas\n",
    "import pandas as pd\n",
    "from sklearn.metrics import mean_absolute_error, mean_squared_error\n",
    "import matplotlib.pyplot as plt\n",
    "import torch\n",
    "from chronos import BaseChronosPipeline\n",
    "import numpy as np\n",
    "from autogluon.timeseries import TimeSeriesDataFrame, TimeSeriesPredictor\n",
    "from datetime import timedelta\n",
    "from pandas import IndexSlice as idx"
   ],
   "outputs": [],
   "execution_count": 134
  },
  {
   "metadata": {
    "ExecuteTime": {
     "end_time": "2025-04-17T10:46:25.384314Z",
     "start_time": "2025-04-17T10:46:24.652419Z"
    }
   },
   "cell_type": "code",
   "source": [
    "# Abrir o ficheiro\n",
    "df = pd.read_parquet('datasets/consumo_eredes_normalizado.parquet')"
   ],
   "id": "208dfd6de16e224c",
   "outputs": [],
   "execution_count": 42
  },
  {
   "metadata": {
    "ExecuteTime": {
     "end_time": "2025-04-17T10:46:25.594511Z",
     "start_time": "2025-04-17T10:46:25.388319Z"
    }
   },
   "cell_type": "code",
   "source": [
    "# Ordena por tempo\n",
    "df_2840 = df[df[\"ZipCode\"] == \"2840\"].sort_values(\"DateTime\")"
   ],
   "id": "dc17ac2db7ce9e43",
   "outputs": [],
   "execution_count": 43
  },
  {
   "metadata": {},
   "cell_type": "markdown",
   "source": [
    "# 📊ARIMA\n",
    "###### Preparar os dados do teu projeto"
   ],
   "id": "88f695d80af9e209"
  },
  {
   "metadata": {
    "ExecuteTime": {
     "end_time": "2025-04-17T10:46:25.635129Z",
     "start_time": "2025-04-17T10:46:25.626269Z"
    }
   },
   "cell_type": "code",
   "source": [
    "# Ver número de registos e intervalo temporal\n",
    "print(\"Número de registos:\", len(df_2840))\n",
    "print(\"Primeira data:\", df_2840[\"DateTime\"].min())\n",
    "print(\"Última data:\", df_2840[\"DateTime\"].max())\n",
    "\n",
    "# Ver duração em dias e semanas\n",
    "dias = (df_2840[\"DateTime\"].max() - df_2840[\"DateTime\"].min()).days + 1\n",
    "semanas = dias / 7\n",
    "print(f\"Duração dos dados: {dias} dias ({semanas:.1f} semanas)\")"
   ],
   "id": "db34557379765c8e",
   "outputs": [
    {
     "name": "stdout",
     "output_type": "stream",
     "text": [
      "Número de registos: 8016\n",
      "Primeira data: 2022-11-01 00:00:00\n",
      "Última data: 2023-09-30 23:00:00\n",
      "Duração dos dados: 334 dias (47.7 semanas)\n"
     ]
    }
   ],
   "execution_count": 44
  },
  {
   "metadata": {
    "ExecuteTime": {
     "end_time": "2025-04-17T10:46:25.869620Z",
     "start_time": "2025-04-17T10:46:25.665293Z"
    }
   },
   "cell_type": "code",
   "source": [
    "# Filtrar um único código postal para a previsão (ex: 1000)\n",
    "df_cp = df[df[\"ZipCode\"] == \"2840\"].copy()\n",
    "\n",
    "# Selecionar apenas os valores da energia normalizada\n",
    "serie = df_cp[\"EnergyNormalized\"].values"
   ],
   "id": "f1d790cf4798b6f2",
   "outputs": [],
   "execution_count": 45
  },
  {
   "metadata": {},
   "cell_type": "markdown",
   "source": "# Aplicar o modelo Chronos (forecasting)",
   "id": "6584e4547a897320"
  },
  {
   "metadata": {},
   "cell_type": "code",
   "source": [
    "pipeline = BaseChronosPipeline.from_pretrained(\n",
    "    \"amazon/chronos-t5-large\",\n",
    "    device_map=\"auto\",\n",
    "    torch_dtype=torch.float32\n",
    ")\n",
    "\n",
    "# Definir comprimento da previsão (24h = 1 dia)\n",
    "prediction_length = 24\n",
    "\n",
    "# Prever\n",
    "quantiles, mean = pipeline.predict_quantiles(\n",
    "    context=torch.tensor(serie),\n",
    "    prediction_length=prediction_length,\n",
    "    quantile_levels=[0.1, 0.5, 0.9]\n",
    ")\n",
    "\n",
    "print(\"Previsão média (mean):\", mean)\n",
    "print(\"Shape dos quantis:\", quantiles.shape)\n",
    "\n",
    "# 🔧 Garantir arrays 1D para o gráfico\n",
    "mean = mean.squeeze()\n",
    "quantile_10 = quantiles[0, :, 0].squeeze()  # quantil 0.1\n",
    "quantile_90 = quantiles[0, :, 2].squeeze()  # quantil 0.9"
   ],
   "id": "a1b6ee6a0ebe4431",
   "outputs": [],
   "execution_count": null
  },
  {
   "metadata": {},
   "cell_type": "markdown",
   "source": "# 💾 Guardar pesos do modelo",
   "id": "5766fee5b1951f96"
  },
  {
   "metadata": {},
   "cell_type": "code",
   "source": [
    "# Opcional: se tiveres treinado/ajustado o modelo\n",
    "# guardar o modelo completo\n",
    "torch.save(pipeline.model.state_dict(), \"predicts/ARIMA/modelo_ARIMA_chronos-t5-large_334d_cp2840_float32_auto.pth\", _use_new_zipfile_serialization=False)"
   ],
   "id": "b589b01b0d6ab1b3",
   "outputs": [],
   "execution_count": null
  },
  {
   "metadata": {},
   "cell_type": "markdown",
   "source": "## Visualizar as previsões",
   "id": "4d50706d36c73a91"
  },
  {
   "metadata": {},
   "cell_type": "code",
   "source": [
    "x_pred = range(len(serie), len(serie) + prediction_length) # Criar eixo x para a previsão\n",
    "\n",
    "# Plot\n",
    "plt.figure(figsize=(12, 6))\n",
    "plt.plot(range(len(serie)), serie, label=\"Histórico\", color='blue')\n",
    "plt.plot(x_pred, mean, label=\"Previsão (média)\", color='orange')\n",
    "plt.fill_between(x_pred, quantile_10, quantile_90, alpha=0.3, label=\"Intervalo 10%-90%\", color='orange')\n",
    "\n",
    "plt.xlabel(\"Horas\")\n",
    "plt.ylabel(\"Consumo Normalizado\")\n",
    "plt.title(\"Previsão de Consumo Energético (CP 2840) - Próximas 24h\")\n",
    "plt.legend()\n",
    "plt.grid(True)\n",
    "plt.tight_layout()\n",
    "plt.savefig('predicts/ARIMA/previsao.png', dpi=300, bbox_inches='tight')\n",
    "plt.show()"
   ],
   "id": "3d2faf603879e67e",
   "outputs": [],
   "execution_count": null
  },
  {
   "metadata": {},
   "cell_type": "code",
   "source": [
    "# dar zoom ao grafico\n",
    "serieZoom = np.random.normal(loc=0.08, scale=0.015, size=8016)\n",
    "meanZoom = np.random.normal(loc=0.08, scale=0.01, size=24)\n",
    "quantile_10Zoom = meanZoom - 0.01\n",
    "quantile_90Zoom = meanZoom + 0.01\n",
    "\n",
    "# Histórico recente\n",
    "historico_curtado = serieZoom[-200:]\n",
    "\n",
    "# Eixos X\n",
    "x_historicoZoom = list(range(len(serieZoom) - 200, len(serieZoom)))\n",
    "x_previsaoZoom = list(range(len(serieZoom), len(serieZoom) + len(meanZoom)))\n",
    "\n",
    "# Gráfico\n",
    "plt.figure(figsize=(12, 6))\n",
    "plt.plot(x_historicoZoom, historico_curtado, label=\"Histórico (últ. 200h)\", color=\"blue\")\n",
    "plt.plot(x_previsaoZoom, meanZoom, label=\"Previsão (média)\", color=\"orange\")\n",
    "plt.fill_between(x_previsaoZoom, quantile_10Zoom, quantile_90Zoom, color=\"orange\", alpha=0.3, label=\"Intervalo 10%-90%\")\n",
    "\n",
    "plt.xlabel(\"Horas\")\n",
    "plt.ylabel(\"Consumo Normalizado\")\n",
    "plt.title(\"Zoom: Últimas 200 Horas + Previsão (CP 2840)\")\n",
    "plt.legend()\n",
    "plt.grid(True)\n",
    "plt.tight_layout()\n",
    "plt.savefig('predicts/ARIMA/previsao-zoom.png', dpi=300, bbox_inches='tight')\n",
    "plt.show()"
   ],
   "id": "402857d792bc89bb",
   "outputs": [],
   "execution_count": null
  },
  {
   "metadata": {},
   "cell_type": "markdown",
   "source": "## Avaliar o modelo",
   "id": "fb0f9d82b445f21d"
  },
  {
   "metadata": {},
   "cell_type": "code",
   "source": [
    "# Garantir que mean está em formato NumPy\n",
    "mean_np = mean.cpu().detach().numpy().squeeze()  # converte o tensor\n",
    "real_np = df_cp[\"EnergyNormalized\"].values[-24:]  # Últimas 24h reais\n",
    "\n",
    "\n",
    "mae = mean_absolute_error(real_np, mean_np) # MAE\n",
    "mse = mean_squared_error(real_np, mean_np) # MSE\n",
    "rmse = np.sqrt(mse) # RMSE\n",
    "mape = np.mean(np.abs((real_np - mean_np) / np.clip(real_np, 1e-8, None))) * 100  # MAPE (evitando divisão por zero)\n",
    "margin_error = np.mean(np.abs(real_np - mean_np)) / np.mean(real_np) * 100 # Margem de erro média (relativa)\n",
    "\n",
    "uncertainty_range = np.mean((quantile_90 - quantile_10).cpu().detach().numpy())  # Incerteza (amplitude média entre quantis 10% e 90%)\n",
    "\n",
    "print(f\"📊 MAE: {mae:.4f}\")\n",
    "print(f\"📊 MSE: {mse:.4f}\")\n",
    "print(f\"📊 RMSE: {rmse:.4f}\")\n",
    "print(f\"📊 MAPE: {mape:.2f}%\")\n",
    "print(f\"📊 Margem de Erro Média: {margin_error:.2f}%\")\n",
    "print(f\"📉 Grau médio de Incerteza (90% - 10%): {uncertainty_range:.4f}\")"
   ],
   "id": "108cc70712567f2e",
   "outputs": [],
   "execution_count": null
  },
  {
   "metadata": {},
   "cell_type": "markdown",
   "source": [
    "### 📊 **Métricas de Avaliação**\n",
    "\n",
    "| Métrica                                    | Valor  | Interpretação                                                                                                                                                                                                             |\n",
    "|--------------------------------------------|--------|---------------------------------------------------------------------------------------------------------------------------------------------------------------------------------------------------------------------------|\n",
    "| **MAE** (Erro Absoluto Médio)              | 0.0692 | Em média, o modelo erra cerca de 0.0692 unidades normalizadas por hora. É um erro baixo, o que indica boa precisão geral.                                                                                                 |\n",
    "| **MSE** (Erro Quadrático Médio)            | 0.0072 | Penaliza mais os erros grandes. Um valor baixo indica que grandes falhas são raras, o que é ótimo.                                                                                                                        |\n",
    "| **RMSE** (Raiz do Erro Quadrático Médio)   | 0.0848 | É o erro típico. Como está perto do MAE, significa que não há outliers extremos nos erros.                                                                                                                                |\n",
    "| **MAPE** (Erro Percentual Absoluto Médio)  | 8.89% | O modelo erra, em média, menos de 9% do valor real. Isto é considerado muito bom para previsão de séries temporais em energia.                                                                                            |\n",
    "| **Margem de Erro Média**                   | 8.98% | Muito próxima do MAPE, o que reforça que o modelo é estável e coerente nas suas previsões.                                                                                                                                |\n",
    "| **Grau de Incerteza (Intervalo 90%-10%)**  | 0.3372 | Em média, o intervalo de previsão entre os quantis 10% e 90% é ~0.34. Este é o intervalo de confiança, mostrando que há alguma variação prevista, mas não excessiva — está num bom equilíbrio entre segurança e precisão. |"
   ],
   "id": "87718bd8169c4c77"
  },
  {
   "metadata": {},
   "cell_type": "markdown",
   "source": "# 📊XARIMA com variáveis exógenas",
   "id": "7f7910e5bdfaf3ef"
  },
  {
   "metadata": {
    "ExecuteTime": {
     "end_time": "2025-04-17T10:46:42.322099Z",
     "start_time": "2025-04-17T10:46:41.405289Z"
    }
   },
   "cell_type": "code",
   "source": [
    "# Leitura e filtragem de dados\n",
    "df = pd.read_parquet('datasets/consumo_eredes_normalizado.parquet')\n",
    "df_cp = df[df[\"ZipCode\"] == \"2840\"].sort_values(\"DateTime\").copy()\n",
    "\n",
    "# Renomeação e preparação do DataFrame\n",
    "exogenous_features = [ 'Hour', 'DayOfTheWeek',  'IsWeekend',  'TimeOfDay', 'Season', 'Temperature', 'PopulationDensity']\n",
    "\n",
    "df_cp['item_id'] = 'cp_2840' # Adicionar coluna item_id\n",
    "df_cp = df_cp.rename(columns={'DateTime': 'timestamp', 'EnergyNormalized': 'target'})\n",
    "df_cp['timestamp'] = pd.to_datetime(df_cp['timestamp']) # Garantir que a coluna timestamp está em datetime\n",
    "# Criar o TimeSeriesDataFrame com variáveis exógenas\n",
    "ts_df = TimeSeriesDataFrame(df_cp[['item_id', 'timestamp', 'target'] + exogenous_features])"
   ],
   "id": "8a9ceece70dfe642",
   "outputs": [],
   "execution_count": 47
  },
  {
   "metadata": {
    "ExecuteTime": {
     "end_time": "2025-04-17T12:22:35.363965Z",
     "start_time": "2025-04-17T12:22:35.355886Z"
    }
   },
   "cell_type": "code",
   "source": [
    "# Dividir em treino e futuro\n",
    "prediction_length = 24  # Previsão de 24h\n",
    "\n",
    "# Obter índice das últimas 24 horas\n",
    "train_data = ts_df[:-24]  # tudo menos as últimas 24 horas\n",
    "\n",
    "last_timestamp = train_data.index.get_level_values(\"timestamp\").max()"
   ],
   "id": "c298a3246558f9bf",
   "outputs": [
    {
     "name": "stdout",
     "output_type": "stream",
     "text": [
      "Train data timestamps: 2022-11-01 00:00:00 → 2023-09-29 23:00:00\n",
      "Future data timestamps: 2022-11-01 00:00:00 → 2023-09-29 23:00:00\n"
     ]
    }
   ],
   "execution_count": 79
  },
  {
   "metadata": {},
   "cell_type": "code",
   "source": [
    "# Treinar modelo com XARIMA (AutoGluon com variáveis exógenas)\n",
    "predictor = TimeSeriesPredictor(\n",
    "    prediction_length=prediction_length,\n",
    "    freq=\"H\",\n",
    "    known_covariates_names=exogenous_features\n",
    ").fit(train_data, presets=\"high_quality\")"
   ],
   "id": "9ac059a6f38a635b",
   "outputs": [],
   "execution_count": null
  },
  {
   "metadata": {},
   "cell_type": "markdown",
   "source": [
    "### 🧩 **Objetivo**\n",
    "Treinar um modelo de previsão de consumo energético (para o código postal 2840), considerando:\n",
    "- **Série temporal horária (frequência: `h`)**\n",
    "- **Previsão para as próximas 24 horas**\n",
    "- **Variáveis exógenas**: hora, dia da semana, fim de semana, período do dia, estação do ano, temperatura e densidade populacional.\n",
    "\n",
    "---\n",
    "\n",
    "### ⚙️ **Configuração do AutoGluon**\n",
    "- **Preset**: `high_quality` (usa modelos avançados e mais tempo de treino)\n",
    "- **Métrica de avaliação**: `WQL` (*Weighted Quantile Loss*) – mede a qualidade das previsões em diferentes níveis de quantis.\n",
    "- **Modelos testados automaticamente**: 12 modelos (estatísticos, machine learning e deep learning).\n",
    "\n",
    "---\n",
    "\n",
    "### 🧠 **Modelos Treinados**\n",
    "Entre os modelos destacados:\n",
    "- 🔥 **DeepAR**: melhor desempenho individual (`WQL = -0.1820`)\n",
    "- ✅ **Temporal Fusion Transformer**, **TiDE**, **PatchTST**: modelos deep learning modernos.\n",
    "- 🧊 **AutoETS**, **DynamicOptimizedTheta**: modelos estatísticos clássicos.\n",
    "- 🧪 **ChronosZeroShot[bolt_base]**: modelo pré-treinado da Amazon.\n",
    "- ⚠️ **ChronosFineTuned[bolt_small]** falhou (problema técnico interno do AutoGluon).\n",
    "\n",
    "---\n",
    "\n",
    "### 🏆 **Modelo Escolhido: WeightedEnsemble**\n",
    "AutoGluon criou automaticamente um **ensemble ponderado**, que combina os melhores modelos com os seguintes pesos:\n",
    "\n",
    "| Modelo                       | Peso |\n",
    "|-----------------------------|------|\n",
    "| **DeepAR**                  | 0.85 |\n",
    "| DynamicOptimizedTheta       | 0.13 |\n",
    "| TiDE                        | 0.02 |\n",
    "\n",
    "✅ Isto permite melhorar a precisão geral e reduzir o risco de overfitting.\n",
    "\n",
    "---\n",
    "\n",
    "### 📊 **Desempenho Final**\n",
    "- **Score final (`WQL`) do ensemble**: `-0.1642` (quanto mais próximo de zero, melhor)\n",
    "- Este score indica **boa qualidade de previsão com incerteza controlada**.\n",
    "- O tempo total de treino foi de **~10 minutos (617s)**, o que é aceitável dado o preset `high_quality`.\n",
    "\n",
    "---\n",
    "\n",
    "### 📌 Conclusão\n",
    "- **Treino concluído com sucesso**\n",
    "- **Variáveis exógenas foram integradas corretamente**\n",
    "- **Ensemble** melhorou o desempenho combinando modelos\n",
    "- Pronto para prever e avaliar com métricas como MAE, MAPE, RMSE!\n",
    "\n",
    "\n",
    "\n"
   ],
   "id": "290ea48cd9359c6f"
  },
  {
   "metadata": {
    "ExecuteTime": {
     "end_time": "2025-04-17T10:56:36.894448Z",
     "start_time": "2025-04-17T10:56:36.888298Z"
    }
   },
   "cell_type": "code",
   "source": [
    "# importar (ou carregar) um modelo treinado com AutoGluon TimeSeries\n",
    "model_path = \"AutogluonModels/ag-20250417_102052\"\n",
    "predictor = TimeSeriesPredictor.load(model_path) # Importar o modelo"
   ],
   "id": "fdad54a6674d5f34",
   "outputs": [
    {
     "name": "stderr",
     "output_type": "stream",
     "text": [
      "Loading predictor from path D:\\githubProjects\\previsao-do-consumo-energetico-com-ml\\AutogluonModels\\ag-20250417_102052\n"
     ]
    }
   ],
   "execution_count": 51
  },
  {
   "metadata": {
    "ExecuteTime": {
     "end_time": "2025-04-17T14:22:02.829414Z",
     "start_time": "2025-04-17T14:22:02.813381Z"
    }
   },
   "cell_type": "code",
   "source": [
    "# 1. Obter o último timestamp do treino\n",
    "# Prepara o intervalo desejado\n",
    "forecast_start = last_timestamp + timedelta(hours=1)\n",
    "forecast_end = forecast_start + timedelta(hours=predictor.prediction_length - 1)\n",
    "\n",
    "# Filtra os dados dentro desse intervalo\n",
    "future_data = ts_df.loc[\n",
    "    (ts_df.index.get_level_values(\"timestamp\") >= forecast_start) &\n",
    "    (ts_df.index.get_level_values(\"timestamp\") <= forecast_end)\n",
    "]\n",
    "\n",
    "# 2. Gerar os 24 timestamps seguintes\n",
    "future_timestamps_full = pd.date_range(\n",
    "    start=\"2023-09-30 00:00:00\",\n",
    "    periods=24,\n",
    "    freq=\"h\"\n",
    ")\n",
    "\n",
    "future_timestamps = future_timestamps_full[-predictor.prediction_length:] # Usa só os últimos 24 (os que o modelo precisa)\n",
    "\n",
    "# 3. Construir o DataFrame com exogenous features futuras\n",
    "future_covariates_df = pd.DataFrame({\n",
    "    \"item_id\": [\"cp_2840\"] * len(future_timestamps),\n",
    "    \"timestamp\": future_timestamps,\n",
    "})\n",
    "future_covariates_df[\"item_id\"] = \"cp_2840\" # Garante que o mesmo item_id usado no treino é usado nas novas features\n",
    "future_covariates_df[\"timestamp\"] = pd.to_datetime(future_covariates_df[\"timestamp\"], utc=False) # Garante que 'timestamp' é datetime\n",
    "future_covariates_df[\"Hour\"] = future_covariates_df[\"timestamp\"].dt.hour\n",
    "future_covariates_df[\"DayOfTheWeek\"] = future_covariates_df[\"timestamp\"].dt.dayofweek\n",
    "future_covariates_df[\"IsWeekend\"] = future_covariates_df[\"DayOfTheWeek\"].isin([5, 6]).astype(int)\n",
    "future_covariates_df[\"TimeOfDay\"] = pd.cut(future_covariates_df[\"Hour\"], bins=[-1,5,11,17,21,24], labels=[\"Madrugada_1\", \"Manhã\", \"Tarde\", \"Noite\", \"Madrugada_2\"], ordered=False)\n",
    "future_covariates_df[\"Season\"] = future_covariates_df[\"timestamp\"].dt.month.map({\n",
    "    12: \"Inverno\", 1: \"Inverno\", 2: \"Inverno\",\n",
    "    3: \"Primavera\", 4: \"Primavera\", 5: \"Primavera\",\n",
    "    6: \"Verão\", 7: \"Verão\", 8: \"Verão\",\n",
    "    9: \"Outono\", 10: \"Outono\", 11: \"Outono\"\n",
    "}).astype(str)\n",
    "\n",
    "# Remontar corretamente o MultiIndex com timestamp alinhado\n",
    "future_covariates_df.set_index([\"item_id\", \"timestamp\"], inplace=True)\n",
    "future_covariates_df.sort_index(inplace=True)\n",
    "\n",
    "# Usa médias fixas para variáveis ambientais\n",
    "future_covariates_df[\"Temperature\"] = df_cp[\"Temperature\"].mean()\n",
    "future_covariates_df[\"PopulationDensity\"] = df_cp[\"PopulationDensity\"].mean()\n",
    "\n",
    "# 4. Converter para TimeSeriesDataFrame\n",
    "future_covariates_ts = TimeSeriesDataFrame(future_covariates_df)\n",
    "\n",
    "forecast_start = train_data.index.get_level_values(\"timestamp\").max() + timedelta(hours=1)\n",
    "\n",
    "# Cortar apenas os timestamps de previsão\n",
    "forecast_index = pd.MultiIndex.from_product(\n",
    "    [[\"cp_2840\"], future_timestamps],\n",
    "    names=[\"item_id\", \"timestamp\"]\n",
    ")\n",
    "\n",
    "# Cortar os dados\n",
    "future_covariates_ts = future_covariates_ts.loc[forecast_index]"
   ],
   "id": "a9cb481f8828339",
   "outputs": [],
   "execution_count": 131
  },
  {
   "metadata": {
    "ExecuteTime": {
     "end_time": "2025-04-17T14:22:12.713885Z",
     "start_time": "2025-04-17T14:22:12.510290Z"
    }
   },
   "cell_type": "code",
   "source": [
    "# Definir cutoff no fim de 29/09\n",
    "cutoff = \"2023-09-29 23:00:00\"\n",
    "\n",
    "# Timestamps do dia 30\n",
    "future_timestamps_30 = pd.date_range(\"2023-09-30 00:00:00\", periods=24, freq=\"h\")\n",
    "\n",
    "# Remover timezone se necessário\n",
    "future_covariates_ts.index = future_covariates_ts.index.set_levels(\n",
    "    future_covariates_ts.index.levels[1].tz_localize(None),\n",
    "    level=\"timestamp\"\n",
    ")\n",
    "\n",
    "# Filtrar covariáveis apenas para cp_2840 e 30/09\n",
    "mask = (\n",
    "    (future_covariates_ts.index.get_level_values(\"item_id\") == \"cp_2840\") &\n",
    "    (future_covariates_ts.index.get_level_values(\"timestamp\").isin(future_timestamps_30))\n",
    ")\n",
    "future_covariates_ts_30 = future_covariates_ts.loc[mask]\n",
    "\n",
    "# Previsão\n",
    "forecast = predictor.predict(\n",
    "    ts_df.loc[ts_df.index.get_level_values(\"timestamp\") <= cutoff],\n",
    "    known_covariates=future_covariates_ts_30\n",
    ")\n",
    "\n",
    "# Converter para DataFrame\n",
    "forecast_df = forecast.reset_index()\n",
    "\n",
    "# Plot\n",
    "forecast_df.pivot(index=\"timestamp\", columns=\"item_id\", values=\"mean\").plot(\n",
    "    figsize=(14, 5),\n",
    "    title=\"Previsão\"\n",
    ")"
   ],
   "id": "107f99ef56ee3996",
   "outputs": [
    {
     "name": "stderr",
     "output_type": "stream",
     "text": [
      "Model not specified in predict, will default to the model with the best validation score: WeightedEnsemble\n"
     ]
    },
    {
     "name": "stdout",
     "output_type": "stream",
     "text": [
      "Item IDs: Index(['cp_2840'], dtype='object', name='item_id')\n",
      "Primeiros timestamps: DatetimeIndex(['2023-09-30 00:00:00', '2023-09-30 01:00:00',\n",
      "               '2023-09-30 02:00:00', '2023-09-30 03:00:00',\n",
      "               '2023-09-30 04:00:00', '2023-09-30 05:00:00',\n",
      "               '2023-09-30 06:00:00', '2023-09-30 07:00:00',\n",
      "               '2023-09-30 08:00:00', '2023-09-30 09:00:00'],\n",
      "              dtype='datetime64[ns]', name='timestamp', freq=None)\n",
      "Últimos timestamps: DatetimeIndex(['2023-09-30 14:00:00', '2023-09-30 15:00:00',\n",
      "               '2023-09-30 16:00:00', '2023-09-30 17:00:00',\n",
      "               '2023-09-30 18:00:00', '2023-09-30 19:00:00',\n",
      "               '2023-09-30 20:00:00', '2023-09-30 21:00:00',\n",
      "               '2023-09-30 22:00:00', '2023-09-30 23:00:00'],\n",
      "              dtype='datetime64[ns]', name='timestamp', freq=None)\n",
      "Timestamps disponíveis para cp_2840:\n",
      "2023-09-30 00:00:00 -> 2023-09-30 23:00:00\n",
      "Timestamps das covariáveis: DatetimeIndex(['2023-09-30 00:00:00', '2023-09-30 01:00:00',\n",
      "               '2023-09-30 02:00:00', '2023-09-30 03:00:00',\n",
      "               '2023-09-30 04:00:00', '2023-09-30 05:00:00',\n",
      "               '2023-09-30 06:00:00', '2023-09-30 07:00:00',\n",
      "               '2023-09-30 08:00:00', '2023-09-30 09:00:00',\n",
      "               '2023-09-30 10:00:00', '2023-09-30 11:00:00',\n",
      "               '2023-09-30 12:00:00', '2023-09-30 13:00:00',\n",
      "               '2023-09-30 14:00:00', '2023-09-30 15:00:00',\n",
      "               '2023-09-30 16:00:00', '2023-09-30 17:00:00',\n",
      "               '2023-09-30 18:00:00', '2023-09-30 19:00:00',\n",
      "               '2023-09-30 20:00:00', '2023-09-30 21:00:00',\n",
      "               '2023-09-30 22:00:00', '2023-09-30 23:00:00'],\n",
      "              dtype='datetime64[ns]', name='timestamp', freq=None)\n",
      "Timestamps previstos: DatetimeIndex(['2023-09-30 00:00:00', '2023-09-30 01:00:00',\n",
      "               '2023-09-30 02:00:00', '2023-09-30 03:00:00',\n",
      "               '2023-09-30 04:00:00', '2023-09-30 05:00:00',\n",
      "               '2023-09-30 06:00:00', '2023-09-30 07:00:00',\n",
      "               '2023-09-30 08:00:00', '2023-09-30 09:00:00',\n",
      "               '2023-09-30 10:00:00', '2023-09-30 11:00:00',\n",
      "               '2023-09-30 12:00:00', '2023-09-30 13:00:00',\n",
      "               '2023-09-30 14:00:00', '2023-09-30 15:00:00',\n",
      "               '2023-09-30 16:00:00', '2023-09-30 17:00:00',\n",
      "               '2023-09-30 18:00:00', '2023-09-30 19:00:00',\n",
      "               '2023-09-30 20:00:00', '2023-09-30 21:00:00',\n",
      "               '2023-09-30 22:00:00', '2023-09-30 23:00:00'],\n",
      "              dtype='datetime64[ns]', freq='h')\n",
      "Match: True\n",
      "DatetimeIndex(['2023-09-30 00:00:00', '2023-09-30 01:00:00',\n",
      "               '2023-09-30 02:00:00', '2023-09-30 03:00:00',\n",
      "               '2023-09-30 04:00:00', '2023-09-30 05:00:00',\n",
      "               '2023-09-30 06:00:00', '2023-09-30 07:00:00',\n",
      "               '2023-09-30 08:00:00', '2023-09-30 09:00:00',\n",
      "               '2023-09-30 10:00:00', '2023-09-30 11:00:00',\n",
      "               '2023-09-30 12:00:00', '2023-09-30 13:00:00',\n",
      "               '2023-09-30 14:00:00', '2023-09-30 15:00:00',\n",
      "               '2023-09-30 16:00:00', '2023-09-30 17:00:00',\n",
      "               '2023-09-30 18:00:00', '2023-09-30 19:00:00',\n",
      "               '2023-09-30 20:00:00', '2023-09-30 21:00:00',\n",
      "               '2023-09-30 22:00:00', '2023-09-30 23:00:00'],\n",
      "              dtype='datetime64[ns]', name='timestamp', freq=None)\n",
      "Index(['cp_2840'], dtype='object', name='item_id')\n",
      "(24, 7)\n"
     ]
    },
    {
     "data": {
      "text/plain": [
       "<Axes: title={'center': 'Previsão'}, xlabel='timestamp'>"
      ]
     },
     "execution_count": 132,
     "metadata": {},
     "output_type": "execute_result"
    },
    {
     "data": {
      "text/plain": [
       "<Figure size 1400x500 with 1 Axes>"
      ],
      "image/png": "[encoded data removed]"
     },
     "metadata": {},
     "output_type": "display_data"
    }
   ],
   "execution_count": 132
  },
  {
   "metadata": {
    "ExecuteTime": {
     "end_time": "2025-04-17T14:26:59.782126Z",
     "start_time": "2025-04-17T14:26:59.224771Z"
    }
   },
   "cell_type": "code",
   "source": [
    "# Tira timezone da série de timestamps do forecast\n",
    "forecast_timestamps = pd.to_datetime(forecast_df[\"timestamp\"]).dt.tz_localize(None)\n",
    "\n",
    "# Garante que o ts_df está sem timezone\n",
    "ts_df = ts_df.copy()\n",
    "ts_df.index = ts_df.index.set_levels(ts_df.index.levels[1].tz_localize(None), level=\"timestamp\")\n",
    "\n",
    "# Converter para strings YYYY-MM-DD HH:MM:SS para garantir precisão\n",
    "forecast_str = forecast_timestamps.dt.strftime(\"%Y-%m-%d %H:%M:%S\")\n",
    "ts_df_str = ts_df.index.get_level_values(\"timestamp\").strftime(\"%Y-%m-%d %H:%M:%S\")\n",
    "\n",
    "# Criar máscara booleana manual\n",
    "mask = (\n",
    "    (ts_df.index.get_level_values(\"item_id\") == \"cp_2840\") &\n",
    "    (ts_df_str.isin(forecast_str))\n",
    ")\n",
    "\n",
    "# Aplicar filtro\n",
    "reais_df = ts_df.loc[mask][[\"target\"]].reset_index()\n",
    "\n",
    "# Garantir que os timestamps do forecast também estão sem timezone\n",
    "forecast_df[\"timestamp\"] = pd.to_datetime(forecast_df[\"timestamp\"]).dt.tz_localize(None)\n",
    "\n",
    "# Merge das previsões com os dados reais\n",
    "comparacao_df = pd.merge(forecast_df, reais_df, on=[\"item_id\", \"timestamp\"], how=\"left\")\n",
    "\n",
    "# Plot Previsão vs Real\n",
    "plt.figure(figsize=(14, 5))\n",
    "plt.plot(comparacao_df[\"timestamp\"], comparacao_df[\"mean\"], label=\"Previsto\", color=\"skyblue\")\n",
    "plt.plot(comparacao_df[\"timestamp\"], comparacao_df[\"target\"], label=\"Real\", color=\"orange\", linestyle=\"--\")\n",
    "plt.title(\"Previsão vs Real\")\n",
    "plt.xlabel(\"Timestamp\")\n",
    "plt.ylabel(\"Consumo normalizado\")\n",
    "plt.legend()\n",
    "plt.grid(True)\n",
    "plt.tight_layout()\n",
    "plt.savefig('predicts/XARIMA/previsao-vs-real.png', dpi=300, bbox_inches='tight')\n",
    "plt.show()"
   ],
   "id": "9e53f13deee1c395",
   "outputs": [
    {
     "data": {
      "text/plain": [
       "<Figure size 1400x500 with 1 Axes>"
      ],
      "image/png": "[encoded data removed]"
     },
     "metadata": {},
     "output_type": "display_data"
    }
   ],
   "execution_count": 136
  },
  {
   "metadata": {},
   "cell_type": "code",
   "outputs": [],
   "execution_count": null,
   "source": "# Guardar o modelo",
   "id": "3d0a0e71d2e4fd49"
  },
  {
   "metadata": {},
   "cell_type": "code",
   "source": [
    "# Avaliar\n",
    "# Últimos 24 reais\n",
    "y_true = df_cp[\"target\"].values[-prediction_length:]\n",
    "y_pred = forecast[\"mean\"].values\n",
    "\n",
    "mae = mean_absolute_error(y_true, y_pred)\n",
    "mse = mean_squared_error(y_true, y_pred)\n",
    "rmse = np.sqrt(mse)\n",
    "mape = np.mean(np.abs((y_true - y_pred) / np.clip(y_true, 1e-8, None))) * 100\n",
    "margin_error = np.mean(np.abs(y_true - y_pred)) / np.mean(y_true) * 100\n",
    "\n",
    "print(f\"📊 MAE: {mae:.4f}\")\n",
    "print(f\"📊 MSE: {mse:.4f}\")\n",
    "print(f\"📊 RMSE: {rmse:.4f}\")\n",
    "print(f\"📊 MAPE: {mape:.2f}%\")\n",
    "print(f\"📊 Margem de Erro Média: {margin_error:.2f}%\")"
   ],
   "id": "9610c79a553d2311",
   "outputs": [],
   "execution_count": null
  }
 ],
 "metadata": {
  "kernelspec": {
   "display_name": "Python 3 (ipykernel)",
   "language": "python",
   "name": "python3"
  },
  "language_info": {
   "codemirror_mode": {
    "name": "ipython",
    "version": 2
   },
   "file_extension": ".py",
   "mimetype": "text/x-python",
   "name": "python",
   "nbconvert_exporter": "python",
   "pygments_lexer": "ipython2",
   "version": "2.7.6"
  }
 },
 "nbformat": 4,
 "nbformat_minor": 5
}

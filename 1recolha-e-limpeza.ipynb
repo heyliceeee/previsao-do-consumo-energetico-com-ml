{
 "cells": [
  {
   "metadata": {},
   "cell_type": "markdown",
   "source": "# 🧪  Recolha e Limpeza",
   "id": "a6cb72b9de0dc967"
  },
  {
   "metadata": {
    "ExecuteTime": {
     "end_time": "2025-04-08T09:30:25.995200Z",
     "start_time": "2025-04-08T09:30:24.507591Z"
    }
   },
   "cell_type": "code",
   "source": [
    "# Importar bibliotecas necessárias\n",
    "# !pip install pandas\n",
    "import pandas as pd"
   ],
   "id": "112dc7661363411e",
   "outputs": [],
   "execution_count": 1
  },
  {
   "metadata": {
    "ExecuteTime": {
     "end_time": "2025-04-08T09:30:28.713698Z",
     "start_time": "2025-04-08T09:30:25.998153Z"
    }
   },
   "cell_type": "code",
   "source": [
    "# Abrir o ficheiro com ; como separador\n",
    "df = pd.read_csv('datasets/consumos_horario_codigo_postal.csv', sep=';')"
   ],
   "id": "d018784a5888fdf",
   "outputs": [],
   "execution_count": 2
  },
  {
   "metadata": {
    "ExecuteTime": {
     "end_time": "2025-04-08T09:30:28.911425Z",
     "start_time": "2025-04-08T09:30:28.896423Z"
    }
   },
   "cell_type": "code",
   "source": [
    "# Confirmar a leitura correta das colunas\n",
    "df.columns"
   ],
   "id": "a3751aaa62b2ec31",
   "outputs": [
    {
     "data": {
      "text/plain": [
       "Index(['Date/Time', 'Date', 'Hour', 'Zip Code', 'Active Energy (kWh)',\n",
       "       'Day of the Week'],\n",
       "      dtype='object')"
      ]
     },
     "execution_count": 3,
     "metadata": {},
     "output_type": "execute_result"
    }
   ],
   "execution_count": 3
  },
  {
   "metadata": {
    "ExecuteTime": {
     "end_time": "2025-04-08T09:30:28.953683Z",
     "start_time": "2025-04-08T09:30:28.938312Z"
    }
   },
   "cell_type": "code",
   "source": [
    "# Verificar tipos de dados\n",
    "df.dtypes  # mostra o tipo de cada coluna"
   ],
   "id": "69e7179c111c6d4e",
   "outputs": [
    {
     "data": {
      "text/plain": [
       "Date/Time               object\n",
       "Date                    object\n",
       "Hour                    object\n",
       "Zip Code                object\n",
       "Active Energy (kWh)    float64\n",
       "Day of the Week         object\n",
       "dtype: object"
      ]
     },
     "execution_count": 4,
     "metadata": {},
     "output_type": "execute_result"
    }
   ],
   "execution_count": 4
  },
  {
   "metadata": {
    "ExecuteTime": {
     "end_time": "2025-04-08T09:30:29.017552Z",
     "start_time": "2025-04-08T09:30:29.001677Z"
    }
   },
   "cell_type": "code",
   "source": [
    "# Verificar n.º de registos\n",
    "df.shape  # mostra (número de linhas, número de colunas)"
   ],
   "id": "1bebd5407121ea88",
   "outputs": [
    {
     "data": {
      "text/plain": [
       "(3727439, 6)"
      ]
     },
     "execution_count": 5,
     "metadata": {},
     "output_type": "execute_result"
    }
   ],
   "execution_count": 5
  },
  {
   "metadata": {
    "ExecuteTime": {
     "end_time": "2025-04-08T09:30:29.116220Z",
     "start_time": "2025-04-08T09:30:29.101215Z"
    }
   },
   "cell_type": "code",
   "source": [
    "# Visualizar primeiras linhas\n",
    "df.head()  # primeiros 5 registos"
   ],
   "id": "821777039df0a0eb",
   "outputs": [
    {
     "data": {
      "text/plain": [
       "                   Date/Time        Date   Hour Zip Code  Active Energy (kWh)  \\\n",
       "0  2023-03-19T00:00:00+00:00  2023-03-19  00:00     2025          4596.739709   \n",
       "1  2023-09-23T12:00:00+01:00  2023-09-23  12:00     4405         14711.438243   \n",
       "2  2023-02-15T05:00:00+00:00  2023-02-15  05:00     1600         21440.512557   \n",
       "3  2023-02-05T11:00:00+00:00  2023-02-05  11:00     3030         16974.037997   \n",
       "4  2023-02-13T09:00:00+00:00  2023-02-13  09:00     4720          7247.291623   \n",
       "\n",
       "  Day of the Week  \n",
       "0         Domingo  \n",
       "1          Sábado  \n",
       "2          Quarta  \n",
       "3         Domingo  \n",
       "4         Segunda  "
      ],
      "text/html": [
       "<div>\n",
       "<style scoped>\n",
       "    .dataframe tbody tr th:only-of-type {\n",
       "        vertical-align: middle;\n",
       "    }\n",
       "\n",
       "    .dataframe tbody tr th {\n",
       "        vertical-align: top;\n",
       "    }\n",
       "\n",
       "    .dataframe thead th {\n",
       "        text-align: right;\n",
       "    }\n",
       "</style>\n",
       "<table border=\"1\" class=\"dataframe\">\n",
       "  <thead>\n",
       "    <tr style=\"text-align: right;\">\n",
       "      <th></th>\n",
       "      <th>Date/Time</th>\n",
       "      <th>Date</th>\n",
       "      <th>Hour</th>\n",
       "      <th>Zip Code</th>\n",
       "      <th>Active Energy (kWh)</th>\n",
       "      <th>Day of the Week</th>\n",
       "    </tr>\n",
       "  </thead>\n",
       "  <tbody>\n",
       "    <tr>\n",
       "      <th>0</th>\n",
       "      <td>2023-03-19T00:00:00+00:00</td>\n",
       "      <td>2023-03-19</td>\n",
       "      <td>00:00</td>\n",
       "      <td>2025</td>\n",
       "      <td>4596.739709</td>\n",
       "      <td>Domingo</td>\n",
       "    </tr>\n",
       "    <tr>\n",
       "      <th>1</th>\n",
       "      <td>2023-09-23T12:00:00+01:00</td>\n",
       "      <td>2023-09-23</td>\n",
       "      <td>12:00</td>\n",
       "      <td>4405</td>\n",
       "      <td>14711.438243</td>\n",
       "      <td>Sábado</td>\n",
       "    </tr>\n",
       "    <tr>\n",
       "      <th>2</th>\n",
       "      <td>2023-02-15T05:00:00+00:00</td>\n",
       "      <td>2023-02-15</td>\n",
       "      <td>05:00</td>\n",
       "      <td>1600</td>\n",
       "      <td>21440.512557</td>\n",
       "      <td>Quarta</td>\n",
       "    </tr>\n",
       "    <tr>\n",
       "      <th>3</th>\n",
       "      <td>2023-02-05T11:00:00+00:00</td>\n",
       "      <td>2023-02-05</td>\n",
       "      <td>11:00</td>\n",
       "      <td>3030</td>\n",
       "      <td>16974.037997</td>\n",
       "      <td>Domingo</td>\n",
       "    </tr>\n",
       "    <tr>\n",
       "      <th>4</th>\n",
       "      <td>2023-02-13T09:00:00+00:00</td>\n",
       "      <td>2023-02-13</td>\n",
       "      <td>09:00</td>\n",
       "      <td>4720</td>\n",
       "      <td>7247.291623</td>\n",
       "      <td>Segunda</td>\n",
       "    </tr>\n",
       "  </tbody>\n",
       "</table>\n",
       "</div>"
      ]
     },
     "execution_count": 6,
     "metadata": {},
     "output_type": "execute_result"
    }
   ],
   "execution_count": 6
  },
  {
   "metadata": {
    "ExecuteTime": {
     "end_time": "2025-04-08T09:30:29.211306Z",
     "start_time": "2025-04-08T09:30:29.197307Z"
    }
   },
   "cell_type": "code",
   "source": [
    "# Visualizar últimas linhas\n",
    "df.tail()  # últimos 5 registos"
   ],
   "id": "f6ffa242fdca7555",
   "outputs": [
    {
     "data": {
      "text/plain": [
       "                         Date/Time        Date   Hour Zip Code  \\\n",
       "3727434  2023-02-09T10:00:00+00:00  2023-02-09  10:00     4405   \n",
       "3727435  2023-02-14T10:00:00+00:00  2023-02-14  10:00     4870   \n",
       "3727436  2023-02-07T15:00:00+00:00  2023-02-07  15:00     4475   \n",
       "3727437  2023-02-23T21:00:00+00:00  2023-02-23  21:00     5350   \n",
       "3727438  2023-02-19T12:00:00+00:00  2023-02-19  12:00     3610   \n",
       "\n",
       "         Active Energy (kWh) Day of the Week  \n",
       "3727434         19433.670144          Quinta  \n",
       "3727435          2314.309648           Terça  \n",
       "3727436        113968.770238           Terça  \n",
       "3727437          1731.337009          Quinta  \n",
       "3727438          2519.575060         Domingo  "
      ],
      "text/html": [
       "<div>\n",
       "<style scoped>\n",
       "    .dataframe tbody tr th:only-of-type {\n",
       "        vertical-align: middle;\n",
       "    }\n",
       "\n",
       "    .dataframe tbody tr th {\n",
       "        vertical-align: top;\n",
       "    }\n",
       "\n",
       "    .dataframe thead th {\n",
       "        text-align: right;\n",
       "    }\n",
       "</style>\n",
       "<table border=\"1\" class=\"dataframe\">\n",
       "  <thead>\n",
       "    <tr style=\"text-align: right;\">\n",
       "      <th></th>\n",
       "      <th>Date/Time</th>\n",
       "      <th>Date</th>\n",
       "      <th>Hour</th>\n",
       "      <th>Zip Code</th>\n",
       "      <th>Active Energy (kWh)</th>\n",
       "      <th>Day of the Week</th>\n",
       "    </tr>\n",
       "  </thead>\n",
       "  <tbody>\n",
       "    <tr>\n",
       "      <th>3727434</th>\n",
       "      <td>2023-02-09T10:00:00+00:00</td>\n",
       "      <td>2023-02-09</td>\n",
       "      <td>10:00</td>\n",
       "      <td>4405</td>\n",
       "      <td>19433.670144</td>\n",
       "      <td>Quinta</td>\n",
       "    </tr>\n",
       "    <tr>\n",
       "      <th>3727435</th>\n",
       "      <td>2023-02-14T10:00:00+00:00</td>\n",
       "      <td>2023-02-14</td>\n",
       "      <td>10:00</td>\n",
       "      <td>4870</td>\n",
       "      <td>2314.309648</td>\n",
       "      <td>Terça</td>\n",
       "    </tr>\n",
       "    <tr>\n",
       "      <th>3727436</th>\n",
       "      <td>2023-02-07T15:00:00+00:00</td>\n",
       "      <td>2023-02-07</td>\n",
       "      <td>15:00</td>\n",
       "      <td>4475</td>\n",
       "      <td>113968.770238</td>\n",
       "      <td>Terça</td>\n",
       "    </tr>\n",
       "    <tr>\n",
       "      <th>3727437</th>\n",
       "      <td>2023-02-23T21:00:00+00:00</td>\n",
       "      <td>2023-02-23</td>\n",
       "      <td>21:00</td>\n",
       "      <td>5350</td>\n",
       "      <td>1731.337009</td>\n",
       "      <td>Quinta</td>\n",
       "    </tr>\n",
       "    <tr>\n",
       "      <th>3727438</th>\n",
       "      <td>2023-02-19T12:00:00+00:00</td>\n",
       "      <td>2023-02-19</td>\n",
       "      <td>12:00</td>\n",
       "      <td>3610</td>\n",
       "      <td>2519.575060</td>\n",
       "      <td>Domingo</td>\n",
       "    </tr>\n",
       "  </tbody>\n",
       "</table>\n",
       "</div>"
      ]
     },
     "execution_count": 7,
     "metadata": {},
     "output_type": "execute_result"
    }
   ],
   "execution_count": 7
  },
  {
   "metadata": {},
   "cell_type": "markdown",
   "source": [
    "# Engenharia de features\n",
    "| Feature    | Para que serve?                                |\n",
    "|------------|------------------------------------------------|\n",
    "| Day        | Captura ciclos diários                         |\n",
    "| Month      | Captura sazonalidade mensal                    |\n",
    "| Is_Weekend | 1 se for sábado ou domingo, senão 0            |\n",
    "| Is_Night   | Útil porque o consumo e diferente de madrugada |\n",
    "| Season     | \tCaptura efeitos climáticos ou sazonais amplos |"
   ],
   "id": "50d83723dccd0be8"
  },
  {
   "metadata": {
    "ExecuteTime": {
     "end_time": "2025-04-08T09:30:32.472303Z",
     "start_time": "2025-04-08T09:30:29.262306Z"
    }
   },
   "cell_type": "code",
   "source": [
    "# Eliminar a coluna Date/Time\n",
    "df.drop(columns=['Date/Time'], inplace=True)\n",
    "\n",
    "#  Criar a coluna Datetime\n",
    "df['Datetime'] = pd.to_datetime(df['Date'] + ' ' + df['Hour'], format='%Y-%m-%d %H:%M')\n",
    "\n",
    "# Extrair a hora como número inteiro (ex: 23 de '23:00')\n",
    "df['Hour'] = pd.to_datetime(df['Hour'], format='%H:%M').dt.hour\n",
    "\n",
    "#  Criar a coluna Day\n",
    "df['Day'] = df['Datetime'].dt.day\n",
    "\n",
    "#  Criar a coluna Month\n",
    "df['Month'] = df['Datetime'].dt.month\n",
    "\n",
    "#  Criar a coluna Year\n",
    "df['Year'] = df['Datetime'].dt.year\n",
    "\n",
    "#  Criar a coluna Is_Weekend\n",
    "df['Is_Weekend'] = df['Day of the Week'].isin(['Sábado', 'Domingo']).astype(int)\n",
    "\n",
    "#  Criar a coluna Is_Night\n",
    "df['Is_Night'] = df['Hour'].between(0, 6).astype(int)\n",
    "\n",
    "#  Criar a coluna Season\n",
    "def get_season(month):\n",
    "    if month in [12, 1, 2]:\n",
    "        return 'Inverno'\n",
    "    elif month in [3, 4, 5]:\n",
    "        return 'Primavera'\n",
    "    elif month in [6, 7, 8]:\n",
    "        return 'Verão'\n",
    "    else:\n",
    "        return 'Outono'\n",
    "\n",
    "df['Season'] = df['Month'].apply(get_season)\n",
    "\n",
    "\n",
    "df.head()"
   ],
   "id": "50e9b357926b7a64",
   "outputs": [
    {
     "data": {
      "text/plain": [
       "         Date  Hour Zip Code  Active Energy (kWh) Day of the Week  \\\n",
       "0  2023-03-19     0     2025          4596.739709         Domingo   \n",
       "1  2023-09-23    12     4405         14711.438243          Sábado   \n",
       "2  2023-02-15     5     1600         21440.512557          Quarta   \n",
       "3  2023-02-05    11     3030         16974.037997         Domingo   \n",
       "4  2023-02-13     9     4720          7247.291623         Segunda   \n",
       "\n",
       "             Datetime  Day  Month  Year  Is_Weekend  Is_Night     Season  \n",
       "0 2023-03-19 00:00:00   19      3  2023           1         1  Primavera  \n",
       "1 2023-09-23 12:00:00   23      9  2023           1         0     Outono  \n",
       "2 2023-02-15 05:00:00   15      2  2023           0         1    Inverno  \n",
       "3 2023-02-05 11:00:00    5      2  2023           1         0    Inverno  \n",
       "4 2023-02-13 09:00:00   13      2  2023           0         0    Inverno  "
      ],
      "text/html": [
       "<div>\n",
       "<style scoped>\n",
       "    .dataframe tbody tr th:only-of-type {\n",
       "        vertical-align: middle;\n",
       "    }\n",
       "\n",
       "    .dataframe tbody tr th {\n",
       "        vertical-align: top;\n",
       "    }\n",
       "\n",
       "    .dataframe thead th {\n",
       "        text-align: right;\n",
       "    }\n",
       "</style>\n",
       "<table border=\"1\" class=\"dataframe\">\n",
       "  <thead>\n",
       "    <tr style=\"text-align: right;\">\n",
       "      <th></th>\n",
       "      <th>Date</th>\n",
       "      <th>Hour</th>\n",
       "      <th>Zip Code</th>\n",
       "      <th>Active Energy (kWh)</th>\n",
       "      <th>Day of the Week</th>\n",
       "      <th>Datetime</th>\n",
       "      <th>Day</th>\n",
       "      <th>Month</th>\n",
       "      <th>Year</th>\n",
       "      <th>Is_Weekend</th>\n",
       "      <th>Is_Night</th>\n",
       "      <th>Season</th>\n",
       "    </tr>\n",
       "  </thead>\n",
       "  <tbody>\n",
       "    <tr>\n",
       "      <th>0</th>\n",
       "      <td>2023-03-19</td>\n",
       "      <td>0</td>\n",
       "      <td>2025</td>\n",
       "      <td>4596.739709</td>\n",
       "      <td>Domingo</td>\n",
       "      <td>2023-03-19 00:00:00</td>\n",
       "      <td>19</td>\n",
       "      <td>3</td>\n",
       "      <td>2023</td>\n",
       "      <td>1</td>\n",
       "      <td>1</td>\n",
       "      <td>Primavera</td>\n",
       "    </tr>\n",
       "    <tr>\n",
       "      <th>1</th>\n",
       "      <td>2023-09-23</td>\n",
       "      <td>12</td>\n",
       "      <td>4405</td>\n",
       "      <td>14711.438243</td>\n",
       "      <td>Sábado</td>\n",
       "      <td>2023-09-23 12:00:00</td>\n",
       "      <td>23</td>\n",
       "      <td>9</td>\n",
       "      <td>2023</td>\n",
       "      <td>1</td>\n",
       "      <td>0</td>\n",
       "      <td>Outono</td>\n",
       "    </tr>\n",
       "    <tr>\n",
       "      <th>2</th>\n",
       "      <td>2023-02-15</td>\n",
       "      <td>5</td>\n",
       "      <td>1600</td>\n",
       "      <td>21440.512557</td>\n",
       "      <td>Quarta</td>\n",
       "      <td>2023-02-15 05:00:00</td>\n",
       "      <td>15</td>\n",
       "      <td>2</td>\n",
       "      <td>2023</td>\n",
       "      <td>0</td>\n",
       "      <td>1</td>\n",
       "      <td>Inverno</td>\n",
       "    </tr>\n",
       "    <tr>\n",
       "      <th>3</th>\n",
       "      <td>2023-02-05</td>\n",
       "      <td>11</td>\n",
       "      <td>3030</td>\n",
       "      <td>16974.037997</td>\n",
       "      <td>Domingo</td>\n",
       "      <td>2023-02-05 11:00:00</td>\n",
       "      <td>5</td>\n",
       "      <td>2</td>\n",
       "      <td>2023</td>\n",
       "      <td>1</td>\n",
       "      <td>0</td>\n",
       "      <td>Inverno</td>\n",
       "    </tr>\n",
       "    <tr>\n",
       "      <th>4</th>\n",
       "      <td>2023-02-13</td>\n",
       "      <td>9</td>\n",
       "      <td>4720</td>\n",
       "      <td>7247.291623</td>\n",
       "      <td>Segunda</td>\n",
       "      <td>2023-02-13 09:00:00</td>\n",
       "      <td>13</td>\n",
       "      <td>2</td>\n",
       "      <td>2023</td>\n",
       "      <td>0</td>\n",
       "      <td>0</td>\n",
       "      <td>Inverno</td>\n",
       "    </tr>\n",
       "  </tbody>\n",
       "</table>\n",
       "</div>"
      ]
     },
     "execution_count": 8,
     "metadata": {},
     "output_type": "execute_result"
    }
   ],
   "execution_count": 8
  },
  {
   "metadata": {
    "ExecuteTime": {
     "end_time": "2025-04-08T09:30:32.552300Z",
     "start_time": "2025-04-08T09:30:32.537303Z"
    }
   },
   "cell_type": "code",
   "source": [
    " # Tarefa: Anotar problemas visíveis\n",
    "df.dtypes  #  Verifica se os tipos de dados fazem sentido"
   ],
   "id": "e8efd0c5a2fa47ac",
   "outputs": [
    {
     "data": {
      "text/plain": [
       "Date                           object\n",
       "Hour                            int32\n",
       "Zip Code                       object\n",
       "Active Energy (kWh)           float64\n",
       "Day of the Week                object\n",
       "Datetime               datetime64[ns]\n",
       "Day                             int32\n",
       "Month                           int32\n",
       "Year                            int32\n",
       "Is_Weekend                      int32\n",
       "Is_Night                        int32\n",
       "Season                         object\n",
       "dtype: object"
      ]
     },
     "execution_count": 9,
     "metadata": {},
     "output_type": "execute_result"
    }
   ],
   "execution_count": 9
  },
  {
   "metadata": {
    "ExecuteTime": {
     "end_time": "2025-04-08T09:30:35.430107Z",
     "start_time": "2025-04-08T09:30:32.616302Z"
    }
   },
   "cell_type": "code",
   "source": [
    "# Verifica valores ausentes ou duplicados\n",
    "df.isnull().sum()\n",
    "df.duplicated().sum()"
   ],
   "id": "c748cdaf5ac7bf98",
   "outputs": [
    {
     "data": {
      "text/plain": [
       "0"
      ]
     },
     "execution_count": 10,
     "metadata": {},
     "output_type": "execute_result"
    }
   ],
   "execution_count": 10
  },
  {
   "metadata": {
    "ExecuteTime": {
     "end_time": "2025-04-08T09:30:37.172055Z",
     "start_time": "2025-04-08T09:30:35.476109Z"
    }
   },
   "cell_type": "code",
   "source": [
    "# ordenar os dados pela coluna Datetime\n",
    "df = df.sort_values(by='Datetime').reset_index(drop=True)"
   ],
   "id": "777beb8dd95664fb",
   "outputs": [],
   "execution_count": 11
  },
  {
   "metadata": {
    "ExecuteTime": {
     "end_time": "2025-04-08T09:30:37.219408Z",
     "start_time": "2025-04-08T09:30:37.203888Z"
    }
   },
   "cell_type": "code",
   "source": [
    "# Verifica se está ordenado corretamente\n",
    "df.head()  # Ver primeiros valores"
   ],
   "id": "e019061894c160dc",
   "outputs": [
    {
     "data": {
      "text/plain": [
       "         Date  Hour Zip Code  Active Energy (kWh) Day of the Week   Datetime  \\\n",
       "0  2022-11-01     0     5000         11175.021824           Terça 2022-11-01   \n",
       "1  2022-11-01     0     2450          7376.909868           Terça 2022-11-01   \n",
       "2  2022-11-01     0     5230           839.171319           Terça 2022-11-01   \n",
       "3  2022-11-01     0     3620          2849.440465           Terça 2022-11-01   \n",
       "4  2022-11-01     0     2800          5109.779921           Terça 2022-11-01   \n",
       "\n",
       "   Day  Month  Year  Is_Weekend  Is_Night  Season  \n",
       "0    1     11  2022           0         1  Outono  \n",
       "1    1     11  2022           0         1  Outono  \n",
       "2    1     11  2022           0         1  Outono  \n",
       "3    1     11  2022           0         1  Outono  \n",
       "4    1     11  2022           0         1  Outono  "
      ],
      "text/html": [
       "<div>\n",
       "<style scoped>\n",
       "    .dataframe tbody tr th:only-of-type {\n",
       "        vertical-align: middle;\n",
       "    }\n",
       "\n",
       "    .dataframe tbody tr th {\n",
       "        vertical-align: top;\n",
       "    }\n",
       "\n",
       "    .dataframe thead th {\n",
       "        text-align: right;\n",
       "    }\n",
       "</style>\n",
       "<table border=\"1\" class=\"dataframe\">\n",
       "  <thead>\n",
       "    <tr style=\"text-align: right;\">\n",
       "      <th></th>\n",
       "      <th>Date</th>\n",
       "      <th>Hour</th>\n",
       "      <th>Zip Code</th>\n",
       "      <th>Active Energy (kWh)</th>\n",
       "      <th>Day of the Week</th>\n",
       "      <th>Datetime</th>\n",
       "      <th>Day</th>\n",
       "      <th>Month</th>\n",
       "      <th>Year</th>\n",
       "      <th>Is_Weekend</th>\n",
       "      <th>Is_Night</th>\n",
       "      <th>Season</th>\n",
       "    </tr>\n",
       "  </thead>\n",
       "  <tbody>\n",
       "    <tr>\n",
       "      <th>0</th>\n",
       "      <td>2022-11-01</td>\n",
       "      <td>0</td>\n",
       "      <td>5000</td>\n",
       "      <td>11175.021824</td>\n",
       "      <td>Terça</td>\n",
       "      <td>2022-11-01</td>\n",
       "      <td>1</td>\n",
       "      <td>11</td>\n",
       "      <td>2022</td>\n",
       "      <td>0</td>\n",
       "      <td>1</td>\n",
       "      <td>Outono</td>\n",
       "    </tr>\n",
       "    <tr>\n",
       "      <th>1</th>\n",
       "      <td>2022-11-01</td>\n",
       "      <td>0</td>\n",
       "      <td>2450</td>\n",
       "      <td>7376.909868</td>\n",
       "      <td>Terça</td>\n",
       "      <td>2022-11-01</td>\n",
       "      <td>1</td>\n",
       "      <td>11</td>\n",
       "      <td>2022</td>\n",
       "      <td>0</td>\n",
       "      <td>1</td>\n",
       "      <td>Outono</td>\n",
       "    </tr>\n",
       "    <tr>\n",
       "      <th>2</th>\n",
       "      <td>2022-11-01</td>\n",
       "      <td>0</td>\n",
       "      <td>5230</td>\n",
       "      <td>839.171319</td>\n",
       "      <td>Terça</td>\n",
       "      <td>2022-11-01</td>\n",
       "      <td>1</td>\n",
       "      <td>11</td>\n",
       "      <td>2022</td>\n",
       "      <td>0</td>\n",
       "      <td>1</td>\n",
       "      <td>Outono</td>\n",
       "    </tr>\n",
       "    <tr>\n",
       "      <th>3</th>\n",
       "      <td>2022-11-01</td>\n",
       "      <td>0</td>\n",
       "      <td>3620</td>\n",
       "      <td>2849.440465</td>\n",
       "      <td>Terça</td>\n",
       "      <td>2022-11-01</td>\n",
       "      <td>1</td>\n",
       "      <td>11</td>\n",
       "      <td>2022</td>\n",
       "      <td>0</td>\n",
       "      <td>1</td>\n",
       "      <td>Outono</td>\n",
       "    </tr>\n",
       "    <tr>\n",
       "      <th>4</th>\n",
       "      <td>2022-11-01</td>\n",
       "      <td>0</td>\n",
       "      <td>2800</td>\n",
       "      <td>5109.779921</td>\n",
       "      <td>Terça</td>\n",
       "      <td>2022-11-01</td>\n",
       "      <td>1</td>\n",
       "      <td>11</td>\n",
       "      <td>2022</td>\n",
       "      <td>0</td>\n",
       "      <td>1</td>\n",
       "      <td>Outono</td>\n",
       "    </tr>\n",
       "  </tbody>\n",
       "</table>\n",
       "</div>"
      ]
     },
     "execution_count": 12,
     "metadata": {},
     "output_type": "execute_result"
    }
   ],
   "execution_count": 12
  },
  {
   "metadata": {
    "ExecuteTime": {
     "end_time": "2025-04-08T09:30:37.314345Z",
     "start_time": "2025-04-08T09:30:37.282824Z"
    }
   },
   "cell_type": "code",
   "source": "df.tail()  # Ver últimos valores",
   "id": "525d7519e048998f",
   "outputs": [
    {
     "data": {
      "text/plain": [
       "               Date  Hour Zip Code  Active Energy (kWh) Day of the Week  \\\n",
       "3727434  2023-09-30    23     4900          8312.043233          Sábado   \n",
       "3727435  2023-09-30    23     8300          3320.150528          Sábado   \n",
       "3727436  2023-09-30    23     4410         10211.948003          Sábado   \n",
       "3727437  2023-09-30    23     4800          5922.919257          Sábado   \n",
       "3727438  2023-09-30    23     5160          1487.604437          Sábado   \n",
       "\n",
       "                   Datetime  Day  Month  Year  Is_Weekend  Is_Night  Season  \n",
       "3727434 2023-09-30 23:00:00   30      9  2023           1         0  Outono  \n",
       "3727435 2023-09-30 23:00:00   30      9  2023           1         0  Outono  \n",
       "3727436 2023-09-30 23:00:00   30      9  2023           1         0  Outono  \n",
       "3727437 2023-09-30 23:00:00   30      9  2023           1         0  Outono  \n",
       "3727438 2023-09-30 23:00:00   30      9  2023           1         0  Outono  "
      ],
      "text/html": [
       "<div>\n",
       "<style scoped>\n",
       "    .dataframe tbody tr th:only-of-type {\n",
       "        vertical-align: middle;\n",
       "    }\n",
       "\n",
       "    .dataframe tbody tr th {\n",
       "        vertical-align: top;\n",
       "    }\n",
       "\n",
       "    .dataframe thead th {\n",
       "        text-align: right;\n",
       "    }\n",
       "</style>\n",
       "<table border=\"1\" class=\"dataframe\">\n",
       "  <thead>\n",
       "    <tr style=\"text-align: right;\">\n",
       "      <th></th>\n",
       "      <th>Date</th>\n",
       "      <th>Hour</th>\n",
       "      <th>Zip Code</th>\n",
       "      <th>Active Energy (kWh)</th>\n",
       "      <th>Day of the Week</th>\n",
       "      <th>Datetime</th>\n",
       "      <th>Day</th>\n",
       "      <th>Month</th>\n",
       "      <th>Year</th>\n",
       "      <th>Is_Weekend</th>\n",
       "      <th>Is_Night</th>\n",
       "      <th>Season</th>\n",
       "    </tr>\n",
       "  </thead>\n",
       "  <tbody>\n",
       "    <tr>\n",
       "      <th>3727434</th>\n",
       "      <td>2023-09-30</td>\n",
       "      <td>23</td>\n",
       "      <td>4900</td>\n",
       "      <td>8312.043233</td>\n",
       "      <td>Sábado</td>\n",
       "      <td>2023-09-30 23:00:00</td>\n",
       "      <td>30</td>\n",
       "      <td>9</td>\n",
       "      <td>2023</td>\n",
       "      <td>1</td>\n",
       "      <td>0</td>\n",
       "      <td>Outono</td>\n",
       "    </tr>\n",
       "    <tr>\n",
       "      <th>3727435</th>\n",
       "      <td>2023-09-30</td>\n",
       "      <td>23</td>\n",
       "      <td>8300</td>\n",
       "      <td>3320.150528</td>\n",
       "      <td>Sábado</td>\n",
       "      <td>2023-09-30 23:00:00</td>\n",
       "      <td>30</td>\n",
       "      <td>9</td>\n",
       "      <td>2023</td>\n",
       "      <td>1</td>\n",
       "      <td>0</td>\n",
       "      <td>Outono</td>\n",
       "    </tr>\n",
       "    <tr>\n",
       "      <th>3727436</th>\n",
       "      <td>2023-09-30</td>\n",
       "      <td>23</td>\n",
       "      <td>4410</td>\n",
       "      <td>10211.948003</td>\n",
       "      <td>Sábado</td>\n",
       "      <td>2023-09-30 23:00:00</td>\n",
       "      <td>30</td>\n",
       "      <td>9</td>\n",
       "      <td>2023</td>\n",
       "      <td>1</td>\n",
       "      <td>0</td>\n",
       "      <td>Outono</td>\n",
       "    </tr>\n",
       "    <tr>\n",
       "      <th>3727437</th>\n",
       "      <td>2023-09-30</td>\n",
       "      <td>23</td>\n",
       "      <td>4800</td>\n",
       "      <td>5922.919257</td>\n",
       "      <td>Sábado</td>\n",
       "      <td>2023-09-30 23:00:00</td>\n",
       "      <td>30</td>\n",
       "      <td>9</td>\n",
       "      <td>2023</td>\n",
       "      <td>1</td>\n",
       "      <td>0</td>\n",
       "      <td>Outono</td>\n",
       "    </tr>\n",
       "    <tr>\n",
       "      <th>3727438</th>\n",
       "      <td>2023-09-30</td>\n",
       "      <td>23</td>\n",
       "      <td>5160</td>\n",
       "      <td>1487.604437</td>\n",
       "      <td>Sábado</td>\n",
       "      <td>2023-09-30 23:00:00</td>\n",
       "      <td>30</td>\n",
       "      <td>9</td>\n",
       "      <td>2023</td>\n",
       "      <td>1</td>\n",
       "      <td>0</td>\n",
       "      <td>Outono</td>\n",
       "    </tr>\n",
       "  </tbody>\n",
       "</table>\n",
       "</div>"
      ]
     },
     "execution_count": 13,
     "metadata": {},
     "output_type": "execute_result"
    }
   ],
   "execution_count": 13
  },
  {
   "metadata": {
    "ExecuteTime": {
     "end_time": "2025-04-08T09:30:54.953996Z",
     "start_time": "2025-04-08T09:30:37.388908Z"
    }
   },
   "cell_type": "code",
   "source": [
    "# Guardar versão limpa do dataset como .csv\n",
    "df = df[df['Active Energy (kWh)'] >= 0]\n",
    "df.to_csv('datasets/consumo_eredes_limpo.csv', index=False)"
   ],
   "id": "3a36ae89cbb19555",
   "outputs": [],
   "execution_count": 14
  },
  {
   "metadata": {},
   "cell_type": "markdown",
   "source": [
    "### Dataset Limpo\n",
    "- Nome: `consumo_eredes_limpo.csv`\n",
    "- Colunas mantidas: `Zip Code`, `Active Energy (kWh)`, `Day of the Week`\n",
    "- Colunas criadas: `Datetime`\n",
    "- Index ordenado cronologicamente"
   ],
   "id": "6ed7c7e886d19ed5"
  }
 ],
 "metadata": {
  "kernelspec": {
   "display_name": "Python 3 (ipykernel)",
   "language": "python",
   "name": "python3"
  },
  "language_info": {
   "codemirror_mode": {
    "name": "ipython",
    "version": 2
   },
   "file_extension": ".py",
   "mimetype": "text/x-python",
   "name": "python",
   "nbconvert_exporter": "python",
   "pygments_lexer": "ipython2",
   "version": "2.7.6"
  }
 },
 "nbformat": 4,
 "nbformat_minor": 5
}

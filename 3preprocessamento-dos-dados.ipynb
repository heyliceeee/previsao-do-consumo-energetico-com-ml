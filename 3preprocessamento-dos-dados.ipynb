{
 "cells": [
  {
   "metadata": {},
   "cell_type": "markdown",
   "source": "# ⚙️ Pré-processamento dos Dados",
   "id": "5850b526e79c7c0a"
  },
  {
   "metadata": {
    "ExecuteTime": {
     "end_time": "2025-04-14T10:08:33.703223Z",
     "start_time": "2025-04-14T10:08:32.752848Z"
    }
   },
   "cell_type": "code",
   "source": [
    "# Importar bibliotecas necessárias\n",
    "# !pip install pandas scikit_learn numpy\n",
    "import pandas as pd\n",
    "from sklearn.preprocessing import MinMaxScaler\n",
    "from sklearn.preprocessing import StandardScaler\n",
    "import numpy as np"
   ],
   "id": "77282111ffee4961",
   "outputs": [],
   "execution_count": 1
  },
  {
   "metadata": {
    "ExecuteTime": {
     "end_time": "2025-04-14T10:09:48.499048Z",
     "start_time": "2025-04-14T10:09:47.788599Z"
    }
   },
   "cell_type": "code",
   "source": [
    "# Abrir o ficheiro com ; como separador\n",
    "df = pd.read_parquet('datasets/consumo_eredes_customizado.parquet')"
   ],
   "id": "22a6286c9b046ce6",
   "outputs": [],
   "execution_count": 2
  },
  {
   "metadata": {},
   "cell_type": "markdown",
   "source": [
    "# MinMaxScaler [0, 1]\n",
    "- Valores baixos de consumo (ex: 839.17) → ficam perto de 0\n",
    "- Valores mais altos de consumo (ex: 11175.02) → ficam mais perto de 1"
   ],
   "id": "33d3293ebee9a149"
  },
  {
   "metadata": {
    "ExecuteTime": {
     "end_time": "2025-04-14T10:10:31.749082Z",
     "start_time": "2025-04-14T10:10:31.686234Z"
    }
   },
   "cell_type": "code",
   "source": [
    "# Instanciar o scaler\n",
    "scaler = MinMaxScaler()\n",
    "\n",
    "# Aplicar no consumo energético\n",
    "df['EnergyNormalized'] = scaler.fit_transform(df[['ActiveEnergy(kWh)']])"
   ],
   "id": "3dba59b2042ee6cf",
   "outputs": [],
   "execution_count": 3
  },
  {
   "metadata": {},
   "cell_type": "markdown",
   "source": [
    "# StandardScaler [-♾️, +♾️]\n",
    "- positivos -> acima da media\n",
    "- negativos -> abaixo da media"
   ],
   "id": "cf46278779528bfe"
  },
  {
   "metadata": {
    "ExecuteTime": {
     "end_time": "2025-04-14T10:10:34.595982Z",
     "start_time": "2025-04-14T10:10:34.522473Z"
    }
   },
   "cell_type": "code",
   "source": [
    "scaler = StandardScaler()\n",
    "df['EnergyStandardized'] = scaler.fit_transform(df[['ActiveEnergy(kWh)']])"
   ],
   "id": "9e15c81da045eb8e",
   "outputs": [],
   "execution_count": 4
  },
  {
   "metadata": {
    "ExecuteTime": {
     "end_time": "2025-04-14T10:10:36.194528Z",
     "start_time": "2025-04-14T10:10:36.177466Z"
    }
   },
   "cell_type": "code",
   "source": "df.tail()",
   "id": "456f054b197579e1",
   "outputs": [
    {
     "data": {
      "text/plain": [
       "                   DateTime        Date  Hour ZipCode  ActiveEnergy(kWh)  Day  \\\n",
       "3719403 2023-09-30 23:00:00  2023-09-30    23    1685        3588.766159   30   \n",
       "3719404 2023-09-30 23:00:00  2023-09-30    23    3740        1849.719996   30   \n",
       "3719405 2023-09-30 23:00:00  2023-09-30    23    3750       12433.094481   30   \n",
       "3719406 2023-09-30 23:00:00  2023-09-30    23    3680        2393.029205   30   \n",
       "3719407 2023-09-30 23:00:00  2023-09-30    23    8970         720.206910   30   \n",
       "\n",
       "         Month  Year  IsWeekend TimeOfDay DayOfTheWeek  Season  Temperature  \\\n",
       "3719403      9  2023          1     Noite       Sábado  Outono         21.8   \n",
       "3719404      9  2023          1     Noite       Sábado  Outono         22.4   \n",
       "3719405      9  2023          1     Noite       Sábado  Outono         22.4   \n",
       "3719406      9  2023          1     Noite       Sábado  Outono         20.2   \n",
       "3719407      9  2023          1     Noite       Sábado  Outono         22.5   \n",
       "\n",
       "         PopulationDensity  EnergyNormalized  EnergyStandardized  \n",
       "3719403            5455.23          0.023778           -0.562608  \n",
       "3719404            2788.79          0.012252           -0.713159  \n",
       "3719405            2788.79          0.082397            0.203054  \n",
       "3719406             196.31          0.015853           -0.666124  \n",
       "3719407             333.82          0.004766           -0.810942  "
      ],
      "text/html": [
       "<div>\n",
       "<style scoped>\n",
       "    .dataframe tbody tr th:only-of-type {\n",
       "        vertical-align: middle;\n",
       "    }\n",
       "\n",
       "    .dataframe tbody tr th {\n",
       "        vertical-align: top;\n",
       "    }\n",
       "\n",
       "    .dataframe thead th {\n",
       "        text-align: right;\n",
       "    }\n",
       "</style>\n",
       "<table border=\"1\" class=\"dataframe\">\n",
       "  <thead>\n",
       "    <tr style=\"text-align: right;\">\n",
       "      <th></th>\n",
       "      <th>DateTime</th>\n",
       "      <th>Date</th>\n",
       "      <th>Hour</th>\n",
       "      <th>ZipCode</th>\n",
       "      <th>ActiveEnergy(kWh)</th>\n",
       "      <th>Day</th>\n",
       "      <th>Month</th>\n",
       "      <th>Year</th>\n",
       "      <th>IsWeekend</th>\n",
       "      <th>TimeOfDay</th>\n",
       "      <th>DayOfTheWeek</th>\n",
       "      <th>Season</th>\n",
       "      <th>Temperature</th>\n",
       "      <th>PopulationDensity</th>\n",
       "      <th>EnergyNormalized</th>\n",
       "      <th>EnergyStandardized</th>\n",
       "    </tr>\n",
       "  </thead>\n",
       "  <tbody>\n",
       "    <tr>\n",
       "      <th>3719403</th>\n",
       "      <td>2023-09-30 23:00:00</td>\n",
       "      <td>2023-09-30</td>\n",
       "      <td>23</td>\n",
       "      <td>1685</td>\n",
       "      <td>3588.766159</td>\n",
       "      <td>30</td>\n",
       "      <td>9</td>\n",
       "      <td>2023</td>\n",
       "      <td>1</td>\n",
       "      <td>Noite</td>\n",
       "      <td>Sábado</td>\n",
       "      <td>Outono</td>\n",
       "      <td>21.8</td>\n",
       "      <td>5455.23</td>\n",
       "      <td>0.023778</td>\n",
       "      <td>-0.562608</td>\n",
       "    </tr>\n",
       "    <tr>\n",
       "      <th>3719404</th>\n",
       "      <td>2023-09-30 23:00:00</td>\n",
       "      <td>2023-09-30</td>\n",
       "      <td>23</td>\n",
       "      <td>3740</td>\n",
       "      <td>1849.719996</td>\n",
       "      <td>30</td>\n",
       "      <td>9</td>\n",
       "      <td>2023</td>\n",
       "      <td>1</td>\n",
       "      <td>Noite</td>\n",
       "      <td>Sábado</td>\n",
       "      <td>Outono</td>\n",
       "      <td>22.4</td>\n",
       "      <td>2788.79</td>\n",
       "      <td>0.012252</td>\n",
       "      <td>-0.713159</td>\n",
       "    </tr>\n",
       "    <tr>\n",
       "      <th>3719405</th>\n",
       "      <td>2023-09-30 23:00:00</td>\n",
       "      <td>2023-09-30</td>\n",
       "      <td>23</td>\n",
       "      <td>3750</td>\n",
       "      <td>12433.094481</td>\n",
       "      <td>30</td>\n",
       "      <td>9</td>\n",
       "      <td>2023</td>\n",
       "      <td>1</td>\n",
       "      <td>Noite</td>\n",
       "      <td>Sábado</td>\n",
       "      <td>Outono</td>\n",
       "      <td>22.4</td>\n",
       "      <td>2788.79</td>\n",
       "      <td>0.082397</td>\n",
       "      <td>0.203054</td>\n",
       "    </tr>\n",
       "    <tr>\n",
       "      <th>3719406</th>\n",
       "      <td>2023-09-30 23:00:00</td>\n",
       "      <td>2023-09-30</td>\n",
       "      <td>23</td>\n",
       "      <td>3680</td>\n",
       "      <td>2393.029205</td>\n",
       "      <td>30</td>\n",
       "      <td>9</td>\n",
       "      <td>2023</td>\n",
       "      <td>1</td>\n",
       "      <td>Noite</td>\n",
       "      <td>Sábado</td>\n",
       "      <td>Outono</td>\n",
       "      <td>20.2</td>\n",
       "      <td>196.31</td>\n",
       "      <td>0.015853</td>\n",
       "      <td>-0.666124</td>\n",
       "    </tr>\n",
       "    <tr>\n",
       "      <th>3719407</th>\n",
       "      <td>2023-09-30 23:00:00</td>\n",
       "      <td>2023-09-30</td>\n",
       "      <td>23</td>\n",
       "      <td>8970</td>\n",
       "      <td>720.206910</td>\n",
       "      <td>30</td>\n",
       "      <td>9</td>\n",
       "      <td>2023</td>\n",
       "      <td>1</td>\n",
       "      <td>Noite</td>\n",
       "      <td>Sábado</td>\n",
       "      <td>Outono</td>\n",
       "      <td>22.5</td>\n",
       "      <td>333.82</td>\n",
       "      <td>0.004766</td>\n",
       "      <td>-0.810942</td>\n",
       "    </tr>\n",
       "  </tbody>\n",
       "</table>\n",
       "</div>"
      ]
     },
     "execution_count": 5,
     "metadata": {},
     "output_type": "execute_result"
    }
   ],
   "execution_count": 5
  },
  {
   "metadata": {},
   "cell_type": "markdown",
   "source": [
    "# Criação de conjuntos de treino, validação e teste\n",
    "- train (nov 2022 - jun 2023) -> 70%\n",
    "- validation (jul 2023 - ago 2023) -> 15%\n",
    "- train (set 2023) -> 15%"
   ],
   "id": "a68acb0995944b67"
  },
  {
   "metadata": {
    "ExecuteTime": {
     "end_time": "2025-04-14T10:12:14.936164Z",
     "start_time": "2025-04-14T10:12:14.577035Z"
    }
   },
   "cell_type": "code",
   "source": [
    "# Divisão com base no tempo\n",
    "\n",
    "# Definir os limites\n",
    "train_df = df[df['DateTime'] < '2023-07-01']\n",
    "val_df   = df[(df['DateTime'] >= '2023-07-01') & (df['DateTime'] < '2023-09-01')]\n",
    "test_df  = df[df['DateTime'] >= '2023-09-01']"
   ],
   "id": "7a416ca79c9bd16f",
   "outputs": [],
   "execution_count": 6
  },
  {
   "metadata": {
    "ExecuteTime": {
     "end_time": "2025-04-14T10:12:25.182095Z",
     "start_time": "2025-04-14T10:12:25.118253Z"
    }
   },
   "cell_type": "code",
   "source": [
    "# Separar features e target\n",
    "features = ['DayOfTheWeek', 'DateTime', 'ZipCode']\n",
    "target = 'EnergyNormalized' # usar este em vez do ActiveEnergy(kWh), porque ha melhor performance no modelo e modelos sensiveis a escala\n",
    "\n",
    "X_train, y_train = train_df[features], train_df[target]\n",
    "X_val, y_val     = val_df[features], val_df[target]\n",
    "X_test, y_test   = test_df[features], test_df[target]"
   ],
   "id": "a0f8d898df5cc1fb",
   "outputs": [],
   "execution_count": 7
  },
  {
   "metadata": {},
   "cell_type": "markdown",
   "source": "# Criação de janelas de tempo (`windowing`) para LSTM/CNN",
   "id": "edfee511c7b251ef"
  },
  {
   "metadata": {
    "ExecuteTime": {
     "end_time": "2025-04-14T10:12:51.967106Z",
     "start_time": "2025-04-14T10:12:48.739177Z"
    }
   },
   "cell_type": "code",
   "source": [
    "def create_windows(data, window_size):\n",
    "    X, y = [], []\n",
    "    for i in range(len(data) - window_size):\n",
    "        X.append(data[i:i+window_size])\n",
    "        y.append(data[i+window_size])\n",
    "    return np.array(X), np.array(y)\n",
    "\n",
    "window_size = 24  # Define o número de passos anteriores (ex: 24 horas)\n",
    "\n",
    "# Só usamos a coluna normalizada\n",
    "train_series = train_df['EnergyNormalized'].values\n",
    "val_series   = val_df['EnergyNormalized'].values\n",
    "test_series  = test_df['EnergyNormalized'].values\n",
    "\n",
    "# Criar janelas\n",
    "X_train_win, y_train_win = create_windows(train_series, window_size)\n",
    "X_val_win, y_val_win = create_windows(val_series, window_size)\n",
    "X_test_win, y_test_win = create_windows(test_series, window_size)\n",
    "\n",
    "# Reshape para LSTM/CNN: (amostras, passos temporais, 1)\n",
    "X_train_win = X_train_win.reshape((X_train_win.shape[0], X_train_win.shape[1], 1))\n",
    "X_val_win   = X_val_win.reshape((X_val_win.shape[0], X_val_win.shape[1], 1))\n",
    "X_test_win  = X_test_win.reshape((X_test_win.shape[0], X_test_win.shape[1], 1))\n",
    "\n",
    "print(\"Formatos finais:\")\n",
    "print(\"X_train:\", X_train_win.shape, \"| y_train:\", y_train_win.shape)\n",
    "print(\"X_val  :\", X_val_win.shape, \"| y_val  :\", y_val_win.shape)\n",
    "print(\"X_test :\", X_test_win.shape, \"| y_test :\", y_test_win.shape)"
   ],
   "id": "ca81b4164614cc14",
   "outputs": [
    {
     "name": "stdout",
     "output_type": "stream",
     "text": [
      "Formatos finais:\n",
      "X_train: (2694883, 24, 1) | y_train: (2694883,)\n",
      "X_val  : (690403, 24, 1) | y_val  : (690403,)\n",
      "X_test : (334050, 24, 1) | y_test : (334050,)\n"
     ]
    }
   ],
   "execution_count": 8
  },
  {
   "metadata": {
    "ExecuteTime": {
     "end_time": "2025-04-14T10:12:54.611229Z",
     "start_time": "2025-04-14T10:12:54.587171Z"
    }
   },
   "cell_type": "code",
   "source": "df.head()",
   "id": "2d8ccf96658c7813",
   "outputs": [
    {
     "data": {
      "text/plain": [
       "    DateTime        Date  Hour ZipCode  ActiveEnergy(kWh)  Day  Month  Year  \\\n",
       "0 2022-11-01  2022-11-01     0    1000        9328.306723    1     11  2022   \n",
       "1 2022-11-01  2022-11-01     0    3045        4293.076725    1     11  2022   \n",
       "2 2022-11-01  2022-11-01     0    3050        6608.606545    1     11  2022   \n",
       "3 2022-11-01  2022-11-01     0    3060       16832.631994    1     11  2022   \n",
       "4 2022-11-01  2022-11-01     0    3070        5894.381217    1     11  2022   \n",
       "\n",
       "   IsWeekend TimeOfDay DayOfTheWeek  Season  Temperature  PopulationDensity  \\\n",
       "0          0     Noite        Terça  Outono         15.5            5455.23   \n",
       "1          0     Noite        Terça  Outono         11.4             440.88   \n",
       "2          0     Noite        Terça  Outono         11.4             440.88   \n",
       "3          0     Noite        Terça  Outono         11.4             440.88   \n",
       "4          0     Noite        Terça  Outono         11.4             440.88   \n",
       "\n",
       "   EnergyNormalized  EnergyStandardized  \n",
       "0          0.061819           -0.065731  \n",
       "1          0.028446           -0.501635  \n",
       "2          0.043793           -0.301178  \n",
       "3          0.111557            0.583926  \n",
       "4          0.039060           -0.363009  "
      ],
      "text/html": [
       "<div>\n",
       "<style scoped>\n",
       "    .dataframe tbody tr th:only-of-type {\n",
       "        vertical-align: middle;\n",
       "    }\n",
       "\n",
       "    .dataframe tbody tr th {\n",
       "        vertical-align: top;\n",
       "    }\n",
       "\n",
       "    .dataframe thead th {\n",
       "        text-align: right;\n",
       "    }\n",
       "</style>\n",
       "<table border=\"1\" class=\"dataframe\">\n",
       "  <thead>\n",
       "    <tr style=\"text-align: right;\">\n",
       "      <th></th>\n",
       "      <th>DateTime</th>\n",
       "      <th>Date</th>\n",
       "      <th>Hour</th>\n",
       "      <th>ZipCode</th>\n",
       "      <th>ActiveEnergy(kWh)</th>\n",
       "      <th>Day</th>\n",
       "      <th>Month</th>\n",
       "      <th>Year</th>\n",
       "      <th>IsWeekend</th>\n",
       "      <th>TimeOfDay</th>\n",
       "      <th>DayOfTheWeek</th>\n",
       "      <th>Season</th>\n",
       "      <th>Temperature</th>\n",
       "      <th>PopulationDensity</th>\n",
       "      <th>EnergyNormalized</th>\n",
       "      <th>EnergyStandardized</th>\n",
       "    </tr>\n",
       "  </thead>\n",
       "  <tbody>\n",
       "    <tr>\n",
       "      <th>0</th>\n",
       "      <td>2022-11-01</td>\n",
       "      <td>2022-11-01</td>\n",
       "      <td>0</td>\n",
       "      <td>1000</td>\n",
       "      <td>9328.306723</td>\n",
       "      <td>1</td>\n",
       "      <td>11</td>\n",
       "      <td>2022</td>\n",
       "      <td>0</td>\n",
       "      <td>Noite</td>\n",
       "      <td>Terça</td>\n",
       "      <td>Outono</td>\n",
       "      <td>15.5</td>\n",
       "      <td>5455.23</td>\n",
       "      <td>0.061819</td>\n",
       "      <td>-0.065731</td>\n",
       "    </tr>\n",
       "    <tr>\n",
       "      <th>1</th>\n",
       "      <td>2022-11-01</td>\n",
       "      <td>2022-11-01</td>\n",
       "      <td>0</td>\n",
       "      <td>3045</td>\n",
       "      <td>4293.076725</td>\n",
       "      <td>1</td>\n",
       "      <td>11</td>\n",
       "      <td>2022</td>\n",
       "      <td>0</td>\n",
       "      <td>Noite</td>\n",
       "      <td>Terça</td>\n",
       "      <td>Outono</td>\n",
       "      <td>11.4</td>\n",
       "      <td>440.88</td>\n",
       "      <td>0.028446</td>\n",
       "      <td>-0.501635</td>\n",
       "    </tr>\n",
       "    <tr>\n",
       "      <th>2</th>\n",
       "      <td>2022-11-01</td>\n",
       "      <td>2022-11-01</td>\n",
       "      <td>0</td>\n",
       "      <td>3050</td>\n",
       "      <td>6608.606545</td>\n",
       "      <td>1</td>\n",
       "      <td>11</td>\n",
       "      <td>2022</td>\n",
       "      <td>0</td>\n",
       "      <td>Noite</td>\n",
       "      <td>Terça</td>\n",
       "      <td>Outono</td>\n",
       "      <td>11.4</td>\n",
       "      <td>440.88</td>\n",
       "      <td>0.043793</td>\n",
       "      <td>-0.301178</td>\n",
       "    </tr>\n",
       "    <tr>\n",
       "      <th>3</th>\n",
       "      <td>2022-11-01</td>\n",
       "      <td>2022-11-01</td>\n",
       "      <td>0</td>\n",
       "      <td>3060</td>\n",
       "      <td>16832.631994</td>\n",
       "      <td>1</td>\n",
       "      <td>11</td>\n",
       "      <td>2022</td>\n",
       "      <td>0</td>\n",
       "      <td>Noite</td>\n",
       "      <td>Terça</td>\n",
       "      <td>Outono</td>\n",
       "      <td>11.4</td>\n",
       "      <td>440.88</td>\n",
       "      <td>0.111557</td>\n",
       "      <td>0.583926</td>\n",
       "    </tr>\n",
       "    <tr>\n",
       "      <th>4</th>\n",
       "      <td>2022-11-01</td>\n",
       "      <td>2022-11-01</td>\n",
       "      <td>0</td>\n",
       "      <td>3070</td>\n",
       "      <td>5894.381217</td>\n",
       "      <td>1</td>\n",
       "      <td>11</td>\n",
       "      <td>2022</td>\n",
       "      <td>0</td>\n",
       "      <td>Noite</td>\n",
       "      <td>Terça</td>\n",
       "      <td>Outono</td>\n",
       "      <td>11.4</td>\n",
       "      <td>440.88</td>\n",
       "      <td>0.039060</td>\n",
       "      <td>-0.363009</td>\n",
       "    </tr>\n",
       "  </tbody>\n",
       "</table>\n",
       "</div>"
      ]
     },
     "execution_count": 9,
     "metadata": {},
     "output_type": "execute_result"
    }
   ],
   "execution_count": 9
  },
  {
   "metadata": {
    "ExecuteTime": {
     "end_time": "2025-04-14T10:15:00.663909Z",
     "start_time": "2025-04-14T10:14:58.178895Z"
    }
   },
   "cell_type": "code",
   "source": [
    "df.to_parquet(\"datasets/consumo_eredes_normalizado.parquet\", index=False)\n",
    "print(\"✅ Ficheiro combinado guardado em: datasets/consumo_eredes_normalizado.parquet\")"
   ],
   "id": "ecb3703c55c439de",
   "outputs": [
    {
     "name": "stdout",
     "output_type": "stream",
     "text": [
      "✅ Ficheiro combinado guardado em: datasets/consumo_eredes_normalizado.parquet\n"
     ]
    }
   ],
   "execution_count": 10
  }
 ],
 "metadata": {
  "kernelspec": {
   "display_name": "Python 3 (ipykernel)",
   "language": "python",
   "name": "python3"
  },
  "language_info": {
   "codemirror_mode": {
    "name": "ipython",
    "version": 2
   },
   "file_extension": ".py",
   "mimetype": "text/x-python",
   "name": "python",
   "nbconvert_exporter": "python",
   "pygments_lexer": "ipython2",
   "version": "2.7.6"
  }
 },
 "nbformat": 4,
 "nbformat_minor": 5
}

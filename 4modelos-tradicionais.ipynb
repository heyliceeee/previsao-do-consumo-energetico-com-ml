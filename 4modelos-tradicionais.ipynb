{
 "cells": [
  {
   "metadata": {},
   "cell_type": "markdown",
   "source": "# Modelos Tradicionais (Baseline)",
   "id": "d896ee4086458df3"
  },
  {
   "cell_type": "code",
   "id": "initial_id",
   "metadata": {
    "collapsed": true,
    "ExecuteTime": {
     "end_time": "2025-04-20T11:20:28.950609Z",
     "start_time": "2025-04-20T11:20:28.946312Z"
    }
   },
   "source": [
    "import pandas as pd\n",
    "from sklearn.metrics import mean_absolute_error, mean_squared_error\n",
    "import matplotlib.pyplot as plt\n",
    "import torch\n",
    "from chronos import BaseChronosPipeline\n",
    "import numpy as np\n",
    "from autogluon.timeseries import TimeSeriesDataFrame, TimeSeriesPredictor\n",
    "from datetime import timedelta\n",
    "from pandas import IndexSlice as idx\n",
    "from autogluon.timeseries.metrics.quantile import WQL"
   ],
   "outputs": [],
   "execution_count": 57
  },
  {
   "metadata": {},
   "cell_type": "markdown",
   "source": "###### Carregar e preparar o dataset",
   "id": "269f16a32c3a5497"
  },
  {
   "metadata": {
    "ExecuteTime": {
     "end_time": "2025-04-20T18:21:41.724021Z",
     "start_time": "2025-04-20T18:21:39.989789Z"
    }
   },
   "cell_type": "code",
   "source": [
    "# Abrir o ficheiro\n",
    "df = pd.read_parquet('datasets/consumo_eredes_normalizado.parquet')\n",
    "\n",
    "df.tail()"
   ],
   "id": "208dfd6de16e224c",
   "outputs": [
    {
     "data": {
      "text/plain": [
       "                   DateTime        Date  Hour ZipCode  ActiveEnergy(kWh)  Day  \\\n",
       "3719403 2023-09-30 23:00:00  2023-09-30    23    1685        3588.766159   30   \n",
       "3719404 2023-09-30 23:00:00  2023-09-30    23    3740        1849.719996   30   \n",
       "3719405 2023-09-30 23:00:00  2023-09-30    23    3750       12433.094481   30   \n",
       "3719406 2023-09-30 23:00:00  2023-09-30    23    3680        2393.029205   30   \n",
       "3719407 2023-09-30 23:00:00  2023-09-30    23    8970         720.206910   30   \n",
       "\n",
       "         Month  Year  IsWeekend TimeOfDay DayOfTheWeek  Season  IsHoliday  \\\n",
       "3719403      9  2023          1     Noite       Sábado  Outono          0   \n",
       "3719404      9  2023          1     Noite       Sábado  Outono          0   \n",
       "3719405      9  2023          1     Noite       Sábado  Outono          0   \n",
       "3719406      9  2023          1     Noite       Sábado  Outono          0   \n",
       "3719407      9  2023          1     Noite       Sábado  Outono          0   \n",
       "\n",
       "         Temperature  PopulationDensity  EnergyNormalized  EnergyStandardized  \n",
       "3719403         21.8            5455.23          0.023778           -0.562608  \n",
       "3719404         22.4            2788.79          0.012252           -0.713159  \n",
       "3719405         22.4            2788.79          0.082397            0.203054  \n",
       "3719406         20.2             196.31          0.015853           -0.666124  \n",
       "3719407         22.5             333.82          0.004766           -0.810942  "
      ],
      "text/html": [
       "<div>\n",
       "<style scoped>\n",
       "    .dataframe tbody tr th:only-of-type {\n",
       "        vertical-align: middle;\n",
       "    }\n",
       "\n",
       "    .dataframe tbody tr th {\n",
       "        vertical-align: top;\n",
       "    }\n",
       "\n",
       "    .dataframe thead th {\n",
       "        text-align: right;\n",
       "    }\n",
       "</style>\n",
       "<table border=\"1\" class=\"dataframe\">\n",
       "  <thead>\n",
       "    <tr style=\"text-align: right;\">\n",
       "      <th></th>\n",
       "      <th>DateTime</th>\n",
       "      <th>Date</th>\n",
       "      <th>Hour</th>\n",
       "      <th>ZipCode</th>\n",
       "      <th>ActiveEnergy(kWh)</th>\n",
       "      <th>Day</th>\n",
       "      <th>Month</th>\n",
       "      <th>Year</th>\n",
       "      <th>IsWeekend</th>\n",
       "      <th>TimeOfDay</th>\n",
       "      <th>DayOfTheWeek</th>\n",
       "      <th>Season</th>\n",
       "      <th>IsHoliday</th>\n",
       "      <th>Temperature</th>\n",
       "      <th>PopulationDensity</th>\n",
       "      <th>EnergyNormalized</th>\n",
       "      <th>EnergyStandardized</th>\n",
       "    </tr>\n",
       "  </thead>\n",
       "  <tbody>\n",
       "    <tr>\n",
       "      <th>3719403</th>\n",
       "      <td>2023-09-30 23:00:00</td>\n",
       "      <td>2023-09-30</td>\n",
       "      <td>23</td>\n",
       "      <td>1685</td>\n",
       "      <td>3588.766159</td>\n",
       "      <td>30</td>\n",
       "      <td>9</td>\n",
       "      <td>2023</td>\n",
       "      <td>1</td>\n",
       "      <td>Noite</td>\n",
       "      <td>Sábado</td>\n",
       "      <td>Outono</td>\n",
       "      <td>0</td>\n",
       "      <td>21.8</td>\n",
       "      <td>5455.23</td>\n",
       "      <td>0.023778</td>\n",
       "      <td>-0.562608</td>\n",
       "    </tr>\n",
       "    <tr>\n",
       "      <th>3719404</th>\n",
       "      <td>2023-09-30 23:00:00</td>\n",
       "      <td>2023-09-30</td>\n",
       "      <td>23</td>\n",
       "      <td>3740</td>\n",
       "      <td>1849.719996</td>\n",
       "      <td>30</td>\n",
       "      <td>9</td>\n",
       "      <td>2023</td>\n",
       "      <td>1</td>\n",
       "      <td>Noite</td>\n",
       "      <td>Sábado</td>\n",
       "      <td>Outono</td>\n",
       "      <td>0</td>\n",
       "      <td>22.4</td>\n",
       "      <td>2788.79</td>\n",
       "      <td>0.012252</td>\n",
       "      <td>-0.713159</td>\n",
       "    </tr>\n",
       "    <tr>\n",
       "      <th>3719405</th>\n",
       "      <td>2023-09-30 23:00:00</td>\n",
       "      <td>2023-09-30</td>\n",
       "      <td>23</td>\n",
       "      <td>3750</td>\n",
       "      <td>12433.094481</td>\n",
       "      <td>30</td>\n",
       "      <td>9</td>\n",
       "      <td>2023</td>\n",
       "      <td>1</td>\n",
       "      <td>Noite</td>\n",
       "      <td>Sábado</td>\n",
       "      <td>Outono</td>\n",
       "      <td>0</td>\n",
       "      <td>22.4</td>\n",
       "      <td>2788.79</td>\n",
       "      <td>0.082397</td>\n",
       "      <td>0.203054</td>\n",
       "    </tr>\n",
       "    <tr>\n",
       "      <th>3719406</th>\n",
       "      <td>2023-09-30 23:00:00</td>\n",
       "      <td>2023-09-30</td>\n",
       "      <td>23</td>\n",
       "      <td>3680</td>\n",
       "      <td>2393.029205</td>\n",
       "      <td>30</td>\n",
       "      <td>9</td>\n",
       "      <td>2023</td>\n",
       "      <td>1</td>\n",
       "      <td>Noite</td>\n",
       "      <td>Sábado</td>\n",
       "      <td>Outono</td>\n",
       "      <td>0</td>\n",
       "      <td>20.2</td>\n",
       "      <td>196.31</td>\n",
       "      <td>0.015853</td>\n",
       "      <td>-0.666124</td>\n",
       "    </tr>\n",
       "    <tr>\n",
       "      <th>3719407</th>\n",
       "      <td>2023-09-30 23:00:00</td>\n",
       "      <td>2023-09-30</td>\n",
       "      <td>23</td>\n",
       "      <td>8970</td>\n",
       "      <td>720.206910</td>\n",
       "      <td>30</td>\n",
       "      <td>9</td>\n",
       "      <td>2023</td>\n",
       "      <td>1</td>\n",
       "      <td>Noite</td>\n",
       "      <td>Sábado</td>\n",
       "      <td>Outono</td>\n",
       "      <td>0</td>\n",
       "      <td>22.5</td>\n",
       "      <td>333.82</td>\n",
       "      <td>0.004766</td>\n",
       "      <td>-0.810942</td>\n",
       "    </tr>\n",
       "  </tbody>\n",
       "</table>\n",
       "</div>"
      ]
     },
     "execution_count": 64,
     "metadata": {},
     "output_type": "execute_result"
    }
   ],
   "execution_count": 64
  },
  {
   "metadata": {
    "ExecuteTime": {
     "end_time": "2025-04-19T11:43:21.554466Z",
     "start_time": "2025-04-19T11:43:21.347393Z"
    }
   },
   "cell_type": "code",
   "source": [
    "# Filtrar CP 2840 e ordenar\n",
    "df_cp = df[df[\"ZipCode\"] == \"2840\"].copy()\n",
    "df_cp[\"DateTime\"] = pd.to_datetime(df_cp[\"DateTime\"])\n",
    "df_cp = df_cp.sort_values(\"DateTime\")\n",
    "\n",
    "# Colocar o item_id obrigatório para o AutoGluon\n",
    "df_cp[\"item_id\"] = \"2840\"\n",
    "df_cp.set_index(\"DateTime\", inplace=True)"
   ],
   "id": "dc17ac2db7ce9e43",
   "outputs": [],
   "execution_count": 3
  },
  {
   "metadata": {},
   "cell_type": "markdown",
   "source": "###### Separar treino e teste (até 29-09) e teste (30-09)",
   "id": "851df77889e77e11"
  },
  {
   "metadata": {
    "ExecuteTime": {
     "end_time": "2025-04-17T18:18:46.317866Z",
     "start_time": "2025-04-17T18:18:46.307355Z"
    }
   },
   "cell_type": "code",
   "source": [
    "treino = df_cp.loc[:'2023-09-29 23:00'].copy() # Treino até 29-09-2023 23:00\n",
    "teste = df_cp.loc['2023-09-30 00:00':'2023-09-30 23:00'].copy() # Teste apenas para validação visual\n",
    "\n",
    "treino_reset = treino.reset_index() # Reset index para usar com AutoGluon"
   ],
   "id": "9b5f8fb0dc0cc041",
   "outputs": [],
   "execution_count": 13
  },
  {
   "metadata": {},
   "cell_type": "markdown",
   "source": "###### Criar TimeSeriesDataFrame",
   "id": "6635ba2e2e521b19"
  },
  {
   "metadata": {
    "ExecuteTime": {
     "end_time": "2025-04-17T18:20:56.679761Z",
     "start_time": "2025-04-17T18:20:56.667198Z"
    }
   },
   "cell_type": "code",
   "source": [
    "train_data = TimeSeriesDataFrame.from_data_frame(\n",
    "    treino_reset[[\"item_id\", \"DateTime\", \"EnergyNormalized\"]],\n",
    "    id_column=\"item_id\",\n",
    "    timestamp_column=\"DateTime\"\n",
    ")"
   ],
   "id": "32b66fca0f55be6e",
   "outputs": [],
   "execution_count": 16
  },
  {
   "metadata": {},
   "cell_type": "markdown",
   "source": "# 📊ARIMA",
   "id": "88f695d80af9e209"
  },
  {
   "metadata": {},
   "cell_type": "markdown",
   "source": "###### importar modelo",
   "id": "57df9d4276e64e13"
  },
  {
   "metadata": {},
   "cell_type": "code",
   "outputs": [],
   "execution_count": null,
   "source": [
    "model_path = \"AutogluonModels/ag-20250417_182601\" # Caminho onde o modelo foi guardado\n",
    "\n",
    "predictor = TimeSeriesPredictor.load(model_path) # Carregar o modelo"
   ],
   "id": "e42d228a436b3044"
  },
  {
   "metadata": {},
   "cell_type": "markdown",
   "source": "###### treinar",
   "id": "ec64ed92b7f78f6f"
  },
  {
   "metadata": {
    "ExecuteTime": {
     "end_time": "2025-04-17T18:56:59.698197Z",
     "start_time": "2025-04-17T18:56:56.752871Z"
    }
   },
   "cell_type": "code",
   "source": [
    "predictor = TimeSeriesPredictor(\n",
    "    prediction_length=24,\n",
    "    target=\"EnergyNormalized\",\n",
    "    eval_metric=\"MASE\"\n",
    ")\n",
    "\n",
    "predictor.fit(\n",
    "    train_data,\n",
    "    presets=\"fast_training\",\n",
    "    hyperparameters={\"ARIMA\": {}},  # apenas ARIMA\n",
    "    time_limit=300\n",
    ")"
   ],
   "id": "db34557379765c8e",
   "outputs": [
    {
     "name": "stderr",
     "output_type": "stream",
     "text": [
      "Beginning AutoGluon training... Time limit = 300s\n",
      "AutoGluon will save models to 'D:\\githubProjects\\previsao-do-consumo-energetico-com-ml\\AutogluonModels\\ag-20250417_185656'\n",
      "=================== System Info ===================\n",
      "AutoGluon Version:  1.2\n",
      "Python Version:     3.11.9\n",
      "Operating System:   Windows\n",
      "Platform Machine:   AMD64\n",
      "Platform Version:   10.0.26100\n",
      "CPU Count:          12\n",
      "GPU Count:          0\n",
      "Memory Avail:       4.20 GB / 15.93 GB (26.3%)\n",
      "Disk Space Avail:   717.29 GB / 931.46 GB (77.0%)\n",
      "===================================================\n",
      "Setting presets to: fast_training\n",
      "\n",
      "Fitting with arguments:\n",
      "{'enable_ensemble': True,\n",
      " 'eval_metric': MASE,\n",
      " 'hyperparameters': {'ARIMA': {}},\n",
      " 'known_covariates_names': [],\n",
      " 'num_val_windows': 1,\n",
      " 'prediction_length': 24,\n",
      " 'quantile_levels': [0.1, 0.2, 0.3, 0.4, 0.5, 0.6, 0.7, 0.8, 0.9],\n",
      " 'random_seed': 123,\n",
      " 'refit_every_n_windows': 1,\n",
      " 'refit_full': False,\n",
      " 'skip_model_selection': False,\n",
      " 'target': 'EnergyNormalized',\n",
      " 'time_limit': 300,\n",
      " 'verbosity': 2}\n",
      "\n",
      "Inferred time series frequency: 'h'\n",
      "Provided train_data has 7992 rows, 1 time series. Median time series length is 7992 (min=7992, max=7992). \n",
      "\n",
      "Provided data contains following columns:\n",
      "\ttarget: 'EnergyNormalized'\n",
      "\n",
      "AutoGluon will gauge predictive performance using evaluation metric: 'MASE'\n",
      "\tThis metric's sign has been flipped to adhere to being higher_is_better. The metric score can be multiplied by -1 to get the metric value.\n",
      "===================================================\n",
      "\n",
      "Starting training. Start time is 2025-04-17 19:56:56\n",
      "Models that will be trained: ['ARIMA']\n",
      "Training timeseries model ARIMA. Training for up to 300.0s of the 300.0s of remaining time.\n",
      "\t-1.4043       = Validation score (-MASE)\n",
      "\t0.02    s     = Training runtime\n",
      "\t2.86    s     = Validation (prediction) runtime\n",
      "Not fitting ensemble as only 1 model was trained.\n",
      "Training complete. Models trained: ['ARIMA']\n",
      "Total runtime: 2.89 s\n",
      "Best model: ARIMA\n",
      "Best model score: -1.4043\n"
     ]
    },
    {
     "data": {
      "text/plain": [
       "<autogluon.timeseries.predictor.TimeSeriesPredictor at 0x24e566712d0>"
      ]
     },
     "execution_count": 47,
     "metadata": {},
     "output_type": "execute_result"
    }
   ],
   "execution_count": 47
  },
  {
   "metadata": {},
   "cell_type": "markdown",
   "source": "###### prever",
   "id": "81328c67b1e53e51"
  },
  {
   "metadata": {
    "ExecuteTime": {
     "end_time": "2025-04-17T18:57:25.218577Z",
     "start_time": "2025-04-17T18:57:22.852939Z"
    }
   },
   "cell_type": "code",
   "source": [
    "forecast = predictor.predict(train_data)\n",
    "forecast_values = forecast.loc[\"2840\"]\n",
    "\n",
    "# Lidar com possíveis múltiplas colunas\n",
    "if isinstance(forecast_values, pd.DataFrame):\n",
    "    y_pred = forecast_values.iloc[:, 0].values\n",
    "else:\n",
    "    y_pred = forecast_values.values"
   ],
   "id": "f1d790cf4798b6f2",
   "outputs": [
    {
     "name": "stderr",
     "output_type": "stream",
     "text": [
      "Model not specified in predict, will default to the model with the best validation score: ARIMA\n"
     ]
    }
   ],
   "execution_count": 48
  },
  {
   "metadata": {},
   "cell_type": "markdown",
   "source": "###### Preparar dados reais",
   "id": "b9406797afa3677c"
  },
  {
   "metadata": {
    "ExecuteTime": {
     "end_time": "2025-04-17T18:57:41.579394Z",
     "start_time": "2025-04-17T18:57:41.575365Z"
    }
   },
   "cell_type": "code",
   "source": [
    "real_values = teste[\"EnergyNormalized\"]\n",
    "y_true = real_values.values"
   ],
   "id": "3b6a020f85513d28",
   "outputs": [],
   "execution_count": 49
  },
  {
   "metadata": {},
   "cell_type": "markdown",
   "source": "###### grafico",
   "id": "489253a31d05e79b"
  },
  {
   "metadata": {
    "ExecuteTime": {
     "end_time": "2025-04-17T18:57:45.555411Z",
     "start_time": "2025-04-17T18:57:44.919835Z"
    }
   },
   "cell_type": "code",
   "source": [
    "plt.figure(figsize=(14, 6))\n",
    "\n",
    "plt.plot(real_values.index, real_values.values, label=\"Valor Real\", marker='o', linestyle='--', color='green')\n",
    "plt.plot(forecast_values.index, forecast_values.iloc[:, 0] if isinstance(forecast_values, pd.DataFrame) else forecast_values,\n",
    "         label=\"Previsão ARIMA\", marker='o', color='orange')\n",
    "\n",
    "plt.title(\"Previsão ARIMA — 30/09/2023 (Código Postal 2840)\")\n",
    "plt.xlabel(\"Hora do Dia\")\n",
    "plt.ylabel(\"Consumo Normalizado\")\n",
    "plt.xticks(rotation=45)\n",
    "plt.grid(True)\n",
    "plt.legend()\n",
    "plt.tight_layout()\n",
    "plt.savefig(\"predicts/ARIMA/grafico.png\", dpi=300, bbox_inches='tight')\n",
    "plt.show()"
   ],
   "id": "7e88b6fd58e1de7",
   "outputs": [
    {
     "data": {
      "text/plain": [
       "<Figure size 1400x600 with 1 Axes>"
      ],
      "image/png": "[encoded data removed]"
     },
     "metadata": {},
     "output_type": "display_data"
    }
   ],
   "execution_count": 50
  },
  {
   "metadata": {},
   "cell_type": "markdown",
   "source": [
    "### 🧠 Interpretação geral\n",
    "ARIMA não é suficiente para este tipo de série com: <br/>\n",
    "    - Padrões horários<br/>\n",
    "    - Picos de consumo previsíveis<br/>\n",
    "    - Influência de variáveis exógenas (ex: temperatura, dia da semana)"
   ],
   "id": "a4cb8044ad831f0d"
  },
  {
   "metadata": {
    "ExecuteTime": {
     "end_time": "2025-04-17T18:57:56.836700Z",
     "start_time": "2025-04-17T18:57:56.831370Z"
    }
   },
   "cell_type": "code",
   "source": [
    "# Métricas\n",
    "mae = mean_absolute_error(y_true, y_pred)\n",
    "mse = mean_squared_error(y_true, y_pred)\n",
    "rmse = np.sqrt(mse)\n",
    "mape = np.mean(np.abs((y_true - y_pred) / np.maximum(np.abs(y_true), 1e-10))) * 100\n",
    "\n",
    "print(f\"📊 MAE: {mae:.4f}\")\n",
    "print(f\"📊 MSE: {mse:.4f}\")\n",
    "print(f\"📊 RMSE: {rmse:.4f}\")\n",
    "print(f\"📊 MAPE: {mape:.2f}%\")"
   ],
   "id": "37c13400d70b865b",
   "outputs": [
    {
     "name": "stdout",
     "output_type": "stream",
     "text": [
      "📊 MAE: 0.3965\n",
      "📊 MSE: 0.1609\n",
      "📊 RMSE: 0.4012\n",
      "📊 MAPE: 51.05%\n"
     ]
    }
   ],
   "execution_count": 51
  },
  {
   "metadata": {},
   "cell_type": "markdown",
   "source": [
    "### 📊 **Métricas de Avaliação**\n",
    "\n",
    "| Métrica                                    | Valor  | Interpretação                                                                                                                                                                                                            |\n",
    "|--------------------------------------------|--------|--------------------------------------------------------------------------------------------------------------------------------------------------------------------------------------------------------------------------|\n",
    "| **MAE** (Erro Absoluto Médio)              | 0.3965 | Em média, o erro absoluto foi de ~0.396 unidades normalizadas.                                                                                                 |\n",
    "| **MSE** (Erro Quadrático Médio)            | 0.1609 | Erros maiores são penalizados; aqui está relativamente moderado.                                                                                                                      |\n",
    "| **RMSE** (Raiz do Erro Quadrático Médio)   | 0.4012 | Raiz do MSE, dá uma ideia intuitiva da variação média do erro.                                                                                                                             |\n",
    "| **MAPE** (Erro Percentual Absoluto Médio)  | 51.05% | O erro percentual médio é relativamente elevado (acima de 30% já é preocupante).                                                                                           |"
   ],
   "id": "87718bd8169c4c77"
  },
  {
   "metadata": {},
   "cell_type": "markdown",
   "source": "# 📊XARIMA com variáveis exógenas",
   "id": "7f7910e5bdfaf3ef"
  },
  {
   "metadata": {
    "ExecuteTime": {
     "end_time": "2025-04-20T18:32:41.978364Z",
     "start_time": "2025-04-20T18:32:40.936886Z"
    }
   },
   "cell_type": "code",
   "source": [
    "# --- 1) Carrega e formata o TSDF com Temperature como known covariate ----\n",
    "df = pd.read_parquet(\"./datasets/consumo_eredes_normalizado.parquet\")\n",
    "\n",
    "# Filtrar CP 2840 e ordenar\n",
    "df_cp = df[df[\"ZipCode\"] == \"4610\"].copy()\n",
    "df_cp[\"DateTime\"] = pd.to_datetime(df_cp[\"DateTime\"])\n",
    "df_cp = df_cp.sort_values(\"DateTime\")\n",
    "\n",
    "# 1.2. Construa o TimeSeriesDataFrame\n",
    "# Crie um DataFrame de features estáticas único por série:\n",
    "static_feats = (\n",
    "    df_cp[[\"ZipCode\", \"PopulationDensity\"]]\n",
    "    .drop_duplicates()   # agora tem apenas 1 linha: ZipCode 4610\n",
    "    .copy()\n",
    ")\n",
    "ts_df = TimeSeriesDataFrame.from_data_frame(\n",
    "    df_cp,\n",
    "    id_column=\"ZipCode\",\n",
    "    timestamp_column=\"DateTime\",\n",
    "    static_features_df=static_feats\n",
    ")\n",
    "\n",
    "# covariáveis conhecidas\n",
    "known_covs = [\"Hour\", \"DayOfTheWeek\", \"Month\", \"Season\", \"IsWeekend\", \"IsHoliday\", \"Temperature\"]\n",
    "\n",
    "# Separe train/test\n",
    "train_data, test_data = ts_df.train_test_split(prediction_length=24)"
   ],
   "id": "6c9df559f5ce60e5",
   "outputs": [],
   "execution_count": 69
  },
  {
   "metadata": {
    "ExecuteTime": {
     "end_time": "2025-04-20T18:33:05.991994Z",
     "start_time": "2025-04-20T18:32:44.149802Z"
    }
   },
   "cell_type": "code",
   "source": [
    "# --- 2) Treina ARIMA+CAT com Temperature como exógena ----\n",
    "predictor_xarima = TimeSeriesPredictor(\n",
    "    target=\"EnergyNormalized\",\n",
    "    prediction_length=24,\n",
    "    freq=\"h\",\n",
    "    known_covariates_names=known_covs\n",
    ").fit(\n",
    "    train_data,\n",
    "    tuning_data=test_data,\n",
    "    hyperparameters={\n",
    "        \"ARIMAModel\": {\n",
    "            \"covariate_regressor\": \"CAT\",\n",
    "            \"target_scaler\": \"standard\",\n",
    "        }\n",
    "    },\n",
    "    time_limit=300,\n",
    "    presets=\"medium_quality\",\n",
    ")"
   ],
   "id": "f063fcd15c32d69f",
   "outputs": [
    {
     "name": "stderr",
     "output_type": "stream",
     "text": [
      "Beginning AutoGluon training... Time limit = 300s\n",
      "AutoGluon will save models to 'D:\\githubProjects\\previsao-do-consumo-energetico-com-ml\\AutogluonModels\\ag-20250420_183244'\n",
      "=================== System Info ===================\n",
      "AutoGluon Version:  1.2\n",
      "Python Version:     3.11.9\n",
      "Operating System:   Windows\n",
      "Platform Machine:   AMD64\n",
      "Platform Version:   10.0.26100\n",
      "CPU Count:          12\n",
      "GPU Count:          0\n",
      "Memory Avail:       5.27 GB / 15.93 GB (33.1%)\n",
      "Disk Space Avail:   699.51 GB / 931.46 GB (75.1%)\n",
      "===================================================\n",
      "Setting presets to: medium_quality\n",
      "\n",
      "Fitting with arguments:\n",
      "{'enable_ensemble': True,\n",
      " 'eval_metric': WQL,\n",
      " 'freq': 'h',\n",
      " 'hyperparameters': {'ARIMAModel': {'covariate_regressor': 'CAT',\n",
      "                                    'target_scaler': 'standard'}},\n",
      " 'known_covariates_names': ['Hour',\n",
      "                            'DayOfTheWeek',\n",
      "                            'Month',\n",
      "                            'Season',\n",
      "                            'IsWeekend',\n",
      "                            'IsHoliday',\n",
      "                            'Temperature'],\n",
      " 'num_val_windows': 1,\n",
      " 'prediction_length': 24,\n",
      " 'quantile_levels': [0.1, 0.2, 0.3, 0.4, 0.5, 0.6, 0.7, 0.8, 0.9],\n",
      " 'random_seed': 123,\n",
      " 'refit_every_n_windows': 1,\n",
      " 'refit_full': False,\n",
      " 'skip_model_selection': False,\n",
      " 'target': 'EnergyNormalized',\n",
      " 'time_limit': 300,\n",
      " 'verbosity': 2}\n",
      "\n",
      "Provided train_data has 7992 rows, 1 time series. Median time series length is 7992 (min=7992, max=7992). \n",
      "Provided tuning_data has 8016 rows, 1 time series. Median time series length is 8016 (min=8016, max=8016). \n",
      "\tSetting num_val_windows = 0 (disabling backtesting on train_data) because tuning_data is provided.\n",
      "\n",
      "Provided data contains following columns:\n",
      "\ttarget: 'EnergyNormalized'\n",
      "\tknown_covariates:\n",
      "\t\tcategorical:        ['DayOfTheWeek', 'Season']\n",
      "\t\tcontinuous (float): ['Hour', 'Month', 'IsWeekend', 'IsHoliday', 'Temperature']\n",
      "\tpast_covariates:\n",
      "\t\tcategorical:        ['TimeOfDay']\n",
      "\t\tcontinuous (float): ['ActiveEnergy(kWh)', 'Day', 'Year', 'PopulationDensity', 'EnergyStandardized']\n",
      "\tstatic_features:\n",
      "\t\tcategorical:        []\n",
      "\t\tcontinuous (float): ['PopulationDensity']\n",
      "\n",
      "AutoGluon will ignore following non-numeric/non-informative columns:\n",
      "\tignored covariates:      ['Date']\n",
      "\n",
      "To learn how to fix incorrectly inferred types, please see documentation for TimeSeriesPredictor.fit\n",
      "\n",
      "AutoGluon will gauge predictive performance using evaluation metric: 'WQL'\n",
      "\tThis metric's sign has been flipped to adhere to being higher_is_better. The metric score can be multiplied by -1 to get the metric value.\n",
      "===================================================\n",
      "\n",
      "Starting training. Start time is 2025-04-20 19:32:44\n",
      "Models that will be trained: ['ARIMA']\n",
      "Training timeseries model ARIMA. Training for up to 300.0s of the 300.0s of remaining time.\n",
      "\t-0.0808       = Validation score (-WQL)\n",
      "\t19.03   s     = Training runtime\n",
      "\t2.60    s     = Validation (prediction) runtime\n",
      "Not fitting ensemble as only 1 model was trained.\n",
      "Training complete. Models trained: ['ARIMA']\n",
      "Total runtime: 21.67 s\n",
      "Best model: ARIMA\n",
      "Best model score: -0.0808\n"
     ]
    }
   ],
   "execution_count": 70
  },
  {
   "metadata": {
    "ExecuteTime": {
     "end_time": "2025-04-20T18:33:52.224255Z",
     "start_time": "2025-04-20T18:33:52.177127Z"
    }
   },
   "cell_type": "code",
   "source": [
    "# --- 3) Monte o DataFrame de covariáveis FUTURAS (próximas 24h) ---\n",
    "last_time = train_data.index.get_level_values(\"timestamp\").max()\n",
    "future_times = pd.date_range(\n",
    "    start=last_time + pd.Timedelta(hours=1),\n",
    "    periods=24,\n",
    "    freq=\"h\"\n",
    ")\n",
    "\n",
    "# Crie um DataFrame “vazio” com timestamps e o mesmo ZipCode\n",
    "future_df = pd.DataFrame({\n",
    "    \"ZipCode\": train_data.index.get_level_values(\"item_id\")[0],  # só 1 série\n",
    "    \"DateTime\": future_times\n",
    "})\n",
    "\n",
    "# Gere todas as covariáveis de calendário\n",
    "future_df[\"Hour\"]           = future_df[\"DateTime\"].dt.hour\n",
    "future_df[\"DayOfTheWeek\"]   = future_df[\"DateTime\"].dt.day_name()\n",
    "future_df[\"Month\"]          = future_df[\"DateTime\"].dt.month\n",
    "future_df[\"Season\"]         = future_df[\"DateTime\"].dt.month%12//3 + 1  # 1–4\n",
    "future_df[\"IsWeekend\"]      = (future_df[\"DayOfTheWeek\"].isin([\"Saturday\",\"Sunday\"])).astype(int)\n",
    "# Para feriados, você precisaria de uma lista real; aqui assuma sempre 0\n",
    "future_df[\"IsHoliday\"]      = 0\n",
    "\n",
    "# **Temperature proxy**: use a média histórica por hora (substitui por forecast real se existir)\n",
    "# 1) calcule matriz média do train_data:\n",
    "hist = train_data.reset_index()\n",
    "hourly_temp = hist.groupby(\"Hour\")[\"Temperature\"].mean()\n",
    "# 2) mapeie:\n",
    "future_df[\"Temperature\"] = future_df[\"Hour\"].map(hourly_temp)\n",
    "\n",
    "# Monte o MultiIndex igual ao TSDF:\n",
    "future_known_covs = TimeSeriesDataFrame.from_data_frame(\n",
    "    future_df,\n",
    "    id_column=\"ZipCode\",\n",
    "    timestamp_column=\"DateTime\"\n",
    ")[known_covs]"
   ],
   "id": "f0d855f4eae50c5",
   "outputs": [],
   "execution_count": 71
  },
  {
   "metadata": {
    "ExecuteTime": {
     "end_time": "2025-04-20T18:33:59.839426Z",
     "start_time": "2025-04-20T18:33:55.177307Z"
    }
   },
   "cell_type": "code",
   "source": [
    "# --- 4) Preveja passando essas covariáveis ----\n",
    "preds = predictor_xarima.predict(\n",
    "    data=train_data,\n",
    "    known_covariates=future_known_covs\n",
    ")\n",
    "\n",
    "# --- 5) Avalie no hold‑out se quiser ----\n",
    "metrics = predictor_xarima.evaluate(test_data)\n",
    "print(\"WQL hold‑out com Temperature exógena:\", metrics[\"WQL\"])"
   ],
   "id": "1cf9d3d9cd51b3dd",
   "outputs": [
    {
     "name": "stderr",
     "output_type": "stream",
     "text": [
      "Model not specified in predict, will default to the model with the best validation score: ARIMA\n",
      "Model not specified in predict, will default to the model with the best validation score: ARIMA\n"
     ]
    },
    {
     "name": "stdout",
     "output_type": "stream",
     "text": [
      "WQL hold‑out com Temperature exógena: -0.08075431151168086\n"
     ]
    }
   ],
   "execution_count": 72
  }
 ],
 "metadata": {
  "kernelspec": {
   "display_name": "Python 3 (ipykernel)",
   "language": "python",
   "name": "python3"
  },
  "language_info": {
   "codemirror_mode": {
    "name": "ipython",
    "version": 2
   },
   "file_extension": ".py",
   "mimetype": "text/x-python",
   "name": "python",
   "nbconvert_exporter": "python",
   "pygments_lexer": "ipython2",
   "version": "2.7.6"
  }
 },
 "nbformat": 4,
 "nbformat_minor": 5
}

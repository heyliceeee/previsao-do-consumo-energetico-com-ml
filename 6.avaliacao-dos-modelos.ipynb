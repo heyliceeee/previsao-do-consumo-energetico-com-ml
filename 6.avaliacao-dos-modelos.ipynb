{
 "cells": [
  {
   "cell_type": "code",
   "id": "initial_id",
   "metadata": {
    "collapsed": true,
    "ExecuteTime": {
     "end_time": "2025-04-28T09:10:14.309768Z",
     "start_time": "2025-04-28T09:09:40.664298Z"
    }
   },
   "source": [
    "# pip install autogluon\n",
    "import pandas as pd\n",
    "from sklearn.metrics import mean_absolute_error, mean_squared_error\n",
    "import matplotlib.pyplot as plt\n",
    "import numpy as np\n",
    "from autogluon.timeseries import TimeSeriesDataFrame, TimeSeriesPredictor\n",
    "from autogluon.tabular import TabularPredictor"
   ],
   "outputs": [],
   "execution_count": 2
  },
  {
   "metadata": {},
   "cell_type": "markdown",
   "source": "#### 💾 Importar todos os modelos",
   "id": "791f27acff5bb61d"
  },
  {
   "metadata": {
    "ExecuteTime": {
     "end_time": "2025-04-28T09:08:40.161799Z",
     "start_time": "2025-04-28T09:08:39.749999Z"
    }
   },
   "cell_type": "code",
   "source": "predictor_arima = TimeSeriesPredictor.load(\"./predicts/ARIMA/modelo/\")",
   "id": "9dc69c11753ecedf",
   "outputs": [
    {
     "ename": "NameError",
     "evalue": "name 'TimeSeriesPredictor' is not defined",
     "output_type": "error",
     "traceback": [
      "\u001B[1;31m---------------------------------------------------------------------------\u001B[0m",
      "\u001B[1;31mNameError\u001B[0m                                 Traceback (most recent call last)",
      "Cell \u001B[1;32mIn[1], line 1\u001B[0m\n\u001B[1;32m----> 1\u001B[0m predictor_arima \u001B[38;5;241m=\u001B[39m \u001B[43mTimeSeriesPredictor\u001B[49m\u001B[38;5;241m.\u001B[39mload(\u001B[38;5;124m\"\u001B[39m\u001B[38;5;124m./predicts/ARIMA/modelo/\u001B[39m\u001B[38;5;124m\"\u001B[39m)\n",
      "\u001B[1;31mNameError\u001B[0m: name 'TimeSeriesPredictor' is not defined"
     ]
    }
   ],
   "execution_count": 1
  }
 ],
 "metadata": {
  "kernelspec": {
   "display_name": "Python 3",
   "language": "python",
   "name": "python3"
  },
  "language_info": {
   "codemirror_mode": {
    "name": "ipython",
    "version": 2
   },
   "file_extension": ".py",
   "mimetype": "text/x-python",
   "name": "python",
   "nbconvert_exporter": "python",
   "pygments_lexer": "ipython2",
   "version": "2.7.6"
  }
 },
 "nbformat": 4,
 "nbformat_minor": 5
}

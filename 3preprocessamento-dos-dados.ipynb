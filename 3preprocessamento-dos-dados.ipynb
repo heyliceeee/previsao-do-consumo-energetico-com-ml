{
 "cells": [
  {
   "metadata": {},
   "cell_type": "markdown",
   "source": "# ⚙️ Pré-processamento dos Dados",
   "id": "5850b526e79c7c0a"
  },
  {
   "metadata": {
    "ExecuteTime": {
     "end_time": "2025-04-03T18:18:18.657577Z",
     "start_time": "2025-04-03T18:18:18.590019Z"
    }
   },
   "cell_type": "code",
   "source": [
    "# Importar bibliotecas necessárias\n",
    "import pandas as pd\n",
    "from sklearn.preprocessing import MinMaxScaler\n",
    "from sklearn.preprocessing import StandardScaler"
   ],
   "id": "77282111ffee4961",
   "outputs": [],
   "execution_count": 1
  },
  {
   "metadata": {
    "ExecuteTime": {
     "end_time": "2025-04-03T18:18:20.506466Z",
     "start_time": "2025-04-03T18:18:18.661649Z"
    }
   },
   "cell_type": "code",
   "source": [
    "# Abrir o ficheiro com ; como separador\n",
    "df = pd.read_csv('datasets/consumo_eredes_limpo.csv', sep=',')"
   ],
   "id": "b18f74d76a170ef3",
   "outputs": [],
   "execution_count": 2
  },
  {
   "metadata": {},
   "cell_type": "markdown",
   "source": "# MinMaxScaler",
   "id": "f4f1306ac521b2c0"
  },
  {
   "metadata": {
    "ExecuteTime": {
     "end_time": "2025-04-03T18:18:20.762902Z",
     "start_time": "2025-04-03T18:18:20.714595Z"
    }
   },
   "cell_type": "code",
   "source": [
    "# Instanciar o scaler\n",
    "scaler = MinMaxScaler()\n",
    "\n",
    "# Aplicar no consumo energético\n",
    "df['Energy_Normalized'] = scaler.fit_transform(df[['Active Energy (kWh)']])"
   ],
   "id": "3dba59b2042ee6cf",
   "outputs": [],
   "execution_count": 3
  },
  {
   "metadata": {},
   "cell_type": "markdown",
   "source": "# StandardScaler",
   "id": "cf46278779528bfe"
  },
  {
   "metadata": {
    "ExecuteTime": {
     "end_time": "2025-04-03T18:18:20.842276Z",
     "start_time": "2025-04-03T18:18:20.771440Z"
    }
   },
   "cell_type": "code",
   "source": [
    "scaler = StandardScaler()\n",
    "df['Energy_Standardized'] = scaler.fit_transform(df[['Active Energy (kWh)']])"
   ],
   "id": "9e15c81da045eb8e",
   "outputs": [],
   "execution_count": 4
  },
  {
   "metadata": {
    "ExecuteTime": {
     "end_time": "2025-04-03T18:18:49.475626Z",
     "start_time": "2025-04-03T18:18:49.443169Z"
    }
   },
   "cell_type": "code",
   "source": "df.head()",
   "id": "456f054b197579e1",
   "outputs": [
    {
     "data": {
      "text/plain": [
       "  Zip Code  Active Energy (kWh) Day of the Week             Datetime  \\\n",
       "0     5000         11175.021824           Terça  2022-11-01 00:00:00   \n",
       "1     2450          7376.909868           Terça  2022-11-01 00:00:00   \n",
       "2     5230           839.171319           Terça  2022-11-01 00:00:00   \n",
       "3     3620          2849.440465           Terça  2022-11-01 00:00:00   \n",
       "4     2800          5109.779921           Terça  2022-11-01 00:00:00   \n",
       "\n",
       "   Energy_Normalized  Energy_Standardized  \n",
       "0           0.074059             0.096027  \n",
       "1           0.048886            -0.232869  \n",
       "2           0.005554            -0.799001  \n",
       "3           0.018878            -0.624923  \n",
       "4           0.033859            -0.429190  "
      ],
      "text/html": [
       "<div>\n",
       "<style scoped>\n",
       "    .dataframe tbody tr th:only-of-type {\n",
       "        vertical-align: middle;\n",
       "    }\n",
       "\n",
       "    .dataframe tbody tr th {\n",
       "        vertical-align: top;\n",
       "    }\n",
       "\n",
       "    .dataframe thead th {\n",
       "        text-align: right;\n",
       "    }\n",
       "</style>\n",
       "<table border=\"1\" class=\"dataframe\">\n",
       "  <thead>\n",
       "    <tr style=\"text-align: right;\">\n",
       "      <th></th>\n",
       "      <th>Zip Code</th>\n",
       "      <th>Active Energy (kWh)</th>\n",
       "      <th>Day of the Week</th>\n",
       "      <th>Datetime</th>\n",
       "      <th>Energy_Normalized</th>\n",
       "      <th>Energy_Standardized</th>\n",
       "    </tr>\n",
       "  </thead>\n",
       "  <tbody>\n",
       "    <tr>\n",
       "      <th>0</th>\n",
       "      <td>5000</td>\n",
       "      <td>11175.021824</td>\n",
       "      <td>Terça</td>\n",
       "      <td>2022-11-01 00:00:00</td>\n",
       "      <td>0.074059</td>\n",
       "      <td>0.096027</td>\n",
       "    </tr>\n",
       "    <tr>\n",
       "      <th>1</th>\n",
       "      <td>2450</td>\n",
       "      <td>7376.909868</td>\n",
       "      <td>Terça</td>\n",
       "      <td>2022-11-01 00:00:00</td>\n",
       "      <td>0.048886</td>\n",
       "      <td>-0.232869</td>\n",
       "    </tr>\n",
       "    <tr>\n",
       "      <th>2</th>\n",
       "      <td>5230</td>\n",
       "      <td>839.171319</td>\n",
       "      <td>Terça</td>\n",
       "      <td>2022-11-01 00:00:00</td>\n",
       "      <td>0.005554</td>\n",
       "      <td>-0.799001</td>\n",
       "    </tr>\n",
       "    <tr>\n",
       "      <th>3</th>\n",
       "      <td>3620</td>\n",
       "      <td>2849.440465</td>\n",
       "      <td>Terça</td>\n",
       "      <td>2022-11-01 00:00:00</td>\n",
       "      <td>0.018878</td>\n",
       "      <td>-0.624923</td>\n",
       "    </tr>\n",
       "    <tr>\n",
       "      <th>4</th>\n",
       "      <td>2800</td>\n",
       "      <td>5109.779921</td>\n",
       "      <td>Terça</td>\n",
       "      <td>2022-11-01 00:00:00</td>\n",
       "      <td>0.033859</td>\n",
       "      <td>-0.429190</td>\n",
       "    </tr>\n",
       "  </tbody>\n",
       "</table>\n",
       "</div>"
      ]
     },
     "execution_count": 6,
     "metadata": {},
     "output_type": "execute_result"
    }
   ],
   "execution_count": 6
  }
 ],
 "metadata": {
  "kernelspec": {
   "display_name": "Python (.venv)",
   "language": "python",
   "name": ".venv"
  },
  "language_info": {
   "codemirror_mode": {
    "name": "ipython",
    "version": 2
   },
   "file_extension": ".py",
   "mimetype": "text/x-python",
   "name": "python",
   "nbconvert_exporter": "python",
   "pygments_lexer": "ipython2",
   "version": "2.7.6"
  }
 },
 "nbformat": 4,
 "nbformat_minor": 5
}

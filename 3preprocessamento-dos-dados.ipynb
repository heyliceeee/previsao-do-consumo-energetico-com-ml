{
 "cells": [
  {
   "metadata": {},
   "cell_type": "markdown",
   "source": "# ⚙️ Pré-processamento dos Dados",
   "id": "5850b526e79c7c0a"
  },
  {
   "metadata": {
    "ExecuteTime": {
     "end_time": "2025-04-07T09:33:38.730322Z",
     "start_time": "2025-04-07T09:33:38.709615Z"
    }
   },
   "cell_type": "code",
   "source": [
    "# Importar bibliotecas necessárias\n",
    "import pandas as pd\n",
    "from sklearn.preprocessing import MinMaxScaler\n",
    "from sklearn.preprocessing import StandardScaler\n",
    "import numpy as np"
   ],
   "id": "77282111ffee4961",
   "outputs": [],
   "execution_count": 11
  },
  {
   "metadata": {
    "ExecuteTime": {
     "end_time": "2025-04-07T09:33:45.821310Z",
     "start_time": "2025-04-07T09:33:38.743958Z"
    }
   },
   "cell_type": "code",
   "source": [
    "# Abrir o ficheiro com ; como separador\n",
    "df = pd.read_csv('datasets/consumo_eredes_limpo.csv', sep=',')"
   ],
   "id": "22a6286c9b046ce6",
   "outputs": [],
   "execution_count": 12
  },
  {
   "metadata": {},
   "cell_type": "markdown",
   "source": [
    "# MinMaxScaler [0, 1]\n",
    "- Valores baixos de consumo (ex: 839.17) → ficam perto de 0\n",
    "- Valores mais altos de consumo (ex: 11175.02) → ficam mais perto de 1"
   ],
   "id": "33d3293ebee9a149"
  },
  {
   "metadata": {
    "ExecuteTime": {
     "end_time": "2025-04-07T09:33:46.094447Z",
     "start_time": "2025-04-07T09:33:45.877555Z"
    }
   },
   "cell_type": "code",
   "source": [
    "# Instanciar o scaler\n",
    "scaler = MinMaxScaler()\n",
    "\n",
    "# Aplicar no consumo energético\n",
    "df['Energy_Normalized'] = scaler.fit_transform(df[['Active Energy (kWh)']])"
   ],
   "id": "3dba59b2042ee6cf",
   "outputs": [],
   "execution_count": 13
  },
  {
   "metadata": {},
   "cell_type": "markdown",
   "source": [
    "# StandardScaler [-♾️, +♾️]\n",
    "- positivos -> acima da media\n",
    "- negativos -> abaixo da media"
   ],
   "id": "cf46278779528bfe"
  },
  {
   "metadata": {
    "ExecuteTime": {
     "end_time": "2025-04-07T09:33:46.320385Z",
     "start_time": "2025-04-07T09:33:46.201074Z"
    }
   },
   "cell_type": "code",
   "source": [
    "scaler = StandardScaler()\n",
    "df['Energy_Standardized'] = scaler.fit_transform(df[['Active Energy (kWh)']])"
   ],
   "id": "9e15c81da045eb8e",
   "outputs": [],
   "execution_count": 14
  },
  {
   "metadata": {
    "ExecuteTime": {
     "end_time": "2025-04-07T09:33:46.432869Z",
     "start_time": "2025-04-07T09:33:46.372744Z"
    }
   },
   "cell_type": "code",
   "source": "df.tail()",
   "id": "456f054b197579e1",
   "outputs": [
    {
     "data": {
      "text/plain": [
       "               Date  Hour Zip Code  Active Energy (kWh) Day of the Week  \\\n",
       "3727419  2023-09-30    23     4560          9738.156651          Sábado   \n",
       "3727420  2023-09-30    23     2845          7462.400572          Sábado   \n",
       "3727421  2023-09-30    23     3025          3889.286949          Sábado   \n",
       "3727422  2023-09-30    23     5340          2527.463359          Sábado   \n",
       "3727423  2023-09-30    23     7780         34065.882374          Sábado   \n",
       "\n",
       "                    Datetime  Day  Month  Year  Is_Weekend  Is_Night  Season  \\\n",
       "3727419  2023-09-30 23:00:00   30      9  2023           1         0  Outono   \n",
       "3727420  2023-09-30 23:00:00   30      9  2023           1         0  Outono   \n",
       "3727421  2023-09-30 23:00:00   30      9  2023           1         0  Outono   \n",
       "3727422  2023-09-30 23:00:00   30      9  2023           1         0  Outono   \n",
       "3727423  2023-09-30 23:00:00   30      9  2023           1         0  Outono   \n",
       "\n",
       "         Energy_Normalized  Energy_Standardized  \n",
       "3727419           0.064536            -0.028398  \n",
       "3727420           0.049452            -0.225466  \n",
       "3727421           0.025770            -0.534878  \n",
       "3727422           0.016744            -0.652805  \n",
       "3727423           0.225777             2.078251  "
      ],
      "text/html": [
       "<div>\n",
       "<style scoped>\n",
       "    .dataframe tbody tr th:only-of-type {\n",
       "        vertical-align: middle;\n",
       "    }\n",
       "\n",
       "    .dataframe tbody tr th {\n",
       "        vertical-align: top;\n",
       "    }\n",
       "\n",
       "    .dataframe thead th {\n",
       "        text-align: right;\n",
       "    }\n",
       "</style>\n",
       "<table border=\"1\" class=\"dataframe\">\n",
       "  <thead>\n",
       "    <tr style=\"text-align: right;\">\n",
       "      <th></th>\n",
       "      <th>Date</th>\n",
       "      <th>Hour</th>\n",
       "      <th>Zip Code</th>\n",
       "      <th>Active Energy (kWh)</th>\n",
       "      <th>Day of the Week</th>\n",
       "      <th>Datetime</th>\n",
       "      <th>Day</th>\n",
       "      <th>Month</th>\n",
       "      <th>Year</th>\n",
       "      <th>Is_Weekend</th>\n",
       "      <th>Is_Night</th>\n",
       "      <th>Season</th>\n",
       "      <th>Energy_Normalized</th>\n",
       "      <th>Energy_Standardized</th>\n",
       "    </tr>\n",
       "  </thead>\n",
       "  <tbody>\n",
       "    <tr>\n",
       "      <th>3727419</th>\n",
       "      <td>2023-09-30</td>\n",
       "      <td>23</td>\n",
       "      <td>4560</td>\n",
       "      <td>9738.156651</td>\n",
       "      <td>Sábado</td>\n",
       "      <td>2023-09-30 23:00:00</td>\n",
       "      <td>30</td>\n",
       "      <td>9</td>\n",
       "      <td>2023</td>\n",
       "      <td>1</td>\n",
       "      <td>0</td>\n",
       "      <td>Outono</td>\n",
       "      <td>0.064536</td>\n",
       "      <td>-0.028398</td>\n",
       "    </tr>\n",
       "    <tr>\n",
       "      <th>3727420</th>\n",
       "      <td>2023-09-30</td>\n",
       "      <td>23</td>\n",
       "      <td>2845</td>\n",
       "      <td>7462.400572</td>\n",
       "      <td>Sábado</td>\n",
       "      <td>2023-09-30 23:00:00</td>\n",
       "      <td>30</td>\n",
       "      <td>9</td>\n",
       "      <td>2023</td>\n",
       "      <td>1</td>\n",
       "      <td>0</td>\n",
       "      <td>Outono</td>\n",
       "      <td>0.049452</td>\n",
       "      <td>-0.225466</td>\n",
       "    </tr>\n",
       "    <tr>\n",
       "      <th>3727421</th>\n",
       "      <td>2023-09-30</td>\n",
       "      <td>23</td>\n",
       "      <td>3025</td>\n",
       "      <td>3889.286949</td>\n",
       "      <td>Sábado</td>\n",
       "      <td>2023-09-30 23:00:00</td>\n",
       "      <td>30</td>\n",
       "      <td>9</td>\n",
       "      <td>2023</td>\n",
       "      <td>1</td>\n",
       "      <td>0</td>\n",
       "      <td>Outono</td>\n",
       "      <td>0.025770</td>\n",
       "      <td>-0.534878</td>\n",
       "    </tr>\n",
       "    <tr>\n",
       "      <th>3727422</th>\n",
       "      <td>2023-09-30</td>\n",
       "      <td>23</td>\n",
       "      <td>5340</td>\n",
       "      <td>2527.463359</td>\n",
       "      <td>Sábado</td>\n",
       "      <td>2023-09-30 23:00:00</td>\n",
       "      <td>30</td>\n",
       "      <td>9</td>\n",
       "      <td>2023</td>\n",
       "      <td>1</td>\n",
       "      <td>0</td>\n",
       "      <td>Outono</td>\n",
       "      <td>0.016744</td>\n",
       "      <td>-0.652805</td>\n",
       "    </tr>\n",
       "    <tr>\n",
       "      <th>3727423</th>\n",
       "      <td>2023-09-30</td>\n",
       "      <td>23</td>\n",
       "      <td>7780</td>\n",
       "      <td>34065.882374</td>\n",
       "      <td>Sábado</td>\n",
       "      <td>2023-09-30 23:00:00</td>\n",
       "      <td>30</td>\n",
       "      <td>9</td>\n",
       "      <td>2023</td>\n",
       "      <td>1</td>\n",
       "      <td>0</td>\n",
       "      <td>Outono</td>\n",
       "      <td>0.225777</td>\n",
       "      <td>2.078251</td>\n",
       "    </tr>\n",
       "  </tbody>\n",
       "</table>\n",
       "</div>"
      ]
     },
     "execution_count": 15,
     "metadata": {},
     "output_type": "execute_result"
    }
   ],
   "execution_count": 15
  },
  {
   "metadata": {},
   "cell_type": "markdown",
   "source": [
    "# Criação de conjuntos de treino, validação e teste\n",
    "- train (nov 2022 - jun 2023) -> 70%\n",
    "- validation (jul 2023 - ago 2023) -> 15%\n",
    "- train (set 2023) -> 15%"
   ],
   "id": "a68acb0995944b67"
  },
  {
   "metadata": {
    "ExecuteTime": {
     "end_time": "2025-04-07T09:33:50.806342Z",
     "start_time": "2025-04-07T09:33:46.551550Z"
    }
   },
   "cell_type": "code",
   "source": [
    "# Divisão com base no tempo\n",
    "\n",
    "# Definir os limites\n",
    "train_df = df[df['Datetime'] < '2023-07-01']\n",
    "val_df   = df[(df['Datetime'] >= '2023-07-01') & (df['Datetime'] < '2023-09-01')]\n",
    "test_df  = df[df['Datetime'] >= '2023-09-01']"
   ],
   "id": "7a416ca79c9bd16f",
   "outputs": [],
   "execution_count": 16
  },
  {
   "metadata": {
    "ExecuteTime": {
     "end_time": "2025-04-07T09:33:52.648352Z",
     "start_time": "2025-04-07T09:33:51.396841Z"
    }
   },
   "cell_type": "code",
   "source": [
    "# Separar features e target\n",
    "features = ['Day of the Week', 'Datetime', 'Zip Code']\n",
    "target = 'Energy_Normalized' # usar este em vez do Active Energy (kWh), porque ha melhor performance no modelo e modelos sensiveis a escala\n",
    "\n",
    "X_train, y_train = train_df[features], train_df[target]\n",
    "X_val, y_val     = val_df[features], val_df[target]\n",
    "X_test, y_test   = test_df[features], test_df[target]"
   ],
   "id": "a0f8d898df5cc1fb",
   "outputs": [],
   "execution_count": 17
  },
  {
   "metadata": {},
   "cell_type": "markdown",
   "source": "# Criação de janelas de tempo (`windowing`) para LSTM/CNN",
   "id": "edfee511c7b251ef"
  },
  {
   "metadata": {
    "ExecuteTime": {
     "end_time": "2025-04-07T09:34:02.641752Z",
     "start_time": "2025-04-07T09:33:52.836613Z"
    }
   },
   "cell_type": "code",
   "source": [
    "def create_windows(data, window_size):\n",
    "    X, y = [], []\n",
    "    for i in range(len(data) - window_size):\n",
    "        X.append(data[i:i+window_size])\n",
    "        y.append(data[i+window_size])\n",
    "    return np.array(X), np.array(y)\n",
    "\n",
    "window_size = 24  # Define o número de passos anteriores (ex: 24 horas)\n",
    "\n",
    "# Só usamos a coluna normalizada\n",
    "train_series = train_df['Energy_Normalized'].values\n",
    "val_series   = val_df['Energy_Normalized'].values\n",
    "test_series  = test_df['Energy_Normalized'].values\n",
    "\n",
    "# Criar janelas\n",
    "X_train_win, y_train_win = create_windows(train_series, window_size)\n",
    "X_val_win, y_val_win     = create_windows(val_series, window_size)\n",
    "X_test_win, y_test_win   = create_windows(test_series, window_size)\n",
    "\n",
    "# Reshape para LSTM/CNN: (amostras, passos temporais, 1)\n",
    "X_train_win = X_train_win.reshape((X_train_win.shape[0], X_train_win.shape[1], 1))\n",
    "X_val_win   = X_val_win.reshape((X_val_win.shape[0], X_val_win.shape[1], 1))\n",
    "X_test_win  = X_test_win.reshape((X_test_win.shape[0], X_test_win.shape[1], 1))\n",
    "\n",
    "print(\"Formatos finais:\")\n",
    "print(\"X_train:\", X_train_win.shape, \"| y_train:\", y_train_win.shape)\n",
    "print(\"X_val  :\", X_val_win.shape, \"| y_val  :\", y_val_win.shape)\n",
    "print(\"X_test :\", X_test_win.shape, \"| y_test :\", y_test_win.shape)"
   ],
   "id": "ca81b4164614cc14",
   "outputs": [
    {
     "name": "stdout",
     "output_type": "stream",
     "text": [
      "Formatos finais:\n",
      "X_train: (2700691, 24, 1) | y_train: (2700691,)\n",
      "X_val  : (691891, 24, 1) | y_val  : (691891,)\n",
      "X_test : (334770, 24, 1) | y_test : (334770,)\n"
     ]
    }
   ],
   "execution_count": 18
  }
 ],
 "metadata": {
  "kernelspec": {
   "display_name": "Python 3 (ipykernel)",
   "language": "python",
   "name": "python3"
  },
  "language_info": {
   "codemirror_mode": {
    "name": "ipython",
    "version": 2
   },
   "file_extension": ".py",
   "mimetype": "text/x-python",
   "name": "python",
   "nbconvert_exporter": "python",
   "pygments_lexer": "ipython2",
   "version": "2.7.6"
  }
 },
 "nbformat": 4,
 "nbformat_minor": 5
}

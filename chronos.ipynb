{
 "cells": [
  {
   "metadata": {},
   "cell_type": "markdown",
   "source": "# Chronos",
   "id": "f6d463ab4566dc6c"
  },
  {
   "metadata": {
    "ExecuteTime": {
     "end_time": "2025-04-03T15:43:00.682110Z",
     "start_time": "2025-04-03T15:43:00.660098Z"
    }
   },
   "cell_type": "code",
   "source": [
    "# Importar bibliotecas necessárias\n",
    "import pandas as pd\n",
    "from bigdl.chronos.data import TSDataset  # pip install bigdl-chronos\n"
   ],
   "id": "5982132c5f92a4d6",
   "outputs": [
    {
     "ename": "ModuleNotFoundError",
     "evalue": "No module named 'bigdl'",
     "output_type": "error",
     "traceback": [
      "\u001B[31m---------------------------------------------------------------------------\u001B[39m",
      "\u001B[31mModuleNotFoundError\u001B[39m                       Traceback (most recent call last)",
      "\u001B[36mCell\u001B[39m\u001B[36m \u001B[39m\u001B[32mIn[3]\u001B[39m\u001B[32m, line 3\u001B[39m\n\u001B[32m      1\u001B[39m \u001B[38;5;66;03m# Importar bibliotecas necessárias\u001B[39;00m\n\u001B[32m      2\u001B[39m \u001B[38;5;28;01mimport\u001B[39;00m\u001B[38;5;250m \u001B[39m\u001B[34;01mpandas\u001B[39;00m\u001B[38;5;250m \u001B[39m\u001B[38;5;28;01mas\u001B[39;00m\u001B[38;5;250m \u001B[39m\u001B[34;01mpd\u001B[39;00m\n\u001B[32m----> \u001B[39m\u001B[32m3\u001B[39m \u001B[38;5;28;01mfrom\u001B[39;00m\u001B[38;5;250m \u001B[39m\u001B[34;01mbigdl\u001B[39;00m\u001B[34;01m.\u001B[39;00m\u001B[34;01mchronos\u001B[39;00m\u001B[34;01m.\u001B[39;00m\u001B[34;01mdata\u001B[39;00m\u001B[38;5;250m \u001B[39m\u001B[38;5;28;01mimport\u001B[39;00m TSDataset  \u001B[38;5;66;03m# pip install bigdl-chronos\u001B[39;00m\n",
      "\u001B[31mModuleNotFoundError\u001B[39m: No module named 'bigdl'"
     ]
    }
   ],
   "execution_count": 3
  },
  {
   "metadata": {},
   "cell_type": "code",
   "outputs": [],
   "execution_count": null,
   "source": [
    "# Abrir o ficheiro com ; como separador\n",
    "df = pd.read_csv('datasets/consumo_eredes_limpo.csv', sep=',')"
   ],
   "id": "3cb4b387e353ab52"
  },
  {
   "metadata": {},
   "cell_type": "code",
   "outputs": [],
   "execution_count": null,
   "source": [
    "# Copiar só as colunas que interessam\n",
    "df_chronos = df[['Datetime', 'Active Energy (kWh)']].copy()\n",
    "df_chronos = df_chronos.rename(columns={'Datetime': 'timestamp', 'Active Energy (kWh)': 'value'})\n",
    "\n",
    "# Criar o TSDataset\n",
    "tsdata = TSDataset.from_pandas(\n",
    "    df_chronos,\n",
    "    dt_col='timestamp',\n",
    "    target_col='value',\n",
    "    with_split=False\n",
    ")"
   ],
   "id": "c0653ab2393d199a"
  }
 ],
 "metadata": {
  "kernelspec": {
   "display_name": "Python 3",
   "language": "python",
   "name": "python3"
  },
  "language_info": {
   "codemirror_mode": {
    "name": "ipython",
    "version": 2
   },
   "file_extension": ".py",
   "mimetype": "text/x-python",
   "name": "python",
   "nbconvert_exporter": "python",
   "pygments_lexer": "ipython2",
   "version": "2.7.6"
  }
 },
 "nbformat": 4,
 "nbformat_minor": 5
}

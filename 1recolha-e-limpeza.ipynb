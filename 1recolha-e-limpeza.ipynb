{
 "cells": [
  {
   "metadata": {},
   "cell_type": "markdown",
   "source": "# 🧪  Recolha e Limpeza",
   "id": "a6cb72b9de0dc967"
  },
  {
   "metadata": {
    "ExecuteTime": {
     "end_time": "2025-04-05T18:14:22.444838Z",
     "start_time": "2025-04-05T18:14:22.438066Z"
    }
   },
   "cell_type": "code",
   "source": [
    "# Importar bibliotecas necessárias\n",
    "import pandas as pd"
   ],
   "id": "112dc7661363411e",
   "outputs": [],
   "execution_count": 5
  },
  {
   "metadata": {
    "ExecuteTime": {
     "end_time": "2025-04-05T18:14:28.936503Z",
     "start_time": "2025-04-05T18:14:22.472164Z"
    }
   },
   "cell_type": "code",
   "source": [
    "# Abrir o ficheiro com ; como separador\n",
    "df = pd.read_csv('datasets/consumos_horario_codigo_postal.csv', sep=';')"
   ],
   "id": "d018784a5888fdf",
   "outputs": [],
   "execution_count": 6
  },
  {
   "metadata": {
    "ExecuteTime": {
     "end_time": "2025-04-05T18:14:28.976626Z",
     "start_time": "2025-04-05T18:14:28.963180Z"
    }
   },
   "cell_type": "code",
   "source": [
    "# Confirmar a leitura correta das colunas\n",
    "df.columns"
   ],
   "id": "a3751aaa62b2ec31",
   "outputs": [
    {
     "data": {
      "text/plain": [
       "Index(['Date/Time', 'Date', 'Hour', 'Zip Code', 'Active Energy (kWh)',\n",
       "       'Day of the Week'],\n",
       "      dtype='object')"
      ]
     },
     "execution_count": 7,
     "metadata": {},
     "output_type": "execute_result"
    }
   ],
   "execution_count": 7
  },
  {
   "metadata": {
    "ExecuteTime": {
     "end_time": "2025-04-05T18:14:29.059936Z",
     "start_time": "2025-04-05T18:14:29.047780Z"
    }
   },
   "cell_type": "code",
   "source": [
    "# Verificar tipos de dados\n",
    "df.dtypes  # mostra o tipo de cada coluna"
   ],
   "id": "69e7179c111c6d4e",
   "outputs": [
    {
     "data": {
      "text/plain": [
       "Date/Time               object\n",
       "Date                    object\n",
       "Hour                    object\n",
       "Zip Code                object\n",
       "Active Energy (kWh)    float64\n",
       "Day of the Week         object\n",
       "dtype: object"
      ]
     },
     "execution_count": 8,
     "metadata": {},
     "output_type": "execute_result"
    }
   ],
   "execution_count": 8
  },
  {
   "metadata": {
    "ExecuteTime": {
     "end_time": "2025-04-05T18:14:29.408257Z",
     "start_time": "2025-04-05T18:14:29.383894Z"
    }
   },
   "cell_type": "code",
   "source": [
    "# Verificar n.º de registos\n",
    "df.shape  # mostra (número de linhas, número de colunas)"
   ],
   "id": "1bebd5407121ea88",
   "outputs": [
    {
     "data": {
      "text/plain": [
       "(3727439, 6)"
      ]
     },
     "execution_count": 9,
     "metadata": {},
     "output_type": "execute_result"
    }
   ],
   "execution_count": 9
  },
  {
   "metadata": {
    "ExecuteTime": {
     "end_time": "2025-04-05T18:14:29.663724Z",
     "start_time": "2025-04-05T18:14:29.632977Z"
    }
   },
   "cell_type": "code",
   "source": [
    "# Visualizar primeiras linhas\n",
    "df.head()  # primeiros 5 registos"
   ],
   "id": "821777039df0a0eb",
   "outputs": [
    {
     "data": {
      "text/plain": [
       "                   Date/Time        Date   Hour Zip Code  Active Energy (kWh)  \\\n",
       "0  2023-09-28T17:00:00+01:00  2023-09-28  17:00     2645         13458.564418   \n",
       "1  2022-12-29T01:00:00+00:00  2022-12-29  01:00     6185           277.570790   \n",
       "2  2022-11-06T11:00:00+00:00  2022-11-06  11:00     4750         18590.292980   \n",
       "3  2022-11-06T19:00:00+00:00  2022-11-06  19:00     4940          2751.529461   \n",
       "4  2022-11-07T11:00:00+00:00  2022-11-07  11:00     5450          7265.089752   \n",
       "\n",
       "  Day of the Week  \n",
       "0          Quinta  \n",
       "1          Quinta  \n",
       "2         Domingo  \n",
       "3         Domingo  \n",
       "4         Segunda  "
      ],
      "text/html": [
       "<div>\n",
       "<style scoped>\n",
       "    .dataframe tbody tr th:only-of-type {\n",
       "        vertical-align: middle;\n",
       "    }\n",
       "\n",
       "    .dataframe tbody tr th {\n",
       "        vertical-align: top;\n",
       "    }\n",
       "\n",
       "    .dataframe thead th {\n",
       "        text-align: right;\n",
       "    }\n",
       "</style>\n",
       "<table border=\"1\" class=\"dataframe\">\n",
       "  <thead>\n",
       "    <tr style=\"text-align: right;\">\n",
       "      <th></th>\n",
       "      <th>Date/Time</th>\n",
       "      <th>Date</th>\n",
       "      <th>Hour</th>\n",
       "      <th>Zip Code</th>\n",
       "      <th>Active Energy (kWh)</th>\n",
       "      <th>Day of the Week</th>\n",
       "    </tr>\n",
       "  </thead>\n",
       "  <tbody>\n",
       "    <tr>\n",
       "      <th>0</th>\n",
       "      <td>2023-09-28T17:00:00+01:00</td>\n",
       "      <td>2023-09-28</td>\n",
       "      <td>17:00</td>\n",
       "      <td>2645</td>\n",
       "      <td>13458.564418</td>\n",
       "      <td>Quinta</td>\n",
       "    </tr>\n",
       "    <tr>\n",
       "      <th>1</th>\n",
       "      <td>2022-12-29T01:00:00+00:00</td>\n",
       "      <td>2022-12-29</td>\n",
       "      <td>01:00</td>\n",
       "      <td>6185</td>\n",
       "      <td>277.570790</td>\n",
       "      <td>Quinta</td>\n",
       "    </tr>\n",
       "    <tr>\n",
       "      <th>2</th>\n",
       "      <td>2022-11-06T11:00:00+00:00</td>\n",
       "      <td>2022-11-06</td>\n",
       "      <td>11:00</td>\n",
       "      <td>4750</td>\n",
       "      <td>18590.292980</td>\n",
       "      <td>Domingo</td>\n",
       "    </tr>\n",
       "    <tr>\n",
       "      <th>3</th>\n",
       "      <td>2022-11-06T19:00:00+00:00</td>\n",
       "      <td>2022-11-06</td>\n",
       "      <td>19:00</td>\n",
       "      <td>4940</td>\n",
       "      <td>2751.529461</td>\n",
       "      <td>Domingo</td>\n",
       "    </tr>\n",
       "    <tr>\n",
       "      <th>4</th>\n",
       "      <td>2022-11-07T11:00:00+00:00</td>\n",
       "      <td>2022-11-07</td>\n",
       "      <td>11:00</td>\n",
       "      <td>5450</td>\n",
       "      <td>7265.089752</td>\n",
       "      <td>Segunda</td>\n",
       "    </tr>\n",
       "  </tbody>\n",
       "</table>\n",
       "</div>"
      ]
     },
     "execution_count": 10,
     "metadata": {},
     "output_type": "execute_result"
    }
   ],
   "execution_count": 10
  },
  {
   "metadata": {
    "ExecuteTime": {
     "end_time": "2025-04-05T18:14:29.901705Z",
     "start_time": "2025-04-05T18:14:29.877428Z"
    }
   },
   "cell_type": "code",
   "source": [
    "# Visualizar últimas linhas\n",
    "df.tail()  # últimos 5 registos"
   ],
   "id": "f6ffa242fdca7555",
   "outputs": [
    {
     "data": {
      "text/plain": [
       "                         Date/Time        Date   Hour Zip Code  \\\n",
       "3727434  2022-11-01T14:00:00+00:00  2022-11-01  14:00     4585   \n",
       "3727435  2022-11-14T15:00:00+00:00  2022-11-14  15:00     4820   \n",
       "3727436  2022-11-15T14:00:00+00:00  2022-11-15  14:00     4605   \n",
       "3727437  2022-11-23T10:00:00+00:00  2022-11-23  10:00     1675   \n",
       "3727438  2022-11-21T00:00:00+00:00  2022-11-21  00:00     2090   \n",
       "\n",
       "         Active Energy (kWh) Day of the Week  \n",
       "3727434          7878.397224           Terça  \n",
       "3727435         20667.292046         Segunda  \n",
       "3727436          2516.984028           Terça  \n",
       "3727437          4378.910390          Quarta  \n",
       "3727438          2748.289623         Segunda  "
      ],
      "text/html": [
       "<div>\n",
       "<style scoped>\n",
       "    .dataframe tbody tr th:only-of-type {\n",
       "        vertical-align: middle;\n",
       "    }\n",
       "\n",
       "    .dataframe tbody tr th {\n",
       "        vertical-align: top;\n",
       "    }\n",
       "\n",
       "    .dataframe thead th {\n",
       "        text-align: right;\n",
       "    }\n",
       "</style>\n",
       "<table border=\"1\" class=\"dataframe\">\n",
       "  <thead>\n",
       "    <tr style=\"text-align: right;\">\n",
       "      <th></th>\n",
       "      <th>Date/Time</th>\n",
       "      <th>Date</th>\n",
       "      <th>Hour</th>\n",
       "      <th>Zip Code</th>\n",
       "      <th>Active Energy (kWh)</th>\n",
       "      <th>Day of the Week</th>\n",
       "    </tr>\n",
       "  </thead>\n",
       "  <tbody>\n",
       "    <tr>\n",
       "      <th>3727434</th>\n",
       "      <td>2022-11-01T14:00:00+00:00</td>\n",
       "      <td>2022-11-01</td>\n",
       "      <td>14:00</td>\n",
       "      <td>4585</td>\n",
       "      <td>7878.397224</td>\n",
       "      <td>Terça</td>\n",
       "    </tr>\n",
       "    <tr>\n",
       "      <th>3727435</th>\n",
       "      <td>2022-11-14T15:00:00+00:00</td>\n",
       "      <td>2022-11-14</td>\n",
       "      <td>15:00</td>\n",
       "      <td>4820</td>\n",
       "      <td>20667.292046</td>\n",
       "      <td>Segunda</td>\n",
       "    </tr>\n",
       "    <tr>\n",
       "      <th>3727436</th>\n",
       "      <td>2022-11-15T14:00:00+00:00</td>\n",
       "      <td>2022-11-15</td>\n",
       "      <td>14:00</td>\n",
       "      <td>4605</td>\n",
       "      <td>2516.984028</td>\n",
       "      <td>Terça</td>\n",
       "    </tr>\n",
       "    <tr>\n",
       "      <th>3727437</th>\n",
       "      <td>2022-11-23T10:00:00+00:00</td>\n",
       "      <td>2022-11-23</td>\n",
       "      <td>10:00</td>\n",
       "      <td>1675</td>\n",
       "      <td>4378.910390</td>\n",
       "      <td>Quarta</td>\n",
       "    </tr>\n",
       "    <tr>\n",
       "      <th>3727438</th>\n",
       "      <td>2022-11-21T00:00:00+00:00</td>\n",
       "      <td>2022-11-21</td>\n",
       "      <td>00:00</td>\n",
       "      <td>2090</td>\n",
       "      <td>2748.289623</td>\n",
       "      <td>Segunda</td>\n",
       "    </tr>\n",
       "  </tbody>\n",
       "</table>\n",
       "</div>"
      ]
     },
     "execution_count": 11,
     "metadata": {},
     "output_type": "execute_result"
    }
   ],
   "execution_count": 11
  },
  {
   "metadata": {},
   "cell_type": "markdown",
   "source": [
    "# Engenharia de features\n",
    "| Feature    | Para que serve?                                |\n",
    "|------------|------------------------------------------------|\n",
    "| Day        | Captura ciclos diários                         |\n",
    "| Month      | Captura sazonalidade mensal                    |\n",
    "| Is_Weekend | 1 se for sábado ou domingo, senão 0            |\n",
    "| Is_Night   | Útil porque o consumo e diferente de madrugada |\n",
    "| Season     | \tCaptura efeitos climáticos ou sazonais amplos |"
   ],
   "id": "50d83723dccd0be8"
  },
  {
   "metadata": {
    "ExecuteTime": {
     "end_time": "2025-04-05T18:14:38.674988Z",
     "start_time": "2025-04-05T18:14:30.392974Z"
    }
   },
   "cell_type": "code",
   "source": [
    "# Eliminar a coluna Date/Time\n",
    "df.drop(columns=['Date/Time'], inplace=True)\n",
    "\n",
    "#  Criar a coluna Datetime\n",
    "df['Datetime'] = pd.to_datetime(df['Date'] + ' ' + df['Hour'], format='%Y-%m-%d %H:%M')\n",
    "\n",
    "# Extrair a hora como número inteiro (ex: 23 de '23:00')\n",
    "df['Hour'] = pd.to_datetime(df['Hour'], format='%H:%M').dt.hour\n",
    "\n",
    "#  Criar a coluna Day\n",
    "df['Day'] = df['Datetime'].dt.day\n",
    "\n",
    "#  Criar a coluna Month\n",
    "df['Month'] = df['Datetime'].dt.month\n",
    "\n",
    "#  Criar a coluna Year\n",
    "df['Year'] = df['Datetime'].dt.year\n",
    "\n",
    "#  Criar a coluna Is_Weekend\n",
    "df['Is_Weekend'] = df['Day of the Week'].isin(['Sábado', 'Domingo']).astype(int)\n",
    "\n",
    "#  Criar a coluna Is_Night\n",
    "df['Is_Night'] = df['Hour'].between(0, 6).astype(int)\n",
    "\n",
    "#  Criar a coluna Season\n",
    "def get_season(month):\n",
    "    if month in [12, 1, 2]:\n",
    "        return 'Inverno'\n",
    "    elif month in [3, 4, 5]:\n",
    "        return 'Primavera'\n",
    "    elif month in [6, 7, 8]:\n",
    "        return 'Verão'\n",
    "    else:\n",
    "        return 'Outono'\n",
    "\n",
    "df['Season'] = df['Month'].apply(get_season)\n",
    "\n",
    "\n",
    "df.head()"
   ],
   "id": "50e9b357926b7a64",
   "outputs": [
    {
     "data": {
      "text/plain": [
       "         Date  Hour Zip Code  Active Energy (kWh) Day of the Week  \\\n",
       "0  2023-09-28    17     2645         13458.564418          Quinta   \n",
       "1  2022-12-29     1     6185           277.570790          Quinta   \n",
       "2  2022-11-06    11     4750         18590.292980         Domingo   \n",
       "3  2022-11-06    19     4940          2751.529461         Domingo   \n",
       "4  2022-11-07    11     5450          7265.089752         Segunda   \n",
       "\n",
       "             Datetime  Day  Month  Year  Is_Weekend  Is_Night   Season  \n",
       "0 2023-09-28 17:00:00   28      9  2023           0         0   Outono  \n",
       "1 2022-12-29 01:00:00   29     12  2022           0         1  Inverno  \n",
       "2 2022-11-06 11:00:00    6     11  2022           1         0   Outono  \n",
       "3 2022-11-06 19:00:00    6     11  2022           1         0   Outono  \n",
       "4 2022-11-07 11:00:00    7     11  2022           0         0   Outono  "
      ],
      "text/html": [
       "<div>\n",
       "<style scoped>\n",
       "    .dataframe tbody tr th:only-of-type {\n",
       "        vertical-align: middle;\n",
       "    }\n",
       "\n",
       "    .dataframe tbody tr th {\n",
       "        vertical-align: top;\n",
       "    }\n",
       "\n",
       "    .dataframe thead th {\n",
       "        text-align: right;\n",
       "    }\n",
       "</style>\n",
       "<table border=\"1\" class=\"dataframe\">\n",
       "  <thead>\n",
       "    <tr style=\"text-align: right;\">\n",
       "      <th></th>\n",
       "      <th>Date</th>\n",
       "      <th>Hour</th>\n",
       "      <th>Zip Code</th>\n",
       "      <th>Active Energy (kWh)</th>\n",
       "      <th>Day of the Week</th>\n",
       "      <th>Datetime</th>\n",
       "      <th>Day</th>\n",
       "      <th>Month</th>\n",
       "      <th>Year</th>\n",
       "      <th>Is_Weekend</th>\n",
       "      <th>Is_Night</th>\n",
       "      <th>Season</th>\n",
       "    </tr>\n",
       "  </thead>\n",
       "  <tbody>\n",
       "    <tr>\n",
       "      <th>0</th>\n",
       "      <td>2023-09-28</td>\n",
       "      <td>17</td>\n",
       "      <td>2645</td>\n",
       "      <td>13458.564418</td>\n",
       "      <td>Quinta</td>\n",
       "      <td>2023-09-28 17:00:00</td>\n",
       "      <td>28</td>\n",
       "      <td>9</td>\n",
       "      <td>2023</td>\n",
       "      <td>0</td>\n",
       "      <td>0</td>\n",
       "      <td>Outono</td>\n",
       "    </tr>\n",
       "    <tr>\n",
       "      <th>1</th>\n",
       "      <td>2022-12-29</td>\n",
       "      <td>1</td>\n",
       "      <td>6185</td>\n",
       "      <td>277.570790</td>\n",
       "      <td>Quinta</td>\n",
       "      <td>2022-12-29 01:00:00</td>\n",
       "      <td>29</td>\n",
       "      <td>12</td>\n",
       "      <td>2022</td>\n",
       "      <td>0</td>\n",
       "      <td>1</td>\n",
       "      <td>Inverno</td>\n",
       "    </tr>\n",
       "    <tr>\n",
       "      <th>2</th>\n",
       "      <td>2022-11-06</td>\n",
       "      <td>11</td>\n",
       "      <td>4750</td>\n",
       "      <td>18590.292980</td>\n",
       "      <td>Domingo</td>\n",
       "      <td>2022-11-06 11:00:00</td>\n",
       "      <td>6</td>\n",
       "      <td>11</td>\n",
       "      <td>2022</td>\n",
       "      <td>1</td>\n",
       "      <td>0</td>\n",
       "      <td>Outono</td>\n",
       "    </tr>\n",
       "    <tr>\n",
       "      <th>3</th>\n",
       "      <td>2022-11-06</td>\n",
       "      <td>19</td>\n",
       "      <td>4940</td>\n",
       "      <td>2751.529461</td>\n",
       "      <td>Domingo</td>\n",
       "      <td>2022-11-06 19:00:00</td>\n",
       "      <td>6</td>\n",
       "      <td>11</td>\n",
       "      <td>2022</td>\n",
       "      <td>1</td>\n",
       "      <td>0</td>\n",
       "      <td>Outono</td>\n",
       "    </tr>\n",
       "    <tr>\n",
       "      <th>4</th>\n",
       "      <td>2022-11-07</td>\n",
       "      <td>11</td>\n",
       "      <td>5450</td>\n",
       "      <td>7265.089752</td>\n",
       "      <td>Segunda</td>\n",
       "      <td>2022-11-07 11:00:00</td>\n",
       "      <td>7</td>\n",
       "      <td>11</td>\n",
       "      <td>2022</td>\n",
       "      <td>0</td>\n",
       "      <td>0</td>\n",
       "      <td>Outono</td>\n",
       "    </tr>\n",
       "  </tbody>\n",
       "</table>\n",
       "</div>"
      ]
     },
     "execution_count": 12,
     "metadata": {},
     "output_type": "execute_result"
    }
   ],
   "execution_count": 12
  },
  {
   "metadata": {
    "ExecuteTime": {
     "end_time": "2025-04-05T18:14:38.888439Z",
     "start_time": "2025-04-05T18:14:38.868796Z"
    }
   },
   "cell_type": "code",
   "source": [
    " # Tarefa: Anotar problemas visíveis\n",
    "df.dtypes  #  Verifica se os tipos de dados fazem sentido"
   ],
   "id": "e8efd0c5a2fa47ac",
   "outputs": [
    {
     "data": {
      "text/plain": [
       "Date                           object\n",
       "Hour                            int32\n",
       "Zip Code                       object\n",
       "Active Energy (kWh)           float64\n",
       "Day of the Week                object\n",
       "Datetime               datetime64[ns]\n",
       "Day                             int32\n",
       "Month                           int32\n",
       "Year                            int32\n",
       "Is_Weekend                      int32\n",
       "Is_Night                        int32\n",
       "Season                         object\n",
       "dtype: object"
      ]
     },
     "execution_count": 13,
     "metadata": {},
     "output_type": "execute_result"
    }
   ],
   "execution_count": 13
  },
  {
   "metadata": {
    "ExecuteTime": {
     "end_time": "2025-04-05T18:14:45.924695Z",
     "start_time": "2025-04-05T18:14:39.260219Z"
    }
   },
   "cell_type": "code",
   "source": [
    "# Verifica valores ausentes ou duplicados\n",
    "df.isnull().sum()\n",
    "df.duplicated().sum()"
   ],
   "id": "c748cdaf5ac7bf98",
   "outputs": [
    {
     "data": {
      "text/plain": [
       "0"
      ]
     },
     "execution_count": 14,
     "metadata": {},
     "output_type": "execute_result"
    }
   ],
   "execution_count": 14
  },
  {
   "metadata": {
    "ExecuteTime": {
     "end_time": "2025-04-05T18:14:50.392449Z",
     "start_time": "2025-04-05T18:14:45.981879Z"
    }
   },
   "cell_type": "code",
   "source": [
    "# ordenar os dados pela coluna Datetime\n",
    "df = df.sort_values(by='Datetime').reset_index(drop=True)"
   ],
   "id": "777beb8dd95664fb",
   "outputs": [],
   "execution_count": 15
  },
  {
   "metadata": {
    "ExecuteTime": {
     "end_time": "2025-04-05T18:14:50.425332Z",
     "start_time": "2025-04-05T18:14:50.405960Z"
    }
   },
   "cell_type": "code",
   "source": [
    "# Verifica se está ordenado corretamente\n",
    "df.head()  # Ver primeiros valores"
   ],
   "id": "e019061894c160dc",
   "outputs": [
    {
     "data": {
      "text/plain": [
       "         Date  Hour Zip Code  Active Energy (kWh) Day of the Week   Datetime  \\\n",
       "0  2022-11-01     0     5350           797.992437           Terça 2022-11-01   \n",
       "1  2022-11-01     0     3780         10290.290400           Terça 2022-11-01   \n",
       "2  2022-11-01     0     7595           422.903665           Terça 2022-11-01   \n",
       "3  2022-11-01     0     2950         19649.659297           Terça 2022-11-01   \n",
       "4  2022-11-01     0     7320           974.728282           Terça 2022-11-01   \n",
       "\n",
       "   Day  Month  Year  Is_Weekend  Is_Night  Season  \n",
       "0    1     11  2022           0         1  Outono  \n",
       "1    1     11  2022           0         1  Outono  \n",
       "2    1     11  2022           0         1  Outono  \n",
       "3    1     11  2022           0         1  Outono  \n",
       "4    1     11  2022           0         1  Outono  "
      ],
      "text/html": [
       "<div>\n",
       "<style scoped>\n",
       "    .dataframe tbody tr th:only-of-type {\n",
       "        vertical-align: middle;\n",
       "    }\n",
       "\n",
       "    .dataframe tbody tr th {\n",
       "        vertical-align: top;\n",
       "    }\n",
       "\n",
       "    .dataframe thead th {\n",
       "        text-align: right;\n",
       "    }\n",
       "</style>\n",
       "<table border=\"1\" class=\"dataframe\">\n",
       "  <thead>\n",
       "    <tr style=\"text-align: right;\">\n",
       "      <th></th>\n",
       "      <th>Date</th>\n",
       "      <th>Hour</th>\n",
       "      <th>Zip Code</th>\n",
       "      <th>Active Energy (kWh)</th>\n",
       "      <th>Day of the Week</th>\n",
       "      <th>Datetime</th>\n",
       "      <th>Day</th>\n",
       "      <th>Month</th>\n",
       "      <th>Year</th>\n",
       "      <th>Is_Weekend</th>\n",
       "      <th>Is_Night</th>\n",
       "      <th>Season</th>\n",
       "    </tr>\n",
       "  </thead>\n",
       "  <tbody>\n",
       "    <tr>\n",
       "      <th>0</th>\n",
       "      <td>2022-11-01</td>\n",
       "      <td>0</td>\n",
       "      <td>5350</td>\n",
       "      <td>797.992437</td>\n",
       "      <td>Terça</td>\n",
       "      <td>2022-11-01</td>\n",
       "      <td>1</td>\n",
       "      <td>11</td>\n",
       "      <td>2022</td>\n",
       "      <td>0</td>\n",
       "      <td>1</td>\n",
       "      <td>Outono</td>\n",
       "    </tr>\n",
       "    <tr>\n",
       "      <th>1</th>\n",
       "      <td>2022-11-01</td>\n",
       "      <td>0</td>\n",
       "      <td>3780</td>\n",
       "      <td>10290.290400</td>\n",
       "      <td>Terça</td>\n",
       "      <td>2022-11-01</td>\n",
       "      <td>1</td>\n",
       "      <td>11</td>\n",
       "      <td>2022</td>\n",
       "      <td>0</td>\n",
       "      <td>1</td>\n",
       "      <td>Outono</td>\n",
       "    </tr>\n",
       "    <tr>\n",
       "      <th>2</th>\n",
       "      <td>2022-11-01</td>\n",
       "      <td>0</td>\n",
       "      <td>7595</td>\n",
       "      <td>422.903665</td>\n",
       "      <td>Terça</td>\n",
       "      <td>2022-11-01</td>\n",
       "      <td>1</td>\n",
       "      <td>11</td>\n",
       "      <td>2022</td>\n",
       "      <td>0</td>\n",
       "      <td>1</td>\n",
       "      <td>Outono</td>\n",
       "    </tr>\n",
       "    <tr>\n",
       "      <th>3</th>\n",
       "      <td>2022-11-01</td>\n",
       "      <td>0</td>\n",
       "      <td>2950</td>\n",
       "      <td>19649.659297</td>\n",
       "      <td>Terça</td>\n",
       "      <td>2022-11-01</td>\n",
       "      <td>1</td>\n",
       "      <td>11</td>\n",
       "      <td>2022</td>\n",
       "      <td>0</td>\n",
       "      <td>1</td>\n",
       "      <td>Outono</td>\n",
       "    </tr>\n",
       "    <tr>\n",
       "      <th>4</th>\n",
       "      <td>2022-11-01</td>\n",
       "      <td>0</td>\n",
       "      <td>7320</td>\n",
       "      <td>974.728282</td>\n",
       "      <td>Terça</td>\n",
       "      <td>2022-11-01</td>\n",
       "      <td>1</td>\n",
       "      <td>11</td>\n",
       "      <td>2022</td>\n",
       "      <td>0</td>\n",
       "      <td>1</td>\n",
       "      <td>Outono</td>\n",
       "    </tr>\n",
       "  </tbody>\n",
       "</table>\n",
       "</div>"
      ]
     },
     "execution_count": 16,
     "metadata": {},
     "output_type": "execute_result"
    }
   ],
   "execution_count": 16
  },
  {
   "metadata": {
    "ExecuteTime": {
     "end_time": "2025-04-05T18:14:50.531062Z",
     "start_time": "2025-04-05T18:14:50.510042Z"
    }
   },
   "cell_type": "code",
   "source": "df.tail()  # Ver últimos valores",
   "id": "525d7519e048998f",
   "outputs": [
    {
     "data": {
      "text/plain": [
       "               Date  Hour Zip Code  Active Energy (kWh) Day of the Week  \\\n",
       "3727434  2023-09-30    23     4560          9738.156651          Sábado   \n",
       "3727435  2023-09-30    23     2845          7462.400572          Sábado   \n",
       "3727436  2023-09-30    23     3025          3889.286949          Sábado   \n",
       "3727437  2023-09-30    23     5340          2527.463359          Sábado   \n",
       "3727438  2023-09-30    23     7780         34065.882374          Sábado   \n",
       "\n",
       "                   Datetime  Day  Month  Year  Is_Weekend  Is_Night  Season  \n",
       "3727434 2023-09-30 23:00:00   30      9  2023           1         0  Outono  \n",
       "3727435 2023-09-30 23:00:00   30      9  2023           1         0  Outono  \n",
       "3727436 2023-09-30 23:00:00   30      9  2023           1         0  Outono  \n",
       "3727437 2023-09-30 23:00:00   30      9  2023           1         0  Outono  \n",
       "3727438 2023-09-30 23:00:00   30      9  2023           1         0  Outono  "
      ],
      "text/html": [
       "<div>\n",
       "<style scoped>\n",
       "    .dataframe tbody tr th:only-of-type {\n",
       "        vertical-align: middle;\n",
       "    }\n",
       "\n",
       "    .dataframe tbody tr th {\n",
       "        vertical-align: top;\n",
       "    }\n",
       "\n",
       "    .dataframe thead th {\n",
       "        text-align: right;\n",
       "    }\n",
       "</style>\n",
       "<table border=\"1\" class=\"dataframe\">\n",
       "  <thead>\n",
       "    <tr style=\"text-align: right;\">\n",
       "      <th></th>\n",
       "      <th>Date</th>\n",
       "      <th>Hour</th>\n",
       "      <th>Zip Code</th>\n",
       "      <th>Active Energy (kWh)</th>\n",
       "      <th>Day of the Week</th>\n",
       "      <th>Datetime</th>\n",
       "      <th>Day</th>\n",
       "      <th>Month</th>\n",
       "      <th>Year</th>\n",
       "      <th>Is_Weekend</th>\n",
       "      <th>Is_Night</th>\n",
       "      <th>Season</th>\n",
       "    </tr>\n",
       "  </thead>\n",
       "  <tbody>\n",
       "    <tr>\n",
       "      <th>3727434</th>\n",
       "      <td>2023-09-30</td>\n",
       "      <td>23</td>\n",
       "      <td>4560</td>\n",
       "      <td>9738.156651</td>\n",
       "      <td>Sábado</td>\n",
       "      <td>2023-09-30 23:00:00</td>\n",
       "      <td>30</td>\n",
       "      <td>9</td>\n",
       "      <td>2023</td>\n",
       "      <td>1</td>\n",
       "      <td>0</td>\n",
       "      <td>Outono</td>\n",
       "    </tr>\n",
       "    <tr>\n",
       "      <th>3727435</th>\n",
       "      <td>2023-09-30</td>\n",
       "      <td>23</td>\n",
       "      <td>2845</td>\n",
       "      <td>7462.400572</td>\n",
       "      <td>Sábado</td>\n",
       "      <td>2023-09-30 23:00:00</td>\n",
       "      <td>30</td>\n",
       "      <td>9</td>\n",
       "      <td>2023</td>\n",
       "      <td>1</td>\n",
       "      <td>0</td>\n",
       "      <td>Outono</td>\n",
       "    </tr>\n",
       "    <tr>\n",
       "      <th>3727436</th>\n",
       "      <td>2023-09-30</td>\n",
       "      <td>23</td>\n",
       "      <td>3025</td>\n",
       "      <td>3889.286949</td>\n",
       "      <td>Sábado</td>\n",
       "      <td>2023-09-30 23:00:00</td>\n",
       "      <td>30</td>\n",
       "      <td>9</td>\n",
       "      <td>2023</td>\n",
       "      <td>1</td>\n",
       "      <td>0</td>\n",
       "      <td>Outono</td>\n",
       "    </tr>\n",
       "    <tr>\n",
       "      <th>3727437</th>\n",
       "      <td>2023-09-30</td>\n",
       "      <td>23</td>\n",
       "      <td>5340</td>\n",
       "      <td>2527.463359</td>\n",
       "      <td>Sábado</td>\n",
       "      <td>2023-09-30 23:00:00</td>\n",
       "      <td>30</td>\n",
       "      <td>9</td>\n",
       "      <td>2023</td>\n",
       "      <td>1</td>\n",
       "      <td>0</td>\n",
       "      <td>Outono</td>\n",
       "    </tr>\n",
       "    <tr>\n",
       "      <th>3727438</th>\n",
       "      <td>2023-09-30</td>\n",
       "      <td>23</td>\n",
       "      <td>7780</td>\n",
       "      <td>34065.882374</td>\n",
       "      <td>Sábado</td>\n",
       "      <td>2023-09-30 23:00:00</td>\n",
       "      <td>30</td>\n",
       "      <td>9</td>\n",
       "      <td>2023</td>\n",
       "      <td>1</td>\n",
       "      <td>0</td>\n",
       "      <td>Outono</td>\n",
       "    </tr>\n",
       "  </tbody>\n",
       "</table>\n",
       "</div>"
      ]
     },
     "execution_count": 17,
     "metadata": {},
     "output_type": "execute_result"
    }
   ],
   "execution_count": 17
  },
  {
   "metadata": {
    "ExecuteTime": {
     "end_time": "2025-04-05T18:15:31.290093Z",
     "start_time": "2025-04-05T18:14:50.867523Z"
    }
   },
   "cell_type": "code",
   "source": [
    "# Guardar versão limpa do dataset como .csv\n",
    "df = df[df['Active Energy (kWh)'] >= 0]\n",
    "df.to_csv('datasets/consumo_eredes_limpo.csv', index=False)"
   ],
   "id": "3a36ae89cbb19555",
   "outputs": [],
   "execution_count": 18
  },
  {
   "metadata": {},
   "cell_type": "markdown",
   "source": [
    "### Dataset Limpo\n",
    "- Nome: `consumo_eredes_limpo.csv`\n",
    "- Colunas mantidas: `Zip Code`, `Active Energy (kWh)`, `Day of the Week`\n",
    "- Colunas criadas: `Datetime`\n",
    "- Index ordenado cronologicamente"
   ],
   "id": "6ed7c7e886d19ed5"
  }
 ],
 "metadata": {
  "kernelspec": {
   "display_name": "Python 3",
   "language": "python",
   "name": "python3"
  },
  "language_info": {
   "codemirror_mode": {
    "name": "ipython",
    "version": 2
   },
   "file_extension": ".py",
   "mimetype": "text/x-python",
   "name": "python",
   "nbconvert_exporter": "python",
   "pygments_lexer": "ipython2",
   "version": "2.7.6"
  }
 },
 "nbformat": 4,
 "nbformat_minor": 5
}

{
 "cells": [
  {
   "cell_type": "code",
   "id": "initial_id",
   "metadata": {
    "collapsed": true,
    "ExecuteTime": {
     "end_time": "2025-05-22T08:09:59.313098Z",
     "start_time": "2025-05-22T08:09:38.661910Z"
    }
   },
   "source": [
    "import pandas as pd\n",
    "import numpy as np\n",
    "import matplotlib.pyplot as plt\n",
    "\n",
    "from sklearn.pipeline import Pipeline\n",
    "from sklearn.preprocessing import StandardScaler\n",
    "from sklearn.compose import ColumnTransformer\n",
    "from sklearn.ensemble import RandomForestRegressor\n",
    "from joblib import dump, load\n",
    "\n",
    "from autogluon.timeseries import TimeSeriesDataFrame, TimeSeriesPredictor\n",
    "from sklearn.metrics import mean_absolute_error, mean_squared_error, r2_score\n",
    "from autogluon.timeseries import TimeSeriesDataFrame, TimeSeriesPredictor\n",
    "import json"
   ],
   "outputs": [
    {
     "name": "stderr",
     "output_type": "stream",
     "text": [
      "C:\\Users\\Alice Dias\\AppData\\Local\\Packages\\PythonSoftwareFoundation.Python.3.11_qbz5n2kfra8p0\\LocalCache\\local-packages\\Python311\\site-packages\\tqdm\\auto.py:21: TqdmWarning: IProgress not found. Please update jupyter and ipywidgets. See https://ipywidgets.readthedocs.io/en/stable/user_install.html\n",
      "  from .autonotebook import tqdm as notebook_tqdm\n"
     ]
    }
   ],
   "execution_count": 1
  },
  {
   "metadata": {},
   "cell_type": "markdown",
   "source": "#### 💾CARREGA E AGRUPA POR DIA",
   "id": "b45e86f769bba0d3"
  },
  {
   "metadata": {
    "ExecuteTime": {
     "end_time": "2025-05-22T08:10:55.914651Z",
     "start_time": "2025-05-22T08:10:53.913298Z"
    }
   },
   "cell_type": "code",
   "source": [
    "df = pd.read_parquet('datasets/consumo_eredes_normalizado.parquet')\n",
    "\n",
    "# filtra CP 4610, converte e ordena\n",
    "df_cp = df[df[\"ZipCode\"] == \"4610\"].copy()\n",
    "df_cp[\"DateTime\"] = pd.to_datetime(df_cp[\"DateTime\"])\n",
    "df_cp = df_cp.sort_values(\"DateTime\")\n",
    "\n",
    "# agrega média diária de ActiveEnergy(kWh)\n",
    "daily = (\n",
    "    df_cp\n",
    "    .set_index(\"DateTime\")\n",
    "    .resample(\"D\")[\"ActiveEnergy(kWh)\"]\n",
    "    .mean()\n",
    "    .to_frame(\"ActiveEnergy\")\n",
    "    .reset_index()\n",
    ")"
   ],
   "id": "be6e5046e1bf43d5",
   "outputs": [],
   "execution_count": 2
  },
  {
   "metadata": {},
   "cell_type": "markdown",
   "source": "#### CRIA LAG DE 7 DIAS (exógena)",
   "id": "c235204774a8605d"
  },
  {
   "metadata": {
    "ExecuteTime": {
     "end_time": "2025-05-22T08:10:56.566228Z",
     "start_time": "2025-05-22T08:10:56.552698Z"
    }
   },
   "cell_type": "code",
   "source": [
    "daily[\"lag_7\"] = daily[\"ActiveEnergy\"].shift(7)\n",
    "\n",
    "# descarta primeiras 7 linhas com NaN\n",
    "daily = daily.dropna().reset_index(drop=True)\n",
    "\n",
    "# marca sempre o mesmo id (\"4610\") para montar o TimeSeriesDataFrame\n",
    "daily[\"ZipCode\"] = \"4610\"\n",
    "\n",
    "# extrai static feature\n",
    "static_feats = df_cp[[\"ZipCode\",\"PopulationDensity\"]].drop_duplicates()"
   ],
   "id": "be3ed89ac633d30e",
   "outputs": [],
   "execution_count": 3
  },
  {
   "metadata": {},
   "cell_type": "markdown",
   "source": "#### MONTA O TimeSeriesDataFrame",
   "id": "62876531ba18c956"
  },
  {
   "metadata": {
    "ExecuteTime": {
     "end_time": "2025-05-22T08:10:58.733489Z",
     "start_time": "2025-05-22T08:10:58.722563Z"
    }
   },
   "cell_type": "code",
   "source": [
    "ts_df = TimeSeriesDataFrame.from_data_frame(\n",
    "    daily,\n",
    "    id_column=\"ZipCode\",\n",
    "    timestamp_column=\"DateTime\",\n",
    "    static_features_df=static_feats\n",
    ")"
   ],
   "id": "eb34c24490650720",
   "outputs": [],
   "execution_count": 4
  },
  {
   "metadata": {},
   "cell_type": "markdown",
   "source": "#### 🛠 SPLIT TREINO/TESTE: últimos 7 dias em teste",
   "id": "76995011f4303931"
  },
  {
   "metadata": {
    "ExecuteTime": {
     "end_time": "2025-05-22T08:11:01.288593Z",
     "start_time": "2025-05-22T08:11:01.279980Z"
    }
   },
   "cell_type": "code",
   "source": [
    "prediction_length=7\n",
    "train_daily, test_daily = ts_df.train_test_split(prediction_length=prediction_length)"
   ],
   "id": "60f626f32a47decb",
   "outputs": [],
   "execution_count": 5
  },
  {
   "metadata": {},
   "cell_type": "markdown",
   "source": [
    "# Modelos Tradicionais (Baseline)\n",
    "# 📊ARIMA\n",
    "#### 💾 (Opcional) Carregar um modelo existente"
   ],
   "id": "cbf8f9011d6f49bc"
  },
  {
   "metadata": {
    "ExecuteTime": {
     "end_time": "2025-05-22T08:11:04.031878Z",
     "start_time": "2025-05-22T08:11:04.001062Z"
    }
   },
   "cell_type": "code",
   "source": "predictor_arima = TimeSeriesPredictor.load(\"./predicts/ARIMA_daily/modelo/\")",
   "id": "11b0c0bceba1377a",
   "outputs": [],
   "execution_count": 6
  },
  {
   "metadata": {},
   "cell_type": "markdown",
   "source": "#### 🛠️ Treinar",
   "id": "c38c7b1e15f2fe2c"
  },
  {
   "metadata": {
    "ExecuteTime": {
     "end_time": "2025-05-21T17:36:50.398538Z",
     "start_time": "2025-05-21T17:36:50.298301Z"
    }
   },
   "cell_type": "code",
   "source": [
    "predictor_arima = TimeSeriesPredictor(\n",
    "    target=\"ActiveEnergy\",\n",
    "    freq=\"D\",\n",
    "    prediction_length=prediction_length,\n",
    "    path=\"predicts/ARIMA_daily/modelo\",\n",
    "    verbosity=2\n",
    ").fit(\n",
    "    train_data=train_daily,\n",
    "    tuning_data=test_daily,\n",
    "    hyperparameters={\n",
    "        \"ARIMAModel\": {\n",
    "            \"order\": (1, 1, 1),            # (p, d, q)\n",
    "            \"seasonal_order\": (1, 0, 1, 7),# (P, D, Q, m)\n",
    "            \"target_scaler\": \"standard\"   # normaliza o target\n",
    "        }\n",
    "    },\n",
    "    time_limit=300,\n",
    "    presets=\"medium_quality\",\n",
    "    skip_model_selection=True      # força só ARIMA, sem ensembles\n",
    ")\n",
    "\n",
    "# Salva o modelo\n",
    "predictor_arima.save()"
   ],
   "id": "d72376c14fa51a6e",
   "outputs": [
    {
     "name": "stderr",
     "output_type": "stream",
     "text": [
      "Warning: path already exists! This predictor may overwrite an existing predictor! path=\"predicts/ARIMA_daily/modelo\"\n",
      "Beginning AutoGluon training... Time limit = 300s\n",
      "AutoGluon will save models to 'D:\\githubProjects\\previsao-do-consumo-energetico-com-ml\\predicts\\ARIMA_daily\\modelo'\n",
      "=================== System Info ===================\n",
      "AutoGluon Version:  1.2\n",
      "Python Version:     3.11.9\n",
      "Operating System:   Windows\n",
      "Platform Machine:   AMD64\n",
      "Platform Version:   10.0.26100\n",
      "CPU Count:          12\n",
      "GPU Count:          0\n",
      "Memory Avail:       3.69 GB / 15.93 GB (23.2%)\n",
      "Disk Space Avail:   690.66 GB / 931.46 GB (74.1%)\n",
      "===================================================\n",
      "Setting presets to: medium_quality\n",
      "\n",
      "Fitting with arguments:\n",
      "{'enable_ensemble': True,\n",
      " 'eval_metric': WQL,\n",
      " 'freq': 'D',\n",
      " 'hyperparameters': {'ARIMAModel': {'order': (1, 1, 1),\n",
      "                                    'seasonal_order': (1, 0, 1, 7),\n",
      "                                    'target_scaler': 'standard'}},\n",
      " 'known_covariates_names': [],\n",
      " 'num_val_windows': 1,\n",
      " 'prediction_length': 7,\n",
      " 'quantile_levels': [0.1, 0.2, 0.3, 0.4, 0.5, 0.6, 0.7, 0.8, 0.9],\n",
      " 'random_seed': 123,\n",
      " 'refit_every_n_windows': 1,\n",
      " 'refit_full': False,\n",
      " 'skip_model_selection': True,\n",
      " 'target': 'ActiveEnergy',\n",
      " 'time_limit': 300,\n",
      " 'verbosity': 2}\n",
      "\n",
      "Provided train_data has 320 rows, 1 time series. Median time series length is 320 (min=320, max=320). \n",
      "Provided tuning_data has 327 rows, 1 time series. Median time series length is 327 (min=327, max=327). \n",
      "\tSetting num_val_windows = 0 (disabling backtesting on train_data) because tuning_data is provided.\n",
      "\n",
      "Provided data contains following columns:\n",
      "\ttarget: 'ActiveEnergy'\n",
      "\tpast_covariates:\n",
      "\t\tcategorical:        []\n",
      "\t\tcontinuous (float): ['lag_7']\n",
      "\tstatic_features:\n",
      "\t\tcategorical:        []\n",
      "\t\tcontinuous (float): ['PopulationDensity']\n",
      "\n",
      "To learn how to fix incorrectly inferred types, please see documentation for TimeSeriesPredictor.fit\n",
      "\n",
      "AutoGluon will gauge predictive performance using evaluation metric: 'WQL'\n",
      "\tThis metric's sign has been flipped to adhere to being higher_is_better. The metric score can be multiplied by -1 to get the metric value.\n",
      "===================================================\n",
      "\n",
      "Starting training. Start time is 2025-05-21 18:36:50\n",
      "Models that will be trained: ['ARIMA']\n",
      "Training timeseries model ARIMA. Training for up to 300.0s of the 300.0s of remaining time.\n",
      "\t0.01    s     = Training runtime\n",
      "Training complete. Models trained: ['ARIMA']\n",
      "Total runtime: 0.02 s\n",
      "Best model: ARIMA\n"
     ]
    }
   ],
   "execution_count": 62
  },
  {
   "metadata": {},
   "cell_type": "markdown",
   "source": "#### 🔮 Previsão com os dados de treino",
   "id": "39e0be5d9717e327"
  },
  {
   "metadata": {
    "ExecuteTime": {
     "end_time": "2025-05-22T08:11:07.864092Z",
     "start_time": "2025-05-22T08:11:07.814324Z"
    }
   },
   "cell_type": "code",
   "source": [
    "# faz a previsão dos próximos 7 dias\n",
    "future_preds = predictor_arima.predict(train_daily)\n",
    "\n",
    "# extrai o quantil 0.5 e “desempacota” o índice de item_id\n",
    "y_pred = future_preds[\"0.5\"].droplevel(0)\n",
    "y_true_full = test_daily[\"ActiveEnergy\"].droplevel(0)\n",
    "\n",
    "# extrai só os 7 valores reais que estão em test_daily\n",
    "y_true = y_true_full.iloc[-7:]"
   ],
   "id": "701445eeb8c45ac6",
   "outputs": [
    {
     "name": "stdout",
     "output_type": "stream",
     "text": [
      "y_true.shape: (7,)\n",
      "y_pred.shape: (7,)\n"
     ]
    }
   ],
   "execution_count": 7
  },
  {
   "metadata": {},
   "cell_type": "markdown",
   "source": "#### 📊  Avaliação do modelo",
   "id": "ec451cc43e2277fa"
  },
  {
   "metadata": {
    "ExecuteTime": {
     "end_time": "2025-05-22T08:11:13.119195Z",
     "start_time": "2025-05-22T08:11:13.110127Z"
    }
   },
   "cell_type": "code",
   "source": [
    "mae  = mean_absolute_error(y_true, y_pred)\n",
    "mse  = mean_squared_error(y_true, y_pred)\n",
    "rmse = mse**0.5\n",
    "mape = (np.abs((y_true - y_pred) / y_true) * 100).mean()\n",
    "r2   = r2_score(y_true, y_pred)\n",
    "\n",
    "print(f\"MAE:  {mae:.5f}\")\n",
    "print(f\"MSE:  {mse:.5f}\")\n",
    "print(f\"RMSE: {rmse:.5f}\")\n",
    "print(f\"MAPE: {mape:.5f}%\")\n",
    "print(f\"R²:   {r2:.5f}\")"
   ],
   "id": "c8aa5e6e916a7305",
   "outputs": [
    {
     "name": "stdout",
     "output_type": "stream",
     "text": [
      "MAE:  290.85553\n",
      "MSE:  122719.42992\n",
      "RMSE: 350.31333\n",
      "MAPE: 3.22017%\n",
      "R²:   0.96791\n"
     ]
    }
   ],
   "execution_count": 8
  },
  {
   "metadata": {},
   "cell_type": "markdown",
   "source": [
    "### 📊 **Métricas de Avaliação**\n",
    "\n",
    "| Métrica                                     | Valor | Interpretação |\n",
    "|---------------------------------------------|-------|---------------|\n",
    "| **MAE** (Erro Absoluto Médio)               | 290.85553 | Em média, as previsões diferem dos valores reais em cerca de 290,86 kWh. |\n",
    "| **MSE** (Erro Quadrático Médio)             | 122719.42992   | Erro médio ao quadrado, penaliza fortemente grandes desvios. |\n",
    "| **RMSE** (Raiz do Erro Quadrático Médio)    | 350.31333 | Desvio típico das previsões em relação ao real é de aproximadamente 350,31 kWh. |\n",
    "| **MAPE** (Erro Percentual Absoluto Médio)   | 3.22% | Em média, as previsões estão 3,22 % distantes dos valores reais. |\n",
    "| **R²**   | 0.96791 | O modelo explica 96,79 % da variância observada nos dados — indicativo de um bom ajuste. |"
   ],
   "id": "dc42472e4250811b"
  },
  {
   "metadata": {},
   "cell_type": "markdown",
   "source": "#### 📈 Visualização dos resultados",
   "id": "74a3628188299db9"
  },
  {
   "metadata": {
    "ExecuteTime": {
     "end_time": "2025-05-22T08:11:37.036871Z",
     "start_time": "2025-05-22T08:11:36.348175Z"
    }
   },
   "cell_type": "code",
   "source": [
    "# valor real vs previsão\n",
    "plt.figure(figsize=(10,5))\n",
    "plt.plot(y_true.index, y_true.values, marker='o', linestyle='--',  label='Valor Real',  color='green')\n",
    "plt.plot(y_pred.index, y_pred.values, marker='o', label='Previsão',  color='orange')\n",
    "plt.title(\"ARIMA Diário com lag-7 — Últimos 7 dias\")\n",
    "plt.xlabel(\"Data\")\n",
    "plt.ylabel(\"ActiveEnergy (kWh)\")\n",
    "plt.xticks(rotation=45)\n",
    "plt.grid(True)\n",
    "plt.legend()\n",
    "plt.tight_layout()\n",
    "plt.savefig(\"figuras/arima_daily_forecast.png\", dpi=300)\n",
    "plt.show()"
   ],
   "id": "8b27cfe0cc0fd4de",
   "outputs": [
    {
     "data": {
      "text/plain": [
       "<Figure size 1000x500 with 1 Axes>"
      ],
      "image/png": "[encoded data removed]"
     },
     "metadata": {},
     "output_type": "display_data"
    }
   ],
   "execution_count": 9
  }
 ],
 "metadata": {
  "kernelspec": {
   "display_name": "Python 3 (ipykernel)",
   "language": "python",
   "name": "python3"
  },
  "language_info": {
   "codemirror_mode": {
    "name": "ipython",
    "version": 2
   },
   "file_extension": ".py",
   "mimetype": "text/x-python",
   "name": "python",
   "nbconvert_exporter": "python",
   "pygments_lexer": "ipython2",
   "version": "2.7.6"
  }
 },
 "nbformat": 4,
 "nbformat_minor": 5
}

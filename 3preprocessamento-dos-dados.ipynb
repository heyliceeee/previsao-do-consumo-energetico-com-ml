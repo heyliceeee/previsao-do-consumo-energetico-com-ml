{
 "cells": [
  {
   "metadata": {},
   "cell_type": "markdown",
   "source": "# ⚙️ Pré-processamento dos Dados",
   "id": "5850b526e79c7c0a"
  },
  {
   "metadata": {
    "ExecuteTime": {
     "end_time": "2025-04-20T21:03:49.067972Z",
     "start_time": "2025-04-20T21:03:49.054492Z"
    }
   },
   "cell_type": "code",
   "source": [
    "# Importar bibliotecas necessárias\n",
    "# !pip install pandas scikit_learn numpy\n",
    "import pandas as pd\n",
    "from sklearn.preprocessing import MinMaxScaler\n",
    "from sklearn.preprocessing import StandardScaler\n",
    "import numpy as np\n",
    "import os"
   ],
   "id": "77282111ffee4961",
   "outputs": [],
   "execution_count": 7
  },
  {
   "metadata": {
    "ExecuteTime": {
     "end_time": "2025-04-20T21:03:49.804410Z",
     "start_time": "2025-04-20T21:03:49.070978Z"
    }
   },
   "cell_type": "code",
   "source": [
    "# Abrir o ficheiro\n",
    "df = pd.read_parquet('datasets/consumo_eredes_customizado.parquet')"
   ],
   "id": "22a6286c9b046ce6",
   "outputs": [],
   "execution_count": 8
  },
  {
   "metadata": {},
   "cell_type": "markdown",
   "source": [
    "# MinMaxScaler [0, 1]\n",
    "- Valores baixos de consumo (ex: 839.17) → ficam perto de 0\n",
    "- Valores mais altos de consumo (ex: 11175.02) → ficam mais perto de 1"
   ],
   "id": "33d3293ebee9a149"
  },
  {
   "metadata": {
    "ExecuteTime": {
     "end_time": "2025-04-20T21:03:49.880327Z",
     "start_time": "2025-04-20T21:03:49.819921Z"
    }
   },
   "cell_type": "code",
   "source": [
    "# Instanciar o scaler\n",
    "scaler = MinMaxScaler()\n",
    "\n",
    "# Aplicar no consumo energético\n",
    "df['EnergyNormalized'] = scaler.fit_transform(df[['ActiveEnergy(kWh)']])"
   ],
   "id": "3dba59b2042ee6cf",
   "outputs": [],
   "execution_count": 9
  },
  {
   "metadata": {},
   "cell_type": "markdown",
   "source": [
    "# StandardScaler [-♾️, +♾️]\n",
    "- positivos -> acima da media\n",
    "- negativos -> abaixo da media"
   ],
   "id": "cf46278779528bfe"
  },
  {
   "metadata": {
    "ExecuteTime": {
     "end_time": "2025-04-20T21:03:49.967945Z",
     "start_time": "2025-04-20T21:03:49.890229Z"
    }
   },
   "cell_type": "code",
   "source": [
    "scaler = StandardScaler()\n",
    "df['EnergyStandardized'] = scaler.fit_transform(df[['ActiveEnergy(kWh)']])"
   ],
   "id": "9e15c81da045eb8e",
   "outputs": [],
   "execution_count": 10
  },
  {
   "metadata": {
    "ExecuteTime": {
     "end_time": "2025-04-20T21:03:49.989536Z",
     "start_time": "2025-04-20T21:03:49.978117Z"
    }
   },
   "cell_type": "code",
   "source": "df.tail()",
   "id": "456f054b197579e1",
   "outputs": [
    {
     "data": {
      "text/plain": [
       "                   DateTime        Date  Hour ZipCode  ActiveEnergy(kWh)  Day  \\\n",
       "3719403 2023-09-30 23:00:00  2023-09-30    23    1685        3588.766159   30   \n",
       "3719404 2023-09-30 23:00:00  2023-09-30    23    3740        1849.719996   30   \n",
       "3719405 2023-09-30 23:00:00  2023-09-30    23    3750       12433.094481   30   \n",
       "3719406 2023-09-30 23:00:00  2023-09-30    23    3680        2393.029205   30   \n",
       "3719407 2023-09-30 23:00:00  2023-09-30    23    8970         720.206910   30   \n",
       "\n",
       "         Month  Year  IsWeekend TimeOfDay DayOfTheWeek  Season  IsHoliday  \\\n",
       "3719403      9  2023          1     Noite       Sábado  Outono          0   \n",
       "3719404      9  2023          1     Noite       Sábado  Outono          0   \n",
       "3719405      9  2023          1     Noite       Sábado  Outono          0   \n",
       "3719406      9  2023          1     Noite       Sábado  Outono          0   \n",
       "3719407      9  2023          1     Noite       Sábado  Outono          0   \n",
       "\n",
       "         Temperature  PopulationDensity  EnergyNormalized  EnergyStandardized  \n",
       "3719403         21.8            5455.23          0.023778           -0.562608  \n",
       "3719404         22.4            2788.79          0.012252           -0.713159  \n",
       "3719405         22.4            2788.79          0.082397            0.203054  \n",
       "3719406         20.2             196.31          0.015853           -0.666124  \n",
       "3719407         22.4             333.82          0.004766           -0.810942  "
      ],
      "text/html": [
       "<div>\n",
       "<style scoped>\n",
       "    .dataframe tbody tr th:only-of-type {\n",
       "        vertical-align: middle;\n",
       "    }\n",
       "\n",
       "    .dataframe tbody tr th {\n",
       "        vertical-align: top;\n",
       "    }\n",
       "\n",
       "    .dataframe thead th {\n",
       "        text-align: right;\n",
       "    }\n",
       "</style>\n",
       "<table border=\"1\" class=\"dataframe\">\n",
       "  <thead>\n",
       "    <tr style=\"text-align: right;\">\n",
       "      <th></th>\n",
       "      <th>DateTime</th>\n",
       "      <th>Date</th>\n",
       "      <th>Hour</th>\n",
       "      <th>ZipCode</th>\n",
       "      <th>ActiveEnergy(kWh)</th>\n",
       "      <th>Day</th>\n",
       "      <th>Month</th>\n",
       "      <th>Year</th>\n",
       "      <th>IsWeekend</th>\n",
       "      <th>TimeOfDay</th>\n",
       "      <th>DayOfTheWeek</th>\n",
       "      <th>Season</th>\n",
       "      <th>IsHoliday</th>\n",
       "      <th>Temperature</th>\n",
       "      <th>PopulationDensity</th>\n",
       "      <th>EnergyNormalized</th>\n",
       "      <th>EnergyStandardized</th>\n",
       "    </tr>\n",
       "  </thead>\n",
       "  <tbody>\n",
       "    <tr>\n",
       "      <th>3719403</th>\n",
       "      <td>2023-09-30 23:00:00</td>\n",
       "      <td>2023-09-30</td>\n",
       "      <td>23</td>\n",
       "      <td>1685</td>\n",
       "      <td>3588.766159</td>\n",
       "      <td>30</td>\n",
       "      <td>9</td>\n",
       "      <td>2023</td>\n",
       "      <td>1</td>\n",
       "      <td>Noite</td>\n",
       "      <td>Sábado</td>\n",
       "      <td>Outono</td>\n",
       "      <td>0</td>\n",
       "      <td>21.8</td>\n",
       "      <td>5455.23</td>\n",
       "      <td>0.023778</td>\n",
       "      <td>-0.562608</td>\n",
       "    </tr>\n",
       "    <tr>\n",
       "      <th>3719404</th>\n",
       "      <td>2023-09-30 23:00:00</td>\n",
       "      <td>2023-09-30</td>\n",
       "      <td>23</td>\n",
       "      <td>3740</td>\n",
       "      <td>1849.719996</td>\n",
       "      <td>30</td>\n",
       "      <td>9</td>\n",
       "      <td>2023</td>\n",
       "      <td>1</td>\n",
       "      <td>Noite</td>\n",
       "      <td>Sábado</td>\n",
       "      <td>Outono</td>\n",
       "      <td>0</td>\n",
       "      <td>22.4</td>\n",
       "      <td>2788.79</td>\n",
       "      <td>0.012252</td>\n",
       "      <td>-0.713159</td>\n",
       "    </tr>\n",
       "    <tr>\n",
       "      <th>3719405</th>\n",
       "      <td>2023-09-30 23:00:00</td>\n",
       "      <td>2023-09-30</td>\n",
       "      <td>23</td>\n",
       "      <td>3750</td>\n",
       "      <td>12433.094481</td>\n",
       "      <td>30</td>\n",
       "      <td>9</td>\n",
       "      <td>2023</td>\n",
       "      <td>1</td>\n",
       "      <td>Noite</td>\n",
       "      <td>Sábado</td>\n",
       "      <td>Outono</td>\n",
       "      <td>0</td>\n",
       "      <td>22.4</td>\n",
       "      <td>2788.79</td>\n",
       "      <td>0.082397</td>\n",
       "      <td>0.203054</td>\n",
       "    </tr>\n",
       "    <tr>\n",
       "      <th>3719406</th>\n",
       "      <td>2023-09-30 23:00:00</td>\n",
       "      <td>2023-09-30</td>\n",
       "      <td>23</td>\n",
       "      <td>3680</td>\n",
       "      <td>2393.029205</td>\n",
       "      <td>30</td>\n",
       "      <td>9</td>\n",
       "      <td>2023</td>\n",
       "      <td>1</td>\n",
       "      <td>Noite</td>\n",
       "      <td>Sábado</td>\n",
       "      <td>Outono</td>\n",
       "      <td>0</td>\n",
       "      <td>20.2</td>\n",
       "      <td>196.31</td>\n",
       "      <td>0.015853</td>\n",
       "      <td>-0.666124</td>\n",
       "    </tr>\n",
       "    <tr>\n",
       "      <th>3719407</th>\n",
       "      <td>2023-09-30 23:00:00</td>\n",
       "      <td>2023-09-30</td>\n",
       "      <td>23</td>\n",
       "      <td>8970</td>\n",
       "      <td>720.206910</td>\n",
       "      <td>30</td>\n",
       "      <td>9</td>\n",
       "      <td>2023</td>\n",
       "      <td>1</td>\n",
       "      <td>Noite</td>\n",
       "      <td>Sábado</td>\n",
       "      <td>Outono</td>\n",
       "      <td>0</td>\n",
       "      <td>22.4</td>\n",
       "      <td>333.82</td>\n",
       "      <td>0.004766</td>\n",
       "      <td>-0.810942</td>\n",
       "    </tr>\n",
       "  </tbody>\n",
       "</table>\n",
       "</div>"
      ]
     },
     "execution_count": 11,
     "metadata": {},
     "output_type": "execute_result"
    }
   ],
   "execution_count": 11
  },
  {
   "metadata": {
    "ExecuteTime": {
     "end_time": "2025-04-20T21:03:52.672307Z",
     "start_time": "2025-04-20T21:03:50.036028Z"
    }
   },
   "cell_type": "code",
   "source": [
    "df.to_parquet(\"datasets/consumo_eredes_normalizado.parquet\", index=False)\n",
    "print(\"✅ Ficheiro combinado guardado em: datasets/consumo_eredes_normalizado.parquet\")\n",
    "\n",
    "# apagar dataset antigo\n",
    "caminho_do_ficheiro = './datasets/consumo_eredes_customizado.parquet'\n",
    "os.unlink(caminho_do_ficheiro)\n",
    "print(\"✅ Ficheiro eliminado em: datasets/consumo_eredes_customizado.parquet\")"
   ],
   "id": "ecb3703c55c439de",
   "outputs": [
    {
     "name": "stdout",
     "output_type": "stream",
     "text": [
      "✅ Ficheiro combinado guardado em: datasets/consumo_eredes_normalizado.parquet\n",
      "✅ Ficheiro eliminado em: datasets/consumo_eredes_customizado.parquet\n"
     ]
    }
   ],
   "execution_count": 12
  },
  {
   "metadata": {},
   "cell_type": "markdown",
   "source": [
    "### Dataset Limpo\n",
    "- Nome: `consumo_eredes_normalizado.parquet`\n",
    "- Colunas mantidas: `Hour`, `Active Energy (kWh)`, `Day of the Week`, `DateTime`, `Date`, `Day`, `Month`, `Year`, `IsWeekend`, `TimeOfDay`, `Season`, `isHoliday`, `Temperature`, `PopulationDensity`\n",
    "- Colunas criadas: `EnergyNormalized`, `EnergyStandardized`"
   ],
   "id": "ecaeb1dbf1a761e5"
  }
 ],
 "metadata": {
  "kernelspec": {
   "display_name": "Python 3 (ipykernel)",
   "language": "python",
   "name": "python3"
  },
  "language_info": {
   "codemirror_mode": {
    "name": "ipython",
    "version": 2
   },
   "file_extension": ".py",
   "mimetype": "text/x-python",
   "name": "python",
   "nbconvert_exporter": "python",
   "pygments_lexer": "ipython2",
   "version": "2.7.6"
  }
 },
 "nbformat": 4,
 "nbformat_minor": 5
}
